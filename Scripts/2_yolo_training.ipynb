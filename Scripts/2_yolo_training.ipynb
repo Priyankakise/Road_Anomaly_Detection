{
 "cells": [
  {
   "cell_type": "markdown",
   "id": "0ca8e9eb-92af-47cb-8ecd-54d2d9b6797d",
   "metadata": {},
   "source": [
    "# extract pascal files  from label studio \n",
    "## put all image and annotations in single folder (Annotation,Image)"
   ]
  },
  {
   "cell_type": "markdown",
   "id": "c2733105-bfb3-40cd-b170-19a7846a7e05",
   "metadata": {},
   "source": [
    "# 1. create label folder"
   ]
  },
  {
   "cell_type": "code",
   "execution_count": 1,
   "id": "65ab1b3f-2bcc-4868-bbee-37f360dbd3c0",
   "metadata": {},
   "outputs": [],
   "source": [
    "import os\n",
    "import xml.etree.ElementTree as ET\n",
    "\n",
    "# Update this list with your actual class names\n",
    "classes = [\n",
    "    \"Lane mark\",\n",
    "    \"Plain road\",\n",
    "    \"Manhole\",\n",
    "    \"Divider\",\n",
    "    \"Speed bumps\",\n",
    "    \"Cracks\",\n",
    "    \"Pothole\",\n",
    "    \"Zebra crossing\",\n",
    "    \"Footpath\",\n",
    "    \"Rumble strips\",\n",
    "    \"Sign board\",\n",
    "    \"Leading lines\"\n",
    "]\n",
    "\n",
    "# Folder paths\n",
    "annotations_dir = 'E:\\\\JupyterNotebooks\\\\Road_problem\\\\yolo_pascal\\\\Annotation'\n",
    "images_dir = 'E:\\\\JupyterNotebooks\\Road_problem\\\\yolo_pascal\\\\Images'\n",
    "output_labels_dir = 'E:\\\\JupyterNotebooks\\\\Road_problem\\\\yolo_pascal\\\\labels_yolo'\n",
    "\n",
    "os.makedirs(output_labels_dir, exist_ok=True)\n",
    "\n",
    "def convert(size, box):\n",
    "    dw = 1.0 / size[0]\n",
    "    dh = 1.0 / size[1]\n",
    "    x = (box[0] + box[1]) / 2.0\n",
    "    y = (box[2] + box[3]) / 2.0\n",
    "    w = box[1] - box[0]\n",
    "    h = box[3] - box[2]\n",
    "    return (x * dw, y * dh, w * dw, h * dh)\n",
    "\n",
    "for xml_file in os.listdir(annotations_dir):\n",
    "    if not xml_file.endswith('.xml'):\n",
    "        continue\n",
    "\n",
    "    xml_path = os.path.join(annotations_dir, xml_file)\n",
    "    tree = ET.parse(xml_path)\n",
    "    root = tree.getroot()\n",
    "\n",
    "    size = root.find('size')\n",
    "    width = int(size.find('width').text)\n",
    "    height = int(size.find('height').text)\n",
    "\n",
    "    label_lines = []\n",
    "    for obj in root.iter('object'):\n",
    "        cls = obj.find('name').text\n",
    "        if cls not in classes:\n",
    "            continue\n",
    "        cls_id = classes.index(cls)\n",
    "        xmlbox = obj.find('bndbox')\n",
    "        b = (\n",
    "            float(xmlbox.find('xmin').text),\n",
    "            float(xmlbox.find('xmax').text),\n",
    "            float(xmlbox.find('ymin').text),\n",
    "            float(xmlbox.find('ymax').text)\n",
    "        )\n",
    "        bb = convert((width, height), b)\n",
    "        label_lines.append(f\"{cls_id} {' '.join([str(round(a, 6)) for a in bb])}\")\n",
    "\n",
    "    # Save as .txt file in output_labels_dir\n",
    "    txt_filename = os.path.splitext(xml_file)[0] + \".txt\"\n",
    "    txt_path = os.path.join(output_labels_dir, txt_filename)\n",
    "    with open(txt_path, \"w\") as f:\n",
    "        f.write(\"\\n\".join(label_lines))\n"
   ]
  },
  {
   "cell_type": "markdown",
   "id": "3e60c575-8146-4694-a819-22d72d6b1af0",
   "metadata": {},
   "source": [
    "# 2. Split Dataset"
   ]
  },
  {
   "cell_type": "code",
   "execution_count": 2,
   "id": "b1cf76b7-3763-43cd-8b6f-f3142982d49b",
   "metadata": {},
   "outputs": [
    {
     "name": "stdout",
     "output_type": "stream",
     "text": [
      "Dataset split completed:\n",
      "Train images: 766\n",
      "Validation images: 192\n"
     ]
    }
   ],
   "source": [
    "import os\n",
    "import shutil\n",
    "import random\n",
    "\n",
    "# Paths to original images and labels\n",
    "images_dir = r\"E:\\JupyterNotebooks\\Road_problem\\yolo_pascal\\images\"              # your images folder\n",
    "labels_dir = r\"E:\\JupyterNotebooks\\Road_problem\\yolo_pascal\\labels_yolo\"  # your YOLO labels folder\n",
    "\n",
    "# Output folders for split\n",
    "\n",
    "output_dir = r\"E:\\JupyterNotebooks\\Road_problem\\pascal_yolo_dataset\"\n",
    "train_img_dir = os.path.join(output_dir, \"images\", \"train\")\n",
    "val_img_dir = os.path.join(output_dir, \"images\", \"val\")\n",
    "train_label_dir = os.path.join(output_dir, \"labels\", \"train\")\n",
    "val_label_dir = os.path.join(output_dir, \"labels\", \"val\")\n",
    "\n",
    "# Create directories if they don't exist\n",
    "for folder in [train_img_dir, val_img_dir, train_label_dir, val_label_dir]:\n",
    "    os.makedirs(folder, exist_ok=True)\n",
    "\n",
    "# List all image files\n",
    "image_files = [f for f in os.listdir(images_dir) if f.endswith(\".jpg\") or f.endswith(\".png\")]\n",
    "random.shuffle(image_files)\n",
    "\n",
    "# Split ratio\n",
    "split_ratio = 0.8\n",
    "split_index = int(len(image_files) * split_ratio)\n",
    "\n",
    "train_files = image_files[:split_index]\n",
    "val_files = image_files[split_index:]\n",
    "\n",
    "def copy_files(file_list, img_dest, label_dest):\n",
    "    for img_file in file_list:\n",
    "        # Copy image\n",
    "        src_img_path = os.path.join(images_dir, img_file)\n",
    "        dst_img_path = os.path.join(img_dest, img_file)\n",
    "        shutil.copy2(src_img_path, dst_img_path)\n",
    "\n",
    "        # Copy corresponding label (same filename with .txt extension)\n",
    "        label_file = os.path.splitext(img_file)[0] + \".txt\"\n",
    "        src_label_path = os.path.join(labels_dir, label_file)\n",
    "        dst_label_path = os.path.join(label_dest, label_file)\n",
    "\n",
    "        if os.path.exists(src_label_path):\n",
    "            shutil.copy2(src_label_path, dst_label_path)\n",
    "        else:\n",
    "            print(f\"Warning: Label file not found for image {img_file}\")\n",
    "\n",
    "# Copy train files\n",
    "copy_files(train_files, train_img_dir, train_label_dir)\n",
    "\n",
    "# Copy val files\n",
    "copy_files(val_files, val_img_dir, val_label_dir)\n",
    "\n",
    "print(f\"Dataset split completed:\")\n",
    "print(f\"Train images: {len(train_files)}\")\n",
    "print(f\"Validation images: {len(val_files)}\")\n"
   ]
  },
  {
   "cell_type": "markdown",
   "id": "70dc2298-2041-4662-9221-fe1bf7f73f98",
   "metadata": {},
   "source": [
    "## Check all frames contain corresponding labels"
   ]
  },
  {
   "cell_type": "code",
   "execution_count": 3,
   "id": "e1cfddac-3085-4ccc-ac8b-7d63e25dcf5f",
   "metadata": {},
   "outputs": [
    {
     "name": "stdout",
     "output_type": "stream",
     "text": [
      "✅ All images have corresponding label files.\n"
     ]
    }
   ],
   "source": [
    "import os\n",
    "\n",
    "# Set your image and label folder paths\n",
    "image_folder = r\"E:/JupyterNotebooks/Road_problem/pascal_yolo_dataset/images/train\"\n",
    "label_folder = r\"E:/JupyterNotebooks/Road_problem/pascal_yolo_dataset/labels/train\"\n",
    "\n",
    "# Get all image filenames (excluding extension)\n",
    "image_files = [os.path.splitext(f)[0] for f in os.listdir(image_folder) if f.endswith(('.jpg', '.png'))]\n",
    "\n",
    "# Get all label filenames (excluding extension)\n",
    "label_files = [os.path.splitext(f)[0] for f in os.listdir(label_folder) if f.endswith('.txt')]\n",
    "\n",
    "# Find images without corresponding label files\n",
    "missing_labels = [f for f in image_files if f not in label_files]\n",
    "\n",
    "# Output results\n",
    "if missing_labels:\n",
    "    print(\"Images without matching label files:\")\n",
    "    for name in missing_labels:\n",
    "        print(name + \".jpg\")\n",
    "else:\n",
    "    print(\"✅ All images have corresponding label files.\")\n"
   ]
  },
  {
   "cell_type": "markdown",
   "id": "331478eb-6750-472f-8770-13bf7c236f4f",
   "metadata": {},
   "source": [
    "# 3. train yolo model"
   ]
  },
  {
   "cell_type": "code",
   "execution_count": 2,
   "id": "ef98ba9a-a909-4cdb-835f-919dd383cc58",
   "metadata": {},
   "outputs": [],
   "source": [
    "pip install ultralytics\n"
   ]
  },
  {
   "cell_type": "code",
   "execution_count": 6,
   "id": "3cb90063-8cb3-4434-8c32-53bda18c4f90",
   "metadata": {
    "scrolled": true
   },
   "outputs": [
    {
     "name": "stdout",
     "output_type": "stream",
     "text": [
      "New https://pypi.org/project/ultralytics/8.3.149 available  Update with 'pip install -U ultralytics'\n",
      "Ultralytics 8.3.146  Python-3.10.0 torch-2.7.0+cpu CPU (12th Gen Intel Core(TM) i5-12450HX)\n",
      "\u001b[34m\u001b[1mengine\\trainer: \u001b[0magnostic_nms=False, amp=True, augment=False, auto_augment=randaugment, batch=8, bgr=0.0, box=7.5, cache=False, cfg=None, classes=None, close_mosaic=10, cls=0.5, conf=None, copy_paste=0.0, copy_paste_mode=flip, cos_lr=False, cutmix=0.0, data=E:\\JupyterNotebooks\\Road_problem\\pascal_yolo_dataset\\data.yaml, degrees=0.0, deterministic=True, device=cpu, dfl=1.5, dnn=False, dropout=0.0, dynamic=False, embed=None, epochs=50, erasing=0.4, exist_ok=False, fliplr=0.5, flipud=0.0, format=torchscript, fraction=1.0, freeze=None, half=False, hsv_h=0.015, hsv_s=0.7, hsv_v=0.4, imgsz=640, int8=False, iou=0.7, keras=False, kobj=1.0, line_width=None, lr0=0.01, lrf=0.01, mask_ratio=4, max_det=300, mixup=0.0, mode=train, model=yolov8n.pt, momentum=0.937, mosaic=1.0, multi_scale=False, name=road_features_yolo2, nbs=64, nms=False, opset=None, optimize=False, optimizer=auto, overlap_mask=True, patience=100, perspective=0.0, plots=True, pose=12.0, pretrained=True, profile=False, project=None, rect=False, resume=False, retina_masks=False, save=True, save_conf=False, save_crop=False, save_dir=runs\\detect\\road_features_yolo2, save_frames=False, save_json=False, save_period=-1, save_txt=False, scale=0.5, seed=0, shear=0.0, show=False, show_boxes=True, show_conf=True, show_labels=True, simplify=True, single_cls=False, source=None, split=val, stream_buffer=False, task=detect, time=None, tracker=botsort.yaml, translate=0.1, val=True, verbose=True, vid_stride=1, visualize=False, warmup_bias_lr=0.1, warmup_epochs=3.0, warmup_momentum=0.8, weight_decay=0.0005, workers=8, workspace=None\n",
      "Overriding model.yaml nc=80 with nc=12\n",
      "\n",
      "                   from  n    params  module                                       arguments                     \n",
      "  0                  -1  1       464  ultralytics.nn.modules.conv.Conv             [3, 16, 3, 2]                 \n",
      "  1                  -1  1      4672  ultralytics.nn.modules.conv.Conv             [16, 32, 3, 2]                \n",
      "  2                  -1  1      7360  ultralytics.nn.modules.block.C2f             [32, 32, 1, True]             \n",
      "  3                  -1  1     18560  ultralytics.nn.modules.conv.Conv             [32, 64, 3, 2]                \n",
      "  4                  -1  2     49664  ultralytics.nn.modules.block.C2f             [64, 64, 2, True]             \n",
      "  5                  -1  1     73984  ultralytics.nn.modules.conv.Conv             [64, 128, 3, 2]               \n",
      "  6                  -1  2    197632  ultralytics.nn.modules.block.C2f             [128, 128, 2, True]           \n",
      "  7                  -1  1    295424  ultralytics.nn.modules.conv.Conv             [128, 256, 3, 2]              \n",
      "  8                  -1  1    460288  ultralytics.nn.modules.block.C2f             [256, 256, 1, True]           \n",
      "  9                  -1  1    164608  ultralytics.nn.modules.block.SPPF            [256, 256, 5]                 \n",
      " 10                  -1  1         0  torch.nn.modules.upsampling.Upsample         [None, 2, 'nearest']          \n",
      " 11             [-1, 6]  1         0  ultralytics.nn.modules.conv.Concat           [1]                           \n",
      " 12                  -1  1    148224  ultralytics.nn.modules.block.C2f             [384, 128, 1]                 \n",
      " 13                  -1  1         0  torch.nn.modules.upsampling.Upsample         [None, 2, 'nearest']          \n",
      " 14             [-1, 4]  1         0  ultralytics.nn.modules.conv.Concat           [1]                           \n",
      " 15                  -1  1     37248  ultralytics.nn.modules.block.C2f             [192, 64, 1]                  \n",
      " 16                  -1  1     36992  ultralytics.nn.modules.conv.Conv             [64, 64, 3, 2]                \n",
      " 17            [-1, 12]  1         0  ultralytics.nn.modules.conv.Concat           [1]                           \n",
      " 18                  -1  1    123648  ultralytics.nn.modules.block.C2f             [192, 128, 1]                 \n",
      " 19                  -1  1    147712  ultralytics.nn.modules.conv.Conv             [128, 128, 3, 2]              \n",
      " 20             [-1, 9]  1         0  ultralytics.nn.modules.conv.Concat           [1]                           \n",
      " 21                  -1  1    493056  ultralytics.nn.modules.block.C2f             [384, 256, 1]                 \n",
      " 22        [15, 18, 21]  1    753652  ultralytics.nn.modules.head.Detect           [12, [64, 128, 256]]          \n",
      "Model summary: 129 layers, 3,013,188 parameters, 3,013,172 gradients, 8.2 GFLOPs\n",
      "\n",
      "Transferred 319/355 items from pretrained weights\n",
      "Freezing layer 'model.22.dfl.conv.weight'\n",
      "\u001b[34m\u001b[1mtrain: \u001b[0mFast image access  (ping: 0.10.0 ms, read: 1273.9395.3 MB/s, size: 1144.5 KB)\n"
     ]
    },
    {
     "name": "stderr",
     "output_type": "stream",
     "text": [
      "\u001b[34m\u001b[1mtrain: \u001b[0mScanning E:\\JupyterNotebooks\\Road_problem\\pascal_yolo_dataset\\labels\\train... 406 images, 5 backgrounds, 2 corru\u001b[0m"
     ]
    },
    {
     "name": "stdout",
     "output_type": "stream",
     "text": [
      "\u001b[34m\u001b[1mtrain: \u001b[0mE:\\JupyterNotebooks\\Road_problem\\pascal_yolo_dataset\\images\\train\\4211cc2b-a8.jpg: ignoring corrupt image/label: non-normalized or out of bounds coordinates [     1.1148]\n",
      "\u001b[34m\u001b[1mtrain: \u001b[0mE:\\JupyterNotebooks\\Road_problem\\pascal_yolo_dataset\\images\\train\\fbcda968-images_37.jpg: ignoring corrupt image/label: non-normalized or out of bounds coordinates [     1.0437      1.1803]\n",
      "\u001b[34m\u001b[1mtrain: \u001b[0mNew cache created: E:\\JupyterNotebooks\\Road_problem\\pascal_yolo_dataset\\labels\\train.cache\n",
      "\u001b[34m\u001b[1mval: \u001b[0mFast image access  (ping: 0.10.0 ms, read: 823.2455.0 MB/s, size: 274.8 KB)\n"
     ]
    },
    {
     "name": "stderr",
     "output_type": "stream",
     "text": [
      "\n",
      "C:\\Users\\Dinesh\\AppData\\Roaming\\Python\\Python310\\site-packages\\torch\\utils\\data\\dataloader.py:665: UserWarning: 'pin_memory' argument is set as true but no accelerator is found, then device pinned memory won't be used.\n",
      "  warnings.warn(warn_msg)\n",
      "\u001b[34m\u001b[1mval: \u001b[0mScanning E:\\JupyterNotebooks\\Road_problem\\pascal_yolo_dataset\\labels\\val... 102 images, 4 backgrounds, 1 corrupt: \u001b[0m"
     ]
    },
    {
     "name": "stdout",
     "output_type": "stream",
     "text": [
      "\u001b[34m\u001b[1mval: \u001b[0mE:\\JupyterNotebooks\\Road_problem\\pascal_yolo_dataset\\images\\val\\57dcb8a7-images_34.jpg: ignoring corrupt image/label: non-normalized or out of bounds coordinates [     1.0601]\n",
      "\u001b[34m\u001b[1mval: \u001b[0mNew cache created: E:\\JupyterNotebooks\\Road_problem\\pascal_yolo_dataset\\labels\\val.cache\n"
     ]
    },
    {
     "name": "stderr",
     "output_type": "stream",
     "text": [
      "\n",
      "C:\\Users\\Dinesh\\AppData\\Roaming\\Python\\Python310\\site-packages\\torch\\utils\\data\\dataloader.py:665: UserWarning: 'pin_memory' argument is set as true but no accelerator is found, then device pinned memory won't be used.\n",
      "  warnings.warn(warn_msg)\n"
     ]
    },
    {
     "name": "stdout",
     "output_type": "stream",
     "text": [
      "Plotting labels to runs\\detect\\road_features_yolo2\\labels.jpg... \n",
      "\u001b[34m\u001b[1moptimizer:\u001b[0m 'optimizer=auto' found, ignoring 'lr0=0.01' and 'momentum=0.937' and determining best 'optimizer', 'lr0' and 'momentum' automatically... \n",
      "\u001b[34m\u001b[1moptimizer:\u001b[0m AdamW(lr=0.000625, momentum=0.9) with parameter groups 57 weight(decay=0.0), 64 weight(decay=0.0005), 63 bias(decay=0.0)\n",
      "Image sizes 640 train, 640 val\n",
      "Using 0 dataloader workers\n",
      "Logging results to \u001b[1mruns\\detect\\road_features_yolo2\u001b[0m\n",
      "Starting training for 50 epochs...\n",
      "\n",
      "      Epoch    GPU_mem   box_loss   cls_loss   dfl_loss  Instances       Size\n"
     ]
    },
    {
     "name": "stderr",
     "output_type": "stream",
     "text": [
      "       1/50         0G      2.631      5.071       2.36         21        640: 100%|██████████| 51/51 [04:19<00:00,  5.\n",
      "                 Class     Images  Instances      Box(P          R      mAP50  mAP50-95): 100%|██████████| 7/7 [00:22<0"
     ]
    },
    {
     "name": "stdout",
     "output_type": "stream",
     "text": [
      "                   all        101        185    0.00175      0.216     0.0258     0.0118\n"
     ]
    },
    {
     "name": "stderr",
     "output_type": "stream",
     "text": [
      "\n"
     ]
    },
    {
     "name": "stdout",
     "output_type": "stream",
     "text": [
      "\n",
      "      Epoch    GPU_mem   box_loss   cls_loss   dfl_loss  Instances       Size\n"
     ]
    },
    {
     "name": "stderr",
     "output_type": "stream",
     "text": [
      "       2/50         0G      2.383      4.208      2.112         20        640: 100%|██████████| 51/51 [03:56<00:00,  4.\n",
      "                 Class     Images  Instances      Box(P          R      mAP50  mAP50-95): 100%|██████████| 7/7 [00:17<0"
     ]
    },
    {
     "name": "stdout",
     "output_type": "stream",
     "text": [
      "                   all        101        185      0.782     0.0674     0.0895     0.0392\n"
     ]
    },
    {
     "name": "stderr",
     "output_type": "stream",
     "text": [
      "\n"
     ]
    },
    {
     "name": "stdout",
     "output_type": "stream",
     "text": [
      "\n",
      "      Epoch    GPU_mem   box_loss   cls_loss   dfl_loss  Instances       Size\n"
     ]
    },
    {
     "name": "stderr",
     "output_type": "stream",
     "text": [
      "       3/50         0G      2.385      3.857      2.063         16        640: 100%|██████████| 51/51 [04:08<00:00,  4.\n",
      "                 Class     Images  Instances      Box(P          R      mAP50  mAP50-95): 100%|██████████| 7/7 [00:18<0"
     ]
    },
    {
     "name": "stdout",
     "output_type": "stream",
     "text": [
      "                   all        101        185      0.669       0.16      0.153     0.0611\n"
     ]
    },
    {
     "name": "stderr",
     "output_type": "stream",
     "text": [
      "\n"
     ]
    },
    {
     "name": "stdout",
     "output_type": "stream",
     "text": [
      "\n",
      "      Epoch    GPU_mem   box_loss   cls_loss   dfl_loss  Instances       Size\n"
     ]
    },
    {
     "name": "stderr",
     "output_type": "stream",
     "text": [
      "       4/50         0G      2.293      3.545      2.007         19        640: 100%|██████████| 51/51 [04:14<00:00,  5.\n",
      "                 Class     Images  Instances      Box(P          R      mAP50  mAP50-95): 100%|██████████| 7/7 [00:19<0"
     ]
    },
    {
     "name": "stdout",
     "output_type": "stream",
     "text": [
      "                   all        101        185      0.315       0.26      0.167     0.0597\n"
     ]
    },
    {
     "name": "stderr",
     "output_type": "stream",
     "text": [
      "\n"
     ]
    },
    {
     "name": "stdout",
     "output_type": "stream",
     "text": [
      "\n",
      "      Epoch    GPU_mem   box_loss   cls_loss   dfl_loss  Instances       Size\n"
     ]
    },
    {
     "name": "stderr",
     "output_type": "stream",
     "text": [
      "       5/50         0G       2.24      3.292      1.977         12        640: 100%|██████████| 51/51 [04:09<00:00,  4.\n",
      "                 Class     Images  Instances      Box(P          R      mAP50  mAP50-95): 100%|██████████| 7/7 [00:19<0"
     ]
    },
    {
     "name": "stdout",
     "output_type": "stream",
     "text": [
      "                   all        101        185      0.568      0.142      0.171     0.0663\n"
     ]
    },
    {
     "name": "stderr",
     "output_type": "stream",
     "text": [
      "\n"
     ]
    },
    {
     "name": "stdout",
     "output_type": "stream",
     "text": [
      "\n",
      "      Epoch    GPU_mem   box_loss   cls_loss   dfl_loss  Instances       Size\n"
     ]
    },
    {
     "name": "stderr",
     "output_type": "stream",
     "text": [
      "       6/50         0G      2.263      3.365      1.983         15        640: 100%|██████████| 51/51 [04:13<00:00,  4.\n",
      "                 Class     Images  Instances      Box(P          R      mAP50  mAP50-95): 100%|██████████| 7/7 [00:19<0"
     ]
    },
    {
     "name": "stdout",
     "output_type": "stream",
     "text": [
      "                   all        101        185      0.663      0.136      0.164     0.0551\n"
     ]
    },
    {
     "name": "stderr",
     "output_type": "stream",
     "text": [
      "\n"
     ]
    },
    {
     "name": "stdout",
     "output_type": "stream",
     "text": [
      "\n",
      "      Epoch    GPU_mem   box_loss   cls_loss   dfl_loss  Instances       Size\n"
     ]
    },
    {
     "name": "stderr",
     "output_type": "stream",
     "text": [
      "       7/50         0G      2.176      3.144      1.927          8        640: 100%|██████████| 51/51 [04:14<00:00,  4.\n",
      "                 Class     Images  Instances      Box(P          R      mAP50  mAP50-95): 100%|██████████| 7/7 [00:18<0"
     ]
    },
    {
     "name": "stdout",
     "output_type": "stream",
     "text": [
      "                   all        101        185      0.604      0.202      0.199     0.0709\n"
     ]
    },
    {
     "name": "stderr",
     "output_type": "stream",
     "text": [
      "\n"
     ]
    },
    {
     "name": "stdout",
     "output_type": "stream",
     "text": [
      "\n",
      "      Epoch    GPU_mem   box_loss   cls_loss   dfl_loss  Instances       Size\n"
     ]
    },
    {
     "name": "stderr",
     "output_type": "stream",
     "text": [
      "       8/50         0G      2.124       3.07      1.902          8        640: 100%|██████████| 51/51 [04:10<00:00,  4.\n",
      "                 Class     Images  Instances      Box(P          R      mAP50  mAP50-95): 100%|██████████| 7/7 [00:18<0"
     ]
    },
    {
     "name": "stdout",
     "output_type": "stream",
     "text": [
      "                   all        101        185      0.242      0.235      0.186     0.0679\n"
     ]
    },
    {
     "name": "stderr",
     "output_type": "stream",
     "text": [
      "\n"
     ]
    },
    {
     "name": "stdout",
     "output_type": "stream",
     "text": [
      "\n",
      "      Epoch    GPU_mem   box_loss   cls_loss   dfl_loss  Instances       Size\n"
     ]
    },
    {
     "name": "stderr",
     "output_type": "stream",
     "text": [
      "       9/50         0G      2.082      2.933      1.854         10        640: 100%|██████████| 51/51 [04:00<00:00,  4.\n",
      "                 Class     Images  Instances      Box(P          R      mAP50  mAP50-95): 100%|██████████| 7/7 [00:19<0"
     ]
    },
    {
     "name": "stdout",
     "output_type": "stream",
     "text": [
      "                   all        101        185      0.307      0.258      0.228     0.0846\n"
     ]
    },
    {
     "name": "stderr",
     "output_type": "stream",
     "text": [
      "\n"
     ]
    },
    {
     "name": "stdout",
     "output_type": "stream",
     "text": [
      "\n",
      "      Epoch    GPU_mem   box_loss   cls_loss   dfl_loss  Instances       Size\n"
     ]
    },
    {
     "name": "stderr",
     "output_type": "stream",
     "text": [
      "      10/50         0G      2.102      2.904      1.876         16        640: 100%|██████████| 51/51 [04:02<00:00,  4.\n",
      "                 Class     Images  Instances      Box(P          R      mAP50  mAP50-95): 100%|██████████| 7/7 [00:18<0"
     ]
    },
    {
     "name": "stdout",
     "output_type": "stream",
     "text": [
      "                   all        101        185       0.38      0.273      0.232     0.0942\n"
     ]
    },
    {
     "name": "stderr",
     "output_type": "stream",
     "text": [
      "\n"
     ]
    },
    {
     "name": "stdout",
     "output_type": "stream",
     "text": [
      "\n",
      "      Epoch    GPU_mem   box_loss   cls_loss   dfl_loss  Instances       Size\n"
     ]
    },
    {
     "name": "stderr",
     "output_type": "stream",
     "text": [
      "      11/50         0G      2.042      2.779      1.853         17        640: 100%|██████████| 51/51 [03:54<00:00,  4.\n",
      "                 Class     Images  Instances      Box(P          R      mAP50  mAP50-95): 100%|██████████| 7/7 [00:17<0"
     ]
    },
    {
     "name": "stdout",
     "output_type": "stream",
     "text": [
      "                   all        101        185      0.295      0.314      0.269      0.093\n"
     ]
    },
    {
     "name": "stderr",
     "output_type": "stream",
     "text": [
      "\n"
     ]
    },
    {
     "name": "stdout",
     "output_type": "stream",
     "text": [
      "\n",
      "      Epoch    GPU_mem   box_loss   cls_loss   dfl_loss  Instances       Size\n"
     ]
    },
    {
     "name": "stderr",
     "output_type": "stream",
     "text": [
      "      12/50         0G       2.06      2.836      1.854         10        640: 100%|██████████| 51/51 [04:04<00:00,  4.\n",
      "                 Class     Images  Instances      Box(P          R      mAP50  mAP50-95): 100%|██████████| 7/7 [00:18<0"
     ]
    },
    {
     "name": "stdout",
     "output_type": "stream",
     "text": [
      "                   all        101        185      0.452      0.215      0.241     0.0963\n"
     ]
    },
    {
     "name": "stderr",
     "output_type": "stream",
     "text": [
      "\n"
     ]
    },
    {
     "name": "stdout",
     "output_type": "stream",
     "text": [
      "\n",
      "      Epoch    GPU_mem   box_loss   cls_loss   dfl_loss  Instances       Size\n"
     ]
    },
    {
     "name": "stderr",
     "output_type": "stream",
     "text": [
      "      13/50         0G      1.994      2.748      1.817         12        640: 100%|██████████| 51/51 [04:02<00:00,  4.\n",
      "                 Class     Images  Instances      Box(P          R      mAP50  mAP50-95): 100%|██████████| 7/7 [00:16<0"
     ]
    },
    {
     "name": "stdout",
     "output_type": "stream",
     "text": [
      "                   all        101        185      0.391      0.348      0.355      0.127\n"
     ]
    },
    {
     "name": "stderr",
     "output_type": "stream",
     "text": [
      "\n"
     ]
    },
    {
     "name": "stdout",
     "output_type": "stream",
     "text": [
      "\n",
      "      Epoch    GPU_mem   box_loss   cls_loss   dfl_loss  Instances       Size\n"
     ]
    },
    {
     "name": "stderr",
     "output_type": "stream",
     "text": [
      "      14/50         0G       1.96      2.536      1.759         17        640: 100%|██████████| 51/51 [03:57<00:00,  4.\n",
      "                 Class     Images  Instances      Box(P          R      mAP50  mAP50-95): 100%|██████████| 7/7 [00:17<0"
     ]
    },
    {
     "name": "stdout",
     "output_type": "stream",
     "text": [
      "                   all        101        185      0.454      0.318      0.325      0.111\n"
     ]
    },
    {
     "name": "stderr",
     "output_type": "stream",
     "text": [
      "\n"
     ]
    },
    {
     "name": "stdout",
     "output_type": "stream",
     "text": [
      "\n",
      "      Epoch    GPU_mem   box_loss   cls_loss   dfl_loss  Instances       Size\n"
     ]
    },
    {
     "name": "stderr",
     "output_type": "stream",
     "text": [
      "      15/50         0G      1.929      2.423      1.766         15        640: 100%|██████████| 51/51 [03:50<00:00,  4.\n",
      "                 Class     Images  Instances      Box(P          R      mAP50  mAP50-95): 100%|██████████| 7/7 [00:17<0"
     ]
    },
    {
     "name": "stdout",
     "output_type": "stream",
     "text": [
      "                   all        101        185      0.436      0.292      0.301     0.0991\n"
     ]
    },
    {
     "name": "stderr",
     "output_type": "stream",
     "text": [
      "\n"
     ]
    },
    {
     "name": "stdout",
     "output_type": "stream",
     "text": [
      "\n",
      "      Epoch    GPU_mem   box_loss   cls_loss   dfl_loss  Instances       Size\n"
     ]
    },
    {
     "name": "stderr",
     "output_type": "stream",
     "text": [
      "      16/50         0G      1.923      2.434      1.732         18        640: 100%|██████████| 51/51 [03:54<00:00,  4.\n",
      "                 Class     Images  Instances      Box(P          R      mAP50  mAP50-95): 100%|██████████| 7/7 [00:16<0"
     ]
    },
    {
     "name": "stdout",
     "output_type": "stream",
     "text": [
      "                   all        101        185      0.355      0.309      0.307      0.105\n"
     ]
    },
    {
     "name": "stderr",
     "output_type": "stream",
     "text": [
      "\n"
     ]
    },
    {
     "name": "stdout",
     "output_type": "stream",
     "text": [
      "\n",
      "      Epoch    GPU_mem   box_loss   cls_loss   dfl_loss  Instances       Size\n"
     ]
    },
    {
     "name": "stderr",
     "output_type": "stream",
     "text": [
      "      17/50         0G       1.94      2.388      1.722          5        640: 100%|██████████| 51/51 [03:38<00:00,  4.\n",
      "                 Class     Images  Instances      Box(P          R      mAP50  mAP50-95): 100%|██████████| 7/7 [00:16<0"
     ]
    },
    {
     "name": "stdout",
     "output_type": "stream",
     "text": [
      "                   all        101        185      0.397      0.428      0.344      0.124\n"
     ]
    },
    {
     "name": "stderr",
     "output_type": "stream",
     "text": [
      "\n"
     ]
    },
    {
     "name": "stdout",
     "output_type": "stream",
     "text": [
      "\n",
      "      Epoch    GPU_mem   box_loss   cls_loss   dfl_loss  Instances       Size\n"
     ]
    },
    {
     "name": "stderr",
     "output_type": "stream",
     "text": [
      "      18/50         0G      1.877      2.389       1.72         18        640: 100%|██████████| 51/51 [04:18<00:00,  5.\n",
      "                 Class     Images  Instances      Box(P          R      mAP50  mAP50-95): 100%|██████████| 7/7 [00:19<0"
     ]
    },
    {
     "name": "stdout",
     "output_type": "stream",
     "text": [
      "                   all        101        185      0.412      0.351      0.327       0.13\n"
     ]
    },
    {
     "name": "stderr",
     "output_type": "stream",
     "text": [
      "\n"
     ]
    },
    {
     "name": "stdout",
     "output_type": "stream",
     "text": [
      "\n",
      "      Epoch    GPU_mem   box_loss   cls_loss   dfl_loss  Instances       Size\n"
     ]
    },
    {
     "name": "stderr",
     "output_type": "stream",
     "text": [
      "      19/50         0G      1.886      2.303       1.69         23        640: 100%|██████████| 51/51 [04:31<00:00,  5.\n",
      "                 Class     Images  Instances      Box(P          R      mAP50  mAP50-95): 100%|██████████| 7/7 [00:19<0"
     ]
    },
    {
     "name": "stdout",
     "output_type": "stream",
     "text": [
      "                   all        101        185       0.41      0.401      0.342      0.123\n"
     ]
    },
    {
     "name": "stderr",
     "output_type": "stream",
     "text": [
      "\n"
     ]
    },
    {
     "name": "stdout",
     "output_type": "stream",
     "text": [
      "\n",
      "      Epoch    GPU_mem   box_loss   cls_loss   dfl_loss  Instances       Size\n"
     ]
    },
    {
     "name": "stderr",
     "output_type": "stream",
     "text": [
      "      20/50         0G      1.831      2.318      1.677         14        640: 100%|██████████| 51/51 [03:58<00:00,  4.\n",
      "                 Class     Images  Instances      Box(P          R      mAP50  mAP50-95): 100%|██████████| 7/7 [00:18<0"
     ]
    },
    {
     "name": "stdout",
     "output_type": "stream",
     "text": [
      "                   all        101        185      0.415      0.364      0.332      0.134\n"
     ]
    },
    {
     "name": "stderr",
     "output_type": "stream",
     "text": [
      "\n"
     ]
    },
    {
     "name": "stdout",
     "output_type": "stream",
     "text": [
      "\n",
      "      Epoch    GPU_mem   box_loss   cls_loss   dfl_loss  Instances       Size\n"
     ]
    },
    {
     "name": "stderr",
     "output_type": "stream",
     "text": [
      "      21/50         0G      1.834      2.229      1.655         15        640: 100%|██████████| 51/51 [04:00<00:00,  4.\n",
      "                 Class     Images  Instances      Box(P          R      mAP50  mAP50-95): 100%|██████████| 7/7 [00:16<0"
     ]
    },
    {
     "name": "stdout",
     "output_type": "stream",
     "text": [
      "                   all        101        185      0.401      0.362      0.348      0.123\n"
     ]
    },
    {
     "name": "stderr",
     "output_type": "stream",
     "text": [
      "\n"
     ]
    },
    {
     "name": "stdout",
     "output_type": "stream",
     "text": [
      "\n",
      "      Epoch    GPU_mem   box_loss   cls_loss   dfl_loss  Instances       Size\n"
     ]
    },
    {
     "name": "stderr",
     "output_type": "stream",
     "text": [
      "      22/50         0G       1.84      2.158      1.666         12        640: 100%|██████████| 51/51 [04:12<00:00,  4.\n",
      "                 Class     Images  Instances      Box(P          R      mAP50  mAP50-95): 100%|██████████| 7/7 [00:20<0"
     ]
    },
    {
     "name": "stdout",
     "output_type": "stream",
     "text": [
      "                   all        101        185      0.425      0.396      0.365      0.134\n"
     ]
    },
    {
     "name": "stderr",
     "output_type": "stream",
     "text": [
      "\n"
     ]
    },
    {
     "name": "stdout",
     "output_type": "stream",
     "text": [
      "\n",
      "      Epoch    GPU_mem   box_loss   cls_loss   dfl_loss  Instances       Size\n"
     ]
    },
    {
     "name": "stderr",
     "output_type": "stream",
     "text": [
      "      23/50         0G      1.766      2.153      1.626         11        640: 100%|██████████| 51/51 [04:03<00:00,  4.\n",
      "                 Class     Images  Instances      Box(P          R      mAP50  mAP50-95): 100%|██████████| 7/7 [00:19<0"
     ]
    },
    {
     "name": "stdout",
     "output_type": "stream",
     "text": [
      "                   all        101        185      0.471      0.395      0.345      0.131\n"
     ]
    },
    {
     "name": "stderr",
     "output_type": "stream",
     "text": [
      "\n"
     ]
    },
    {
     "name": "stdout",
     "output_type": "stream",
     "text": [
      "\n",
      "      Epoch    GPU_mem   box_loss   cls_loss   dfl_loss  Instances       Size\n"
     ]
    },
    {
     "name": "stderr",
     "output_type": "stream",
     "text": [
      "      24/50         0G      1.753      2.087        1.6         10        640: 100%|██████████| 51/51 [03:58<00:00,  4.\n",
      "                 Class     Images  Instances      Box(P          R      mAP50  mAP50-95): 100%|██████████| 7/7 [00:19<0"
     ]
    },
    {
     "name": "stdout",
     "output_type": "stream",
     "text": [
      "                   all        101        185       0.39      0.354      0.332      0.127\n"
     ]
    },
    {
     "name": "stderr",
     "output_type": "stream",
     "text": [
      "\n"
     ]
    },
    {
     "name": "stdout",
     "output_type": "stream",
     "text": [
      "\n",
      "      Epoch    GPU_mem   box_loss   cls_loss   dfl_loss  Instances       Size\n"
     ]
    },
    {
     "name": "stderr",
     "output_type": "stream",
     "text": [
      "      25/50         0G      1.773      2.076      1.622         19        640: 100%|██████████| 51/51 [04:17<00:00,  5.\n",
      "                 Class     Images  Instances      Box(P          R      mAP50  mAP50-95): 100%|██████████| 7/7 [00:17<0"
     ]
    },
    {
     "name": "stdout",
     "output_type": "stream",
     "text": [
      "                   all        101        185      0.504      0.396      0.355      0.128\n"
     ]
    },
    {
     "name": "stderr",
     "output_type": "stream",
     "text": [
      "\n"
     ]
    },
    {
     "name": "stdout",
     "output_type": "stream",
     "text": [
      "\n",
      "      Epoch    GPU_mem   box_loss   cls_loss   dfl_loss  Instances       Size\n"
     ]
    },
    {
     "name": "stderr",
     "output_type": "stream",
     "text": [
      "      26/50         0G      1.749      2.022      1.577         22        640: 100%|██████████| 51/51 [03:55<00:00,  4.\n",
      "                 Class     Images  Instances      Box(P          R      mAP50  mAP50-95): 100%|██████████| 7/7 [00:18<0"
     ]
    },
    {
     "name": "stdout",
     "output_type": "stream",
     "text": [
      "                   all        101        185      0.478      0.396      0.371      0.135\n",
      "\n",
      "      Epoch    GPU_mem   box_loss   cls_loss   dfl_loss  Instances       Size\n"
     ]
    },
    {
     "name": "stderr",
     "output_type": "stream",
     "text": [
      "\n",
      "      27/50         0G      1.714      2.033      1.565         11        640: 100%|██████████| 51/51 [04:12<00:00,  4.\n",
      "                 Class     Images  Instances      Box(P          R      mAP50  mAP50-95): 100%|██████████| 7/7 [00:18<0"
     ]
    },
    {
     "name": "stdout",
     "output_type": "stream",
     "text": [
      "                   all        101        185       0.44      0.412      0.375      0.144\n"
     ]
    },
    {
     "name": "stderr",
     "output_type": "stream",
     "text": [
      "\n"
     ]
    },
    {
     "name": "stdout",
     "output_type": "stream",
     "text": [
      "\n",
      "      Epoch    GPU_mem   box_loss   cls_loss   dfl_loss  Instances       Size\n"
     ]
    },
    {
     "name": "stderr",
     "output_type": "stream",
     "text": [
      "      28/50         0G      1.714      1.977      1.585         19        640: 100%|██████████| 51/51 [04:21<00:00,  5.\n",
      "                 Class     Images  Instances      Box(P          R      mAP50  mAP50-95): 100%|██████████| 7/7 [00:19<0"
     ]
    },
    {
     "name": "stdout",
     "output_type": "stream",
     "text": [
      "                   all        101        185      0.398      0.378      0.333       0.13\n"
     ]
    },
    {
     "name": "stderr",
     "output_type": "stream",
     "text": [
      "\n"
     ]
    },
    {
     "name": "stdout",
     "output_type": "stream",
     "text": [
      "\n",
      "      Epoch    GPU_mem   box_loss   cls_loss   dfl_loss  Instances       Size\n"
     ]
    },
    {
     "name": "stderr",
     "output_type": "stream",
     "text": [
      "      29/50         0G      1.724      1.948      1.575         16        640: 100%|██████████| 51/51 [04:14<00:00,  4.\n",
      "                 Class     Images  Instances      Box(P          R      mAP50  mAP50-95): 100%|██████████| 7/7 [00:19<0"
     ]
    },
    {
     "name": "stdout",
     "output_type": "stream",
     "text": [
      "                   all        101        185      0.426       0.38      0.327      0.129\n"
     ]
    },
    {
     "name": "stderr",
     "output_type": "stream",
     "text": [
      "\n"
     ]
    },
    {
     "name": "stdout",
     "output_type": "stream",
     "text": [
      "\n",
      "      Epoch    GPU_mem   box_loss   cls_loss   dfl_loss  Instances       Size\n"
     ]
    },
    {
     "name": "stderr",
     "output_type": "stream",
     "text": [
      "      30/50         0G      1.686      1.894       1.56         11        640: 100%|██████████| 51/51 [04:06<00:00,  4.\n",
      "                 Class     Images  Instances      Box(P          R      mAP50  mAP50-95): 100%|██████████| 7/7 [00:18<0"
     ]
    },
    {
     "name": "stdout",
     "output_type": "stream",
     "text": [
      "                   all        101        185       0.46       0.44      0.397      0.173\n"
     ]
    },
    {
     "name": "stderr",
     "output_type": "stream",
     "text": [
      "\n"
     ]
    },
    {
     "name": "stdout",
     "output_type": "stream",
     "text": [
      "\n",
      "      Epoch    GPU_mem   box_loss   cls_loss   dfl_loss  Instances       Size\n"
     ]
    },
    {
     "name": "stderr",
     "output_type": "stream",
     "text": [
      "      31/50         0G      1.646      1.853      1.526         15        640: 100%|██████████| 51/51 [04:10<00:00,  4.\n",
      "                 Class     Images  Instances      Box(P          R      mAP50  mAP50-95): 100%|██████████| 7/7 [00:19<0"
     ]
    },
    {
     "name": "stdout",
     "output_type": "stream",
     "text": [
      "                   all        101        185       0.56       0.37      0.357      0.141\n"
     ]
    },
    {
     "name": "stderr",
     "output_type": "stream",
     "text": [
      "\n"
     ]
    },
    {
     "name": "stdout",
     "output_type": "stream",
     "text": [
      "\n",
      "      Epoch    GPU_mem   box_loss   cls_loss   dfl_loss  Instances       Size\n"
     ]
    },
    {
     "name": "stderr",
     "output_type": "stream",
     "text": [
      "      32/50         0G      1.676      1.896      1.529         13        640: 100%|██████████| 51/51 [04:12<00:00,  4.\n",
      "                 Class     Images  Instances      Box(P          R      mAP50  mAP50-95): 100%|██████████| 7/7 [00:18<0"
     ]
    },
    {
     "name": "stdout",
     "output_type": "stream",
     "text": [
      "                   all        101        185      0.484      0.406      0.329       0.14\n",
      "\n",
      "      Epoch    GPU_mem   box_loss   cls_loss   dfl_loss  Instances       Size\n"
     ]
    },
    {
     "name": "stderr",
     "output_type": "stream",
     "text": [
      "\n",
      "      33/50         0G      1.635      1.777      1.477         20        640: 100%|██████████| 51/51 [04:20<00:00,  5.\n",
      "                 Class     Images  Instances      Box(P          R      mAP50  mAP50-95): 100%|██████████| 7/7 [00:19<0"
     ]
    },
    {
     "name": "stdout",
     "output_type": "stream",
     "text": [
      "                   all        101        185      0.477      0.387      0.349      0.144\n"
     ]
    },
    {
     "name": "stderr",
     "output_type": "stream",
     "text": [
      "\n"
     ]
    },
    {
     "name": "stdout",
     "output_type": "stream",
     "text": [
      "\n",
      "      Epoch    GPU_mem   box_loss   cls_loss   dfl_loss  Instances       Size\n"
     ]
    },
    {
     "name": "stderr",
     "output_type": "stream",
     "text": [
      "      34/50         0G      1.619      1.728        1.5         26        640: 100%|██████████| 51/51 [04:18<00:00,  5.\n",
      "                 Class     Images  Instances      Box(P          R      mAP50  mAP50-95): 100%|██████████| 7/7 [00:18<0"
     ]
    },
    {
     "name": "stdout",
     "output_type": "stream",
     "text": [
      "                   all        101        185      0.535      0.346        0.4      0.151\n"
     ]
    },
    {
     "name": "stderr",
     "output_type": "stream",
     "text": [
      "\n"
     ]
    },
    {
     "name": "stdout",
     "output_type": "stream",
     "text": [
      "\n",
      "      Epoch    GPU_mem   box_loss   cls_loss   dfl_loss  Instances       Size\n"
     ]
    },
    {
     "name": "stderr",
     "output_type": "stream",
     "text": [
      "      35/50         0G      1.596      1.793      1.484         19        640: 100%|██████████| 51/51 [04:11<00:00,  4.\n",
      "                 Class     Images  Instances      Box(P          R      mAP50  mAP50-95): 100%|██████████| 7/7 [00:19<0"
     ]
    },
    {
     "name": "stdout",
     "output_type": "stream",
     "text": [
      "                   all        101        185      0.478      0.364        0.4      0.164\n"
     ]
    },
    {
     "name": "stderr",
     "output_type": "stream",
     "text": [
      "\n"
     ]
    },
    {
     "name": "stdout",
     "output_type": "stream",
     "text": [
      "\n",
      "      Epoch    GPU_mem   box_loss   cls_loss   dfl_loss  Instances       Size\n"
     ]
    },
    {
     "name": "stderr",
     "output_type": "stream",
     "text": [
      "      36/50         0G       1.58      1.771      1.468          9        640: 100%|██████████| 51/51 [04:07<00:00,  4.\n",
      "                 Class     Images  Instances      Box(P          R      mAP50  mAP50-95): 100%|██████████| 7/7 [00:18<0"
     ]
    },
    {
     "name": "stdout",
     "output_type": "stream",
     "text": [
      "                   all        101        185      0.487      0.398      0.388      0.152\n"
     ]
    },
    {
     "name": "stderr",
     "output_type": "stream",
     "text": [
      "\n"
     ]
    },
    {
     "name": "stdout",
     "output_type": "stream",
     "text": [
      "\n",
      "      Epoch    GPU_mem   box_loss   cls_loss   dfl_loss  Instances       Size\n"
     ]
    },
    {
     "name": "stderr",
     "output_type": "stream",
     "text": [
      "      37/50         0G      1.578      1.707      1.464         13        640: 100%|██████████| 51/51 [04:15<00:00,  5.\n",
      "                 Class     Images  Instances      Box(P          R      mAP50  mAP50-95): 100%|██████████| 7/7 [00:17<0"
     ]
    },
    {
     "name": "stdout",
     "output_type": "stream",
     "text": [
      "                   all        101        185      0.507      0.384      0.405       0.16\n"
     ]
    },
    {
     "name": "stderr",
     "output_type": "stream",
     "text": [
      "\n"
     ]
    },
    {
     "name": "stdout",
     "output_type": "stream",
     "text": [
      "\n",
      "      Epoch    GPU_mem   box_loss   cls_loss   dfl_loss  Instances       Size\n"
     ]
    },
    {
     "name": "stderr",
     "output_type": "stream",
     "text": [
      "      38/50         0G      1.591      1.769      1.475         17        640: 100%|██████████| 51/51 [04:02<00:00,  4.\n",
      "                 Class     Images  Instances      Box(P          R      mAP50  mAP50-95): 100%|██████████| 7/7 [00:18<0"
     ]
    },
    {
     "name": "stdout",
     "output_type": "stream",
     "text": [
      "                   all        101        185      0.503      0.371      0.364      0.139\n"
     ]
    },
    {
     "name": "stderr",
     "output_type": "stream",
     "text": [
      "\n"
     ]
    },
    {
     "name": "stdout",
     "output_type": "stream",
     "text": [
      "\n",
      "      Epoch    GPU_mem   box_loss   cls_loss   dfl_loss  Instances       Size\n"
     ]
    },
    {
     "name": "stderr",
     "output_type": "stream",
     "text": [
      "      39/50         0G       1.56      1.721      1.474         18        640: 100%|██████████| 51/51 [04:11<00:00,  4.\n",
      "                 Class     Images  Instances      Box(P          R      mAP50  mAP50-95): 100%|██████████| 7/7 [00:19<0"
     ]
    },
    {
     "name": "stdout",
     "output_type": "stream",
     "text": [
      "                   all        101        185      0.446      0.432      0.355      0.149\n"
     ]
    },
    {
     "name": "stderr",
     "output_type": "stream",
     "text": [
      "\n"
     ]
    },
    {
     "name": "stdout",
     "output_type": "stream",
     "text": [
      "\n",
      "      Epoch    GPU_mem   box_loss   cls_loss   dfl_loss  Instances       Size\n"
     ]
    },
    {
     "name": "stderr",
     "output_type": "stream",
     "text": [
      "      40/50         0G      1.544      1.695       1.45         11        640: 100%|██████████| 51/51 [04:04<00:00,  4.\n",
      "                 Class     Images  Instances      Box(P          R      mAP50  mAP50-95): 100%|██████████| 7/7 [00:19<0"
     ]
    },
    {
     "name": "stdout",
     "output_type": "stream",
     "text": [
      "                   all        101        185       0.48      0.444      0.399      0.156\n"
     ]
    },
    {
     "name": "stderr",
     "output_type": "stream",
     "text": [
      "\n"
     ]
    },
    {
     "name": "stdout",
     "output_type": "stream",
     "text": [
      "Closing dataloader mosaic\n",
      "\n",
      "      Epoch    GPU_mem   box_loss   cls_loss   dfl_loss  Instances       Size\n"
     ]
    },
    {
     "name": "stderr",
     "output_type": "stream",
     "text": [
      "C:\\Users\\Dinesh\\AppData\\Roaming\\Python\\Python310\\site-packages\\torch\\utils\\data\\dataloader.py:665: UserWarning: 'pin_memory' argument is set as true but no accelerator is found, then device pinned memory won't be used.\n",
      "  warnings.warn(warn_msg)\n",
      "      41/50         0G      1.584      1.924      1.518          8        640: 100%|██████████| 51/51 [03:48<00:00,  4.\n",
      "                 Class     Images  Instances      Box(P          R      mAP50  mAP50-95): 100%|██████████| 7/7 [00:18<0"
     ]
    },
    {
     "name": "stdout",
     "output_type": "stream",
     "text": [
      "                   all        101        185      0.442      0.415      0.358      0.143\n"
     ]
    },
    {
     "name": "stderr",
     "output_type": "stream",
     "text": [
      "\n"
     ]
    },
    {
     "name": "stdout",
     "output_type": "stream",
     "text": [
      "\n",
      "      Epoch    GPU_mem   box_loss   cls_loss   dfl_loss  Instances       Size\n"
     ]
    },
    {
     "name": "stderr",
     "output_type": "stream",
     "text": [
      "      42/50         0G      1.522       1.77      1.479         11        640: 100%|██████████| 51/51 [03:51<00:00,  4.\n",
      "                 Class     Images  Instances      Box(P          R      mAP50  mAP50-95): 100%|██████████| 7/7 [00:18<0"
     ]
    },
    {
     "name": "stdout",
     "output_type": "stream",
     "text": [
      "                   all        101        185      0.401      0.395      0.353      0.144\n"
     ]
    },
    {
     "name": "stderr",
     "output_type": "stream",
     "text": [
      "\n"
     ]
    },
    {
     "name": "stdout",
     "output_type": "stream",
     "text": [
      "\n",
      "      Epoch    GPU_mem   box_loss   cls_loss   dfl_loss  Instances       Size\n"
     ]
    },
    {
     "name": "stderr",
     "output_type": "stream",
     "text": [
      "      43/50         0G      1.475      1.719      1.454          8        640: 100%|██████████| 51/51 [03:59<00:00,  4.\n",
      "                 Class     Images  Instances      Box(P          R      mAP50  mAP50-95): 100%|██████████| 7/7 [00:19<0"
     ]
    },
    {
     "name": "stdout",
     "output_type": "stream",
     "text": [
      "                   all        101        185      0.415      0.448      0.381      0.147\n"
     ]
    },
    {
     "name": "stderr",
     "output_type": "stream",
     "text": [
      "\n"
     ]
    },
    {
     "name": "stdout",
     "output_type": "stream",
     "text": [
      "\n",
      "      Epoch    GPU_mem   box_loss   cls_loss   dfl_loss  Instances       Size\n"
     ]
    },
    {
     "name": "stderr",
     "output_type": "stream",
     "text": [
      "      44/50         0G      1.468      1.712      1.471          4        640: 100%|██████████| 51/51 [03:57<00:00,  4.\n",
      "                 Class     Images  Instances      Box(P          R      mAP50  mAP50-95): 100%|██████████| 7/7 [00:18<0"
     ]
    },
    {
     "name": "stdout",
     "output_type": "stream",
     "text": [
      "                   all        101        185       0.42      0.418      0.401      0.159\n"
     ]
    },
    {
     "name": "stderr",
     "output_type": "stream",
     "text": [
      "\n"
     ]
    },
    {
     "name": "stdout",
     "output_type": "stream",
     "text": [
      "\n",
      "      Epoch    GPU_mem   box_loss   cls_loss   dfl_loss  Instances       Size\n"
     ]
    },
    {
     "name": "stderr",
     "output_type": "stream",
     "text": [
      "      45/50         0G      1.437      1.669      1.442          3        640: 100%|██████████| 51/51 [04:01<00:00,  4.\n",
      "                 Class     Images  Instances      Box(P          R      mAP50  mAP50-95): 100%|██████████| 7/7 [00:18<0"
     ]
    },
    {
     "name": "stdout",
     "output_type": "stream",
     "text": [
      "                   all        101        185      0.408      0.396      0.375       0.15\n"
     ]
    },
    {
     "name": "stderr",
     "output_type": "stream",
     "text": [
      "\n"
     ]
    },
    {
     "name": "stdout",
     "output_type": "stream",
     "text": [
      "\n",
      "      Epoch    GPU_mem   box_loss   cls_loss   dfl_loss  Instances       Size\n"
     ]
    },
    {
     "name": "stderr",
     "output_type": "stream",
     "text": [
      "      46/50         0G      1.416      1.635       1.42          6        640: 100%|██████████| 51/51 [04:06<00:00,  4.\n",
      "                 Class     Images  Instances      Box(P          R      mAP50  mAP50-95): 100%|██████████| 7/7 [00:19<0"
     ]
    },
    {
     "name": "stdout",
     "output_type": "stream",
     "text": [
      "                   all        101        185      0.409       0.42      0.383      0.155\n"
     ]
    },
    {
     "name": "stderr",
     "output_type": "stream",
     "text": [
      "\n"
     ]
    },
    {
     "name": "stdout",
     "output_type": "stream",
     "text": [
      "\n",
      "      Epoch    GPU_mem   box_loss   cls_loss   dfl_loss  Instances       Size\n"
     ]
    },
    {
     "name": "stderr",
     "output_type": "stream",
     "text": [
      "      47/50         0G      1.397      1.598      1.399          4        640: 100%|██████████| 51/51 [04:05<00:00,  4.\n",
      "                 Class     Images  Instances      Box(P          R      mAP50  mAP50-95): 100%|██████████| 7/7 [00:17<0"
     ]
    },
    {
     "name": "stdout",
     "output_type": "stream",
     "text": [
      "                   all        101        185      0.361      0.465      0.401      0.161\n"
     ]
    },
    {
     "name": "stderr",
     "output_type": "stream",
     "text": [
      "\n"
     ]
    },
    {
     "name": "stdout",
     "output_type": "stream",
     "text": [
      "\n",
      "      Epoch    GPU_mem   box_loss   cls_loss   dfl_loss  Instances       Size\n"
     ]
    },
    {
     "name": "stderr",
     "output_type": "stream",
     "text": [
      "      48/50         0G       1.42        1.6      1.406          8        640: 100%|██████████| 51/51 [04:08<00:00,  4.\n",
      "                 Class     Images  Instances      Box(P          R      mAP50  mAP50-95): 100%|██████████| 7/7 [00:17<0"
     ]
    },
    {
     "name": "stdout",
     "output_type": "stream",
     "text": [
      "                   all        101        185      0.342      0.454      0.401      0.156\n"
     ]
    },
    {
     "name": "stderr",
     "output_type": "stream",
     "text": [
      "\n"
     ]
    },
    {
     "name": "stdout",
     "output_type": "stream",
     "text": [
      "\n",
      "      Epoch    GPU_mem   box_loss   cls_loss   dfl_loss  Instances       Size\n"
     ]
    },
    {
     "name": "stderr",
     "output_type": "stream",
     "text": [
      "      49/50         0G      1.409      1.581      1.426         16        640: 100%|██████████| 51/51 [04:01<00:00,  4.\n",
      "                 Class     Images  Instances      Box(P          R      mAP50  mAP50-95): 100%|██████████| 7/7 [00:18<0"
     ]
    },
    {
     "name": "stdout",
     "output_type": "stream",
     "text": [
      "                   all        101        185      0.423      0.433      0.404      0.159\n"
     ]
    },
    {
     "name": "stderr",
     "output_type": "stream",
     "text": [
      "\n"
     ]
    },
    {
     "name": "stdout",
     "output_type": "stream",
     "text": [
      "\n",
      "      Epoch    GPU_mem   box_loss   cls_loss   dfl_loss  Instances       Size\n"
     ]
    },
    {
     "name": "stderr",
     "output_type": "stream",
     "text": [
      "      50/50         0G      1.386      1.566      1.393          7        640: 100%|██████████| 51/51 [04:13<00:00,  4.\n",
      "                 Class     Images  Instances      Box(P          R      mAP50  mAP50-95): 100%|██████████| 7/7 [00:18<0"
     ]
    },
    {
     "name": "stdout",
     "output_type": "stream",
     "text": [
      "                   all        101        185      0.401      0.424      0.404       0.16\n"
     ]
    },
    {
     "name": "stderr",
     "output_type": "stream",
     "text": [
      "\n"
     ]
    },
    {
     "name": "stdout",
     "output_type": "stream",
     "text": [
      "\n",
      "50 epochs completed in 3.684 hours.\n",
      "Optimizer stripped from runs\\detect\\road_features_yolo2\\weights\\last.pt, 6.3MB\n",
      "Optimizer stripped from runs\\detect\\road_features_yolo2\\weights\\best.pt, 6.3MB\n",
      "\n",
      "Validating runs\\detect\\road_features_yolo2\\weights\\best.pt...\n",
      "Ultralytics 8.3.146  Python-3.10.0 torch-2.7.0+cpu CPU (12th Gen Intel Core(TM) i5-12450HX)\n",
      "Model summary (fused): 72 layers, 3,007,988 parameters, 0 gradients, 8.1 GFLOPs\n"
     ]
    },
    {
     "name": "stderr",
     "output_type": "stream",
     "text": [
      "                 Class     Images  Instances      Box(P          R      mAP50  mAP50-95): 100%|██████████| 7/7 [00:16<0\n"
     ]
    },
    {
     "name": "stdout",
     "output_type": "stream",
     "text": [
      "                   all        101        185      0.462      0.441      0.399      0.173\n",
      "             Lane mark         29         34      0.329      0.265      0.152      0.044\n",
      "            Plain road         42         47      0.686      0.702      0.761      0.416\n",
      "               Manhole          8         11      0.714      0.455      0.564       0.26\n",
      "               Divider          9          9      0.273      0.556      0.511      0.153\n",
      "           Speed bumps          7          9      0.463      0.333      0.332      0.068\n",
      "                Cracks         15         23          0          0     0.0766     0.0254\n",
      "               Pothole          8         15      0.304      0.407      0.253     0.0748\n",
      "        Zebra crossing          3          3      0.247      0.667      0.297     0.0877\n",
      "         Rumble strips          3          3      0.214      0.667      0.555      0.434\n",
      "            Sign board         24         30      0.851        0.8      0.849      0.335\n",
      "         Leading lines          1          1          1          0     0.0415    0.00736\n",
      "Speed: 1.9ms preprocess, 115.8ms inference, 0.0ms loss, 1.9ms postprocess per image\n",
      "Results saved to \u001b[1mruns\\detect\\road_features_yolo2\u001b[0m\n"
     ]
    },
    {
     "data": {
      "text/plain": [
       "ultralytics.utils.metrics.DetMetrics object with attributes:\n",
       "\n",
       "ap_class_index: array([ 0,  1,  2,  3,  4,  5,  6,  7,  9, 10, 11])\n",
       "box: ultralytics.utils.metrics.Metric object\n",
       "confusion_matrix: <ultralytics.utils.metrics.ConfusionMatrix object at 0x0000019027D011B0>\n",
       "curves: ['Precision-Recall(B)', 'F1-Confidence(B)', 'Precision-Confidence(B)', 'Recall-Confidence(B)']\n",
       "curves_results: [[array([          0,    0.001001,    0.002002,    0.003003,    0.004004,    0.005005,    0.006006,    0.007007,    0.008008,    0.009009,     0.01001,    0.011011,    0.012012,    0.013013,    0.014014,    0.015015,    0.016016,    0.017017,    0.018018,    0.019019,     0.02002,    0.021021,    0.022022,    0.023023,\n",
       "          0.024024,    0.025025,    0.026026,    0.027027,    0.028028,    0.029029,     0.03003,    0.031031,    0.032032,    0.033033,    0.034034,    0.035035,    0.036036,    0.037037,    0.038038,    0.039039,     0.04004,    0.041041,    0.042042,    0.043043,    0.044044,    0.045045,    0.046046,    0.047047,\n",
       "          0.048048,    0.049049,     0.05005,    0.051051,    0.052052,    0.053053,    0.054054,    0.055055,    0.056056,    0.057057,    0.058058,    0.059059,     0.06006,    0.061061,    0.062062,    0.063063,    0.064064,    0.065065,    0.066066,    0.067067,    0.068068,    0.069069,     0.07007,    0.071071,\n",
       "          0.072072,    0.073073,    0.074074,    0.075075,    0.076076,    0.077077,    0.078078,    0.079079,     0.08008,    0.081081,    0.082082,    0.083083,    0.084084,    0.085085,    0.086086,    0.087087,    0.088088,    0.089089,     0.09009,    0.091091,    0.092092,    0.093093,    0.094094,    0.095095,\n",
       "          0.096096,    0.097097,    0.098098,    0.099099,      0.1001,      0.1011,      0.1021,      0.1031,      0.1041,     0.10511,     0.10611,     0.10711,     0.10811,     0.10911,     0.11011,     0.11111,     0.11211,     0.11311,     0.11411,     0.11512,     0.11612,     0.11712,     0.11812,     0.11912,\n",
       "           0.12012,     0.12112,     0.12212,     0.12312,     0.12412,     0.12513,     0.12613,     0.12713,     0.12813,     0.12913,     0.13013,     0.13113,     0.13213,     0.13313,     0.13413,     0.13514,     0.13614,     0.13714,     0.13814,     0.13914,     0.14014,     0.14114,     0.14214,     0.14314,\n",
       "           0.14414,     0.14515,     0.14615,     0.14715,     0.14815,     0.14915,     0.15015,     0.15115,     0.15215,     0.15315,     0.15415,     0.15516,     0.15616,     0.15716,     0.15816,     0.15916,     0.16016,     0.16116,     0.16216,     0.16316,     0.16416,     0.16517,     0.16617,     0.16717,\n",
       "           0.16817,     0.16917,     0.17017,     0.17117,     0.17217,     0.17317,     0.17417,     0.17518,     0.17618,     0.17718,     0.17818,     0.17918,     0.18018,     0.18118,     0.18218,     0.18318,     0.18418,     0.18519,     0.18619,     0.18719,     0.18819,     0.18919,     0.19019,     0.19119,\n",
       "           0.19219,     0.19319,     0.19419,      0.1952,      0.1962,      0.1972,      0.1982,      0.1992,      0.2002,      0.2012,      0.2022,      0.2032,      0.2042,     0.20521,     0.20621,     0.20721,     0.20821,     0.20921,     0.21021,     0.21121,     0.21221,     0.21321,     0.21421,     0.21522,\n",
       "           0.21622,     0.21722,     0.21822,     0.21922,     0.22022,     0.22122,     0.22222,     0.22322,     0.22422,     0.22523,     0.22623,     0.22723,     0.22823,     0.22923,     0.23023,     0.23123,     0.23223,     0.23323,     0.23423,     0.23524,     0.23624,     0.23724,     0.23824,     0.23924,\n",
       "           0.24024,     0.24124,     0.24224,     0.24324,     0.24424,     0.24525,     0.24625,     0.24725,     0.24825,     0.24925,     0.25025,     0.25125,     0.25225,     0.25325,     0.25425,     0.25526,     0.25626,     0.25726,     0.25826,     0.25926,     0.26026,     0.26126,     0.26226,     0.26326,\n",
       "           0.26426,     0.26527,     0.26627,     0.26727,     0.26827,     0.26927,     0.27027,     0.27127,     0.27227,     0.27327,     0.27427,     0.27528,     0.27628,     0.27728,     0.27828,     0.27928,     0.28028,     0.28128,     0.28228,     0.28328,     0.28428,     0.28529,     0.28629,     0.28729,\n",
       "           0.28829,     0.28929,     0.29029,     0.29129,     0.29229,     0.29329,     0.29429,      0.2953,      0.2963,      0.2973,      0.2983,      0.2993,      0.3003,      0.3013,      0.3023,      0.3033,      0.3043,     0.30531,     0.30631,     0.30731,     0.30831,     0.30931,     0.31031,     0.31131,\n",
       "           0.31231,     0.31331,     0.31431,     0.31532,     0.31632,     0.31732,     0.31832,     0.31932,     0.32032,     0.32132,     0.32232,     0.32332,     0.32432,     0.32533,     0.32633,     0.32733,     0.32833,     0.32933,     0.33033,     0.33133,     0.33233,     0.33333,     0.33433,     0.33534,\n",
       "           0.33634,     0.33734,     0.33834,     0.33934,     0.34034,     0.34134,     0.34234,     0.34334,     0.34434,     0.34535,     0.34635,     0.34735,     0.34835,     0.34935,     0.35035,     0.35135,     0.35235,     0.35335,     0.35435,     0.35536,     0.35636,     0.35736,     0.35836,     0.35936,\n",
       "           0.36036,     0.36136,     0.36236,     0.36336,     0.36436,     0.36537,     0.36637,     0.36737,     0.36837,     0.36937,     0.37037,     0.37137,     0.37237,     0.37337,     0.37437,     0.37538,     0.37638,     0.37738,     0.37838,     0.37938,     0.38038,     0.38138,     0.38238,     0.38338,\n",
       "           0.38438,     0.38539,     0.38639,     0.38739,     0.38839,     0.38939,     0.39039,     0.39139,     0.39239,     0.39339,     0.39439,      0.3954,      0.3964,      0.3974,      0.3984,      0.3994,      0.4004,      0.4014,      0.4024,      0.4034,      0.4044,     0.40541,     0.40641,     0.40741,\n",
       "           0.40841,     0.40941,     0.41041,     0.41141,     0.41241,     0.41341,     0.41441,     0.41542,     0.41642,     0.41742,     0.41842,     0.41942,     0.42042,     0.42142,     0.42242,     0.42342,     0.42442,     0.42543,     0.42643,     0.42743,     0.42843,     0.42943,     0.43043,     0.43143,\n",
       "           0.43243,     0.43343,     0.43443,     0.43544,     0.43644,     0.43744,     0.43844,     0.43944,     0.44044,     0.44144,     0.44244,     0.44344,     0.44444,     0.44545,     0.44645,     0.44745,     0.44845,     0.44945,     0.45045,     0.45145,     0.45245,     0.45345,     0.45445,     0.45546,\n",
       "           0.45646,     0.45746,     0.45846,     0.45946,     0.46046,     0.46146,     0.46246,     0.46346,     0.46446,     0.46547,     0.46647,     0.46747,     0.46847,     0.46947,     0.47047,     0.47147,     0.47247,     0.47347,     0.47447,     0.47548,     0.47648,     0.47748,     0.47848,     0.47948,\n",
       "           0.48048,     0.48148,     0.48248,     0.48348,     0.48448,     0.48549,     0.48649,     0.48749,     0.48849,     0.48949,     0.49049,     0.49149,     0.49249,     0.49349,     0.49449,      0.4955,      0.4965,      0.4975,      0.4985,      0.4995,      0.5005,      0.5015,      0.5025,      0.5035,\n",
       "            0.5045,     0.50551,     0.50651,     0.50751,     0.50851,     0.50951,     0.51051,     0.51151,     0.51251,     0.51351,     0.51451,     0.51552,     0.51652,     0.51752,     0.51852,     0.51952,     0.52052,     0.52152,     0.52252,     0.52352,     0.52452,     0.52553,     0.52653,     0.52753,\n",
       "           0.52853,     0.52953,     0.53053,     0.53153,     0.53253,     0.53353,     0.53453,     0.53554,     0.53654,     0.53754,     0.53854,     0.53954,     0.54054,     0.54154,     0.54254,     0.54354,     0.54454,     0.54555,     0.54655,     0.54755,     0.54855,     0.54955,     0.55055,     0.55155,\n",
       "           0.55255,     0.55355,     0.55455,     0.55556,     0.55656,     0.55756,     0.55856,     0.55956,     0.56056,     0.56156,     0.56256,     0.56356,     0.56456,     0.56557,     0.56657,     0.56757,     0.56857,     0.56957,     0.57057,     0.57157,     0.57257,     0.57357,     0.57457,     0.57558,\n",
       "           0.57658,     0.57758,     0.57858,     0.57958,     0.58058,     0.58158,     0.58258,     0.58358,     0.58458,     0.58559,     0.58659,     0.58759,     0.58859,     0.58959,     0.59059,     0.59159,     0.59259,     0.59359,     0.59459,      0.5956,      0.5966,      0.5976,      0.5986,      0.5996,\n",
       "            0.6006,      0.6016,      0.6026,      0.6036,      0.6046,     0.60561,     0.60661,     0.60761,     0.60861,     0.60961,     0.61061,     0.61161,     0.61261,     0.61361,     0.61461,     0.61562,     0.61662,     0.61762,     0.61862,     0.61962,     0.62062,     0.62162,     0.62262,     0.62362,\n",
       "           0.62462,     0.62563,     0.62663,     0.62763,     0.62863,     0.62963,     0.63063,     0.63163,     0.63263,     0.63363,     0.63463,     0.63564,     0.63664,     0.63764,     0.63864,     0.63964,     0.64064,     0.64164,     0.64264,     0.64364,     0.64464,     0.64565,     0.64665,     0.64765,\n",
       "           0.64865,     0.64965,     0.65065,     0.65165,     0.65265,     0.65365,     0.65465,     0.65566,     0.65666,     0.65766,     0.65866,     0.65966,     0.66066,     0.66166,     0.66266,     0.66366,     0.66466,     0.66567,     0.66667,     0.66767,     0.66867,     0.66967,     0.67067,     0.67167,\n",
       "           0.67267,     0.67367,     0.67467,     0.67568,     0.67668,     0.67768,     0.67868,     0.67968,     0.68068,     0.68168,     0.68268,     0.68368,     0.68468,     0.68569,     0.68669,     0.68769,     0.68869,     0.68969,     0.69069,     0.69169,     0.69269,     0.69369,     0.69469,      0.6957,\n",
       "            0.6967,      0.6977,      0.6987,      0.6997,      0.7007,      0.7017,      0.7027,      0.7037,      0.7047,     0.70571,     0.70671,     0.70771,     0.70871,     0.70971,     0.71071,     0.71171,     0.71271,     0.71371,     0.71471,     0.71572,     0.71672,     0.71772,     0.71872,     0.71972,\n",
       "           0.72072,     0.72172,     0.72272,     0.72372,     0.72472,     0.72573,     0.72673,     0.72773,     0.72873,     0.72973,     0.73073,     0.73173,     0.73273,     0.73373,     0.73473,     0.73574,     0.73674,     0.73774,     0.73874,     0.73974,     0.74074,     0.74174,     0.74274,     0.74374,\n",
       "           0.74474,     0.74575,     0.74675,     0.74775,     0.74875,     0.74975,     0.75075,     0.75175,     0.75275,     0.75375,     0.75475,     0.75576,     0.75676,     0.75776,     0.75876,     0.75976,     0.76076,     0.76176,     0.76276,     0.76376,     0.76476,     0.76577,     0.76677,     0.76777,\n",
       "           0.76877,     0.76977,     0.77077,     0.77177,     0.77277,     0.77377,     0.77477,     0.77578,     0.77678,     0.77778,     0.77878,     0.77978,     0.78078,     0.78178,     0.78278,     0.78378,     0.78478,     0.78579,     0.78679,     0.78779,     0.78879,     0.78979,     0.79079,     0.79179,\n",
       "           0.79279,     0.79379,     0.79479,      0.7958,      0.7968,      0.7978,      0.7988,      0.7998,      0.8008,      0.8018,      0.8028,      0.8038,      0.8048,     0.80581,     0.80681,     0.80781,     0.80881,     0.80981,     0.81081,     0.81181,     0.81281,     0.81381,     0.81481,     0.81582,\n",
       "           0.81682,     0.81782,     0.81882,     0.81982,     0.82082,     0.82182,     0.82282,     0.82382,     0.82482,     0.82583,     0.82683,     0.82783,     0.82883,     0.82983,     0.83083,     0.83183,     0.83283,     0.83383,     0.83483,     0.83584,     0.83684,     0.83784,     0.83884,     0.83984,\n",
       "           0.84084,     0.84184,     0.84284,     0.84384,     0.84484,     0.84585,     0.84685,     0.84785,     0.84885,     0.84985,     0.85085,     0.85185,     0.85285,     0.85385,     0.85485,     0.85586,     0.85686,     0.85786,     0.85886,     0.85986,     0.86086,     0.86186,     0.86286,     0.86386,\n",
       "           0.86486,     0.86587,     0.86687,     0.86787,     0.86887,     0.86987,     0.87087,     0.87187,     0.87287,     0.87387,     0.87487,     0.87588,     0.87688,     0.87788,     0.87888,     0.87988,     0.88088,     0.88188,     0.88288,     0.88388,     0.88488,     0.88589,     0.88689,     0.88789,\n",
       "           0.88889,     0.88989,     0.89089,     0.89189,     0.89289,     0.89389,     0.89489,      0.8959,      0.8969,      0.8979,      0.8989,      0.8999,      0.9009,      0.9019,      0.9029,      0.9039,      0.9049,     0.90591,     0.90691,     0.90791,     0.90891,     0.90991,     0.91091,     0.91191,\n",
       "           0.91291,     0.91391,     0.91491,     0.91592,     0.91692,     0.91792,     0.91892,     0.91992,     0.92092,     0.92192,     0.92292,     0.92392,     0.92492,     0.92593,     0.92693,     0.92793,     0.92893,     0.92993,     0.93093,     0.93193,     0.93293,     0.93393,     0.93493,     0.93594,\n",
       "           0.93694,     0.93794,     0.93894,     0.93994,     0.94094,     0.94194,     0.94294,     0.94394,     0.94494,     0.94595,     0.94695,     0.94795,     0.94895,     0.94995,     0.95095,     0.95195,     0.95295,     0.95395,     0.95495,     0.95596,     0.95696,     0.95796,     0.95896,     0.95996,\n",
       "           0.96096,     0.96196,     0.96296,     0.96396,     0.96496,     0.96597,     0.96697,     0.96797,     0.96897,     0.96997,     0.97097,     0.97197,     0.97297,     0.97397,     0.97497,     0.97598,     0.97698,     0.97798,     0.97898,     0.97998,     0.98098,     0.98198,     0.98298,     0.98398,\n",
       "           0.98498,     0.98599,     0.98699,     0.98799,     0.98899,     0.98999,     0.99099,     0.99199,     0.99299,     0.99399,     0.99499,       0.996,       0.997,       0.998,       0.999,           1]), array([[        0.5,         0.5,         0.5, ...,  6.5938e-05,  3.2969e-05,           0],\n",
       "       [          1,           1,           1, ...,   0.0015453,  0.00077267,           0],\n",
       "       [          1,           1,           1, ...,   0.0002056,   0.0001028,           0],\n",
       "       ...,\n",
       "       [          1,           1,           1, ...,   1.509e-05,  7.5452e-06,           0],\n",
       "       [          1,           1,           1, ...,   0.0020508,   0.0010254,           0],\n",
       "       [   0.041667,    0.041667,    0.041667, ...,    0.041667,    0.041667,           0]]), 'Recall', 'Precision'], [array([          0,    0.001001,    0.002002,    0.003003,    0.004004,    0.005005,    0.006006,    0.007007,    0.008008,    0.009009,     0.01001,    0.011011,    0.012012,    0.013013,    0.014014,    0.015015,    0.016016,    0.017017,    0.018018,    0.019019,     0.02002,    0.021021,    0.022022,    0.023023,\n",
       "          0.024024,    0.025025,    0.026026,    0.027027,    0.028028,    0.029029,     0.03003,    0.031031,    0.032032,    0.033033,    0.034034,    0.035035,    0.036036,    0.037037,    0.038038,    0.039039,     0.04004,    0.041041,    0.042042,    0.043043,    0.044044,    0.045045,    0.046046,    0.047047,\n",
       "          0.048048,    0.049049,     0.05005,    0.051051,    0.052052,    0.053053,    0.054054,    0.055055,    0.056056,    0.057057,    0.058058,    0.059059,     0.06006,    0.061061,    0.062062,    0.063063,    0.064064,    0.065065,    0.066066,    0.067067,    0.068068,    0.069069,     0.07007,    0.071071,\n",
       "          0.072072,    0.073073,    0.074074,    0.075075,    0.076076,    0.077077,    0.078078,    0.079079,     0.08008,    0.081081,    0.082082,    0.083083,    0.084084,    0.085085,    0.086086,    0.087087,    0.088088,    0.089089,     0.09009,    0.091091,    0.092092,    0.093093,    0.094094,    0.095095,\n",
       "          0.096096,    0.097097,    0.098098,    0.099099,      0.1001,      0.1011,      0.1021,      0.1031,      0.1041,     0.10511,     0.10611,     0.10711,     0.10811,     0.10911,     0.11011,     0.11111,     0.11211,     0.11311,     0.11411,     0.11512,     0.11612,     0.11712,     0.11812,     0.11912,\n",
       "           0.12012,     0.12112,     0.12212,     0.12312,     0.12412,     0.12513,     0.12613,     0.12713,     0.12813,     0.12913,     0.13013,     0.13113,     0.13213,     0.13313,     0.13413,     0.13514,     0.13614,     0.13714,     0.13814,     0.13914,     0.14014,     0.14114,     0.14214,     0.14314,\n",
       "           0.14414,     0.14515,     0.14615,     0.14715,     0.14815,     0.14915,     0.15015,     0.15115,     0.15215,     0.15315,     0.15415,     0.15516,     0.15616,     0.15716,     0.15816,     0.15916,     0.16016,     0.16116,     0.16216,     0.16316,     0.16416,     0.16517,     0.16617,     0.16717,\n",
       "           0.16817,     0.16917,     0.17017,     0.17117,     0.17217,     0.17317,     0.17417,     0.17518,     0.17618,     0.17718,     0.17818,     0.17918,     0.18018,     0.18118,     0.18218,     0.18318,     0.18418,     0.18519,     0.18619,     0.18719,     0.18819,     0.18919,     0.19019,     0.19119,\n",
       "           0.19219,     0.19319,     0.19419,      0.1952,      0.1962,      0.1972,      0.1982,      0.1992,      0.2002,      0.2012,      0.2022,      0.2032,      0.2042,     0.20521,     0.20621,     0.20721,     0.20821,     0.20921,     0.21021,     0.21121,     0.21221,     0.21321,     0.21421,     0.21522,\n",
       "           0.21622,     0.21722,     0.21822,     0.21922,     0.22022,     0.22122,     0.22222,     0.22322,     0.22422,     0.22523,     0.22623,     0.22723,     0.22823,     0.22923,     0.23023,     0.23123,     0.23223,     0.23323,     0.23423,     0.23524,     0.23624,     0.23724,     0.23824,     0.23924,\n",
       "           0.24024,     0.24124,     0.24224,     0.24324,     0.24424,     0.24525,     0.24625,     0.24725,     0.24825,     0.24925,     0.25025,     0.25125,     0.25225,     0.25325,     0.25425,     0.25526,     0.25626,     0.25726,     0.25826,     0.25926,     0.26026,     0.26126,     0.26226,     0.26326,\n",
       "           0.26426,     0.26527,     0.26627,     0.26727,     0.26827,     0.26927,     0.27027,     0.27127,     0.27227,     0.27327,     0.27427,     0.27528,     0.27628,     0.27728,     0.27828,     0.27928,     0.28028,     0.28128,     0.28228,     0.28328,     0.28428,     0.28529,     0.28629,     0.28729,\n",
       "           0.28829,     0.28929,     0.29029,     0.29129,     0.29229,     0.29329,     0.29429,      0.2953,      0.2963,      0.2973,      0.2983,      0.2993,      0.3003,      0.3013,      0.3023,      0.3033,      0.3043,     0.30531,     0.30631,     0.30731,     0.30831,     0.30931,     0.31031,     0.31131,\n",
       "           0.31231,     0.31331,     0.31431,     0.31532,     0.31632,     0.31732,     0.31832,     0.31932,     0.32032,     0.32132,     0.32232,     0.32332,     0.32432,     0.32533,     0.32633,     0.32733,     0.32833,     0.32933,     0.33033,     0.33133,     0.33233,     0.33333,     0.33433,     0.33534,\n",
       "           0.33634,     0.33734,     0.33834,     0.33934,     0.34034,     0.34134,     0.34234,     0.34334,     0.34434,     0.34535,     0.34635,     0.34735,     0.34835,     0.34935,     0.35035,     0.35135,     0.35235,     0.35335,     0.35435,     0.35536,     0.35636,     0.35736,     0.35836,     0.35936,\n",
       "           0.36036,     0.36136,     0.36236,     0.36336,     0.36436,     0.36537,     0.36637,     0.36737,     0.36837,     0.36937,     0.37037,     0.37137,     0.37237,     0.37337,     0.37437,     0.37538,     0.37638,     0.37738,     0.37838,     0.37938,     0.38038,     0.38138,     0.38238,     0.38338,\n",
       "           0.38438,     0.38539,     0.38639,     0.38739,     0.38839,     0.38939,     0.39039,     0.39139,     0.39239,     0.39339,     0.39439,      0.3954,      0.3964,      0.3974,      0.3984,      0.3994,      0.4004,      0.4014,      0.4024,      0.4034,      0.4044,     0.40541,     0.40641,     0.40741,\n",
       "           0.40841,     0.40941,     0.41041,     0.41141,     0.41241,     0.41341,     0.41441,     0.41542,     0.41642,     0.41742,     0.41842,     0.41942,     0.42042,     0.42142,     0.42242,     0.42342,     0.42442,     0.42543,     0.42643,     0.42743,     0.42843,     0.42943,     0.43043,     0.43143,\n",
       "           0.43243,     0.43343,     0.43443,     0.43544,     0.43644,     0.43744,     0.43844,     0.43944,     0.44044,     0.44144,     0.44244,     0.44344,     0.44444,     0.44545,     0.44645,     0.44745,     0.44845,     0.44945,     0.45045,     0.45145,     0.45245,     0.45345,     0.45445,     0.45546,\n",
       "           0.45646,     0.45746,     0.45846,     0.45946,     0.46046,     0.46146,     0.46246,     0.46346,     0.46446,     0.46547,     0.46647,     0.46747,     0.46847,     0.46947,     0.47047,     0.47147,     0.47247,     0.47347,     0.47447,     0.47548,     0.47648,     0.47748,     0.47848,     0.47948,\n",
       "           0.48048,     0.48148,     0.48248,     0.48348,     0.48448,     0.48549,     0.48649,     0.48749,     0.48849,     0.48949,     0.49049,     0.49149,     0.49249,     0.49349,     0.49449,      0.4955,      0.4965,      0.4975,      0.4985,      0.4995,      0.5005,      0.5015,      0.5025,      0.5035,\n",
       "            0.5045,     0.50551,     0.50651,     0.50751,     0.50851,     0.50951,     0.51051,     0.51151,     0.51251,     0.51351,     0.51451,     0.51552,     0.51652,     0.51752,     0.51852,     0.51952,     0.52052,     0.52152,     0.52252,     0.52352,     0.52452,     0.52553,     0.52653,     0.52753,\n",
       "           0.52853,     0.52953,     0.53053,     0.53153,     0.53253,     0.53353,     0.53453,     0.53554,     0.53654,     0.53754,     0.53854,     0.53954,     0.54054,     0.54154,     0.54254,     0.54354,     0.54454,     0.54555,     0.54655,     0.54755,     0.54855,     0.54955,     0.55055,     0.55155,\n",
       "           0.55255,     0.55355,     0.55455,     0.55556,     0.55656,     0.55756,     0.55856,     0.55956,     0.56056,     0.56156,     0.56256,     0.56356,     0.56456,     0.56557,     0.56657,     0.56757,     0.56857,     0.56957,     0.57057,     0.57157,     0.57257,     0.57357,     0.57457,     0.57558,\n",
       "           0.57658,     0.57758,     0.57858,     0.57958,     0.58058,     0.58158,     0.58258,     0.58358,     0.58458,     0.58559,     0.58659,     0.58759,     0.58859,     0.58959,     0.59059,     0.59159,     0.59259,     0.59359,     0.59459,      0.5956,      0.5966,      0.5976,      0.5986,      0.5996,\n",
       "            0.6006,      0.6016,      0.6026,      0.6036,      0.6046,     0.60561,     0.60661,     0.60761,     0.60861,     0.60961,     0.61061,     0.61161,     0.61261,     0.61361,     0.61461,     0.61562,     0.61662,     0.61762,     0.61862,     0.61962,     0.62062,     0.62162,     0.62262,     0.62362,\n",
       "           0.62462,     0.62563,     0.62663,     0.62763,     0.62863,     0.62963,     0.63063,     0.63163,     0.63263,     0.63363,     0.63463,     0.63564,     0.63664,     0.63764,     0.63864,     0.63964,     0.64064,     0.64164,     0.64264,     0.64364,     0.64464,     0.64565,     0.64665,     0.64765,\n",
       "           0.64865,     0.64965,     0.65065,     0.65165,     0.65265,     0.65365,     0.65465,     0.65566,     0.65666,     0.65766,     0.65866,     0.65966,     0.66066,     0.66166,     0.66266,     0.66366,     0.66466,     0.66567,     0.66667,     0.66767,     0.66867,     0.66967,     0.67067,     0.67167,\n",
       "           0.67267,     0.67367,     0.67467,     0.67568,     0.67668,     0.67768,     0.67868,     0.67968,     0.68068,     0.68168,     0.68268,     0.68368,     0.68468,     0.68569,     0.68669,     0.68769,     0.68869,     0.68969,     0.69069,     0.69169,     0.69269,     0.69369,     0.69469,      0.6957,\n",
       "            0.6967,      0.6977,      0.6987,      0.6997,      0.7007,      0.7017,      0.7027,      0.7037,      0.7047,     0.70571,     0.70671,     0.70771,     0.70871,     0.70971,     0.71071,     0.71171,     0.71271,     0.71371,     0.71471,     0.71572,     0.71672,     0.71772,     0.71872,     0.71972,\n",
       "           0.72072,     0.72172,     0.72272,     0.72372,     0.72472,     0.72573,     0.72673,     0.72773,     0.72873,     0.72973,     0.73073,     0.73173,     0.73273,     0.73373,     0.73473,     0.73574,     0.73674,     0.73774,     0.73874,     0.73974,     0.74074,     0.74174,     0.74274,     0.74374,\n",
       "           0.74474,     0.74575,     0.74675,     0.74775,     0.74875,     0.74975,     0.75075,     0.75175,     0.75275,     0.75375,     0.75475,     0.75576,     0.75676,     0.75776,     0.75876,     0.75976,     0.76076,     0.76176,     0.76276,     0.76376,     0.76476,     0.76577,     0.76677,     0.76777,\n",
       "           0.76877,     0.76977,     0.77077,     0.77177,     0.77277,     0.77377,     0.77477,     0.77578,     0.77678,     0.77778,     0.77878,     0.77978,     0.78078,     0.78178,     0.78278,     0.78378,     0.78478,     0.78579,     0.78679,     0.78779,     0.78879,     0.78979,     0.79079,     0.79179,\n",
       "           0.79279,     0.79379,     0.79479,      0.7958,      0.7968,      0.7978,      0.7988,      0.7998,      0.8008,      0.8018,      0.8028,      0.8038,      0.8048,     0.80581,     0.80681,     0.80781,     0.80881,     0.80981,     0.81081,     0.81181,     0.81281,     0.81381,     0.81481,     0.81582,\n",
       "           0.81682,     0.81782,     0.81882,     0.81982,     0.82082,     0.82182,     0.82282,     0.82382,     0.82482,     0.82583,     0.82683,     0.82783,     0.82883,     0.82983,     0.83083,     0.83183,     0.83283,     0.83383,     0.83483,     0.83584,     0.83684,     0.83784,     0.83884,     0.83984,\n",
       "           0.84084,     0.84184,     0.84284,     0.84384,     0.84484,     0.84585,     0.84685,     0.84785,     0.84885,     0.84985,     0.85085,     0.85185,     0.85285,     0.85385,     0.85485,     0.85586,     0.85686,     0.85786,     0.85886,     0.85986,     0.86086,     0.86186,     0.86286,     0.86386,\n",
       "           0.86486,     0.86587,     0.86687,     0.86787,     0.86887,     0.86987,     0.87087,     0.87187,     0.87287,     0.87387,     0.87487,     0.87588,     0.87688,     0.87788,     0.87888,     0.87988,     0.88088,     0.88188,     0.88288,     0.88388,     0.88488,     0.88589,     0.88689,     0.88789,\n",
       "           0.88889,     0.88989,     0.89089,     0.89189,     0.89289,     0.89389,     0.89489,      0.8959,      0.8969,      0.8979,      0.8989,      0.8999,      0.9009,      0.9019,      0.9029,      0.9039,      0.9049,     0.90591,     0.90691,     0.90791,     0.90891,     0.90991,     0.91091,     0.91191,\n",
       "           0.91291,     0.91391,     0.91491,     0.91592,     0.91692,     0.91792,     0.91892,     0.91992,     0.92092,     0.92192,     0.92292,     0.92392,     0.92492,     0.92593,     0.92693,     0.92793,     0.92893,     0.92993,     0.93093,     0.93193,     0.93293,     0.93393,     0.93493,     0.93594,\n",
       "           0.93694,     0.93794,     0.93894,     0.93994,     0.94094,     0.94194,     0.94294,     0.94394,     0.94494,     0.94595,     0.94695,     0.94795,     0.94895,     0.94995,     0.95095,     0.95195,     0.95295,     0.95395,     0.95495,     0.95596,     0.95696,     0.95796,     0.95896,     0.95996,\n",
       "           0.96096,     0.96196,     0.96296,     0.96396,     0.96496,     0.96597,     0.96697,     0.96797,     0.96897,     0.96997,     0.97097,     0.97197,     0.97297,     0.97397,     0.97497,     0.97598,     0.97698,     0.97798,     0.97898,     0.97998,     0.98098,     0.98198,     0.98298,     0.98398,\n",
       "           0.98498,     0.98599,     0.98699,     0.98799,     0.98899,     0.98999,     0.99099,     0.99199,     0.99299,     0.99399,     0.99499,       0.996,       0.997,       0.998,       0.999,           1]), array([[   0.015344,    0.015351,    0.023885, ...,           0,           0,           0],\n",
       "       [   0.063514,    0.063525,     0.13414, ...,           0,           0,           0],\n",
       "       [   0.036511,    0.036511,    0.080344, ...,           0,           0,           0],\n",
       "       ...,\n",
       "       [  0.0050063,   0.0050098,    0.013293, ...,           0,           0,           0],\n",
       "       [    0.12727,     0.12729,     0.21471, ...,           0,           0,           0],\n",
       "       [   0.010309,    0.010309,    0.035945, ...,           0,           0,           0]]), 'Confidence', 'F1'], [array([          0,    0.001001,    0.002002,    0.003003,    0.004004,    0.005005,    0.006006,    0.007007,    0.008008,    0.009009,     0.01001,    0.011011,    0.012012,    0.013013,    0.014014,    0.015015,    0.016016,    0.017017,    0.018018,    0.019019,     0.02002,    0.021021,    0.022022,    0.023023,\n",
       "          0.024024,    0.025025,    0.026026,    0.027027,    0.028028,    0.029029,     0.03003,    0.031031,    0.032032,    0.033033,    0.034034,    0.035035,    0.036036,    0.037037,    0.038038,    0.039039,     0.04004,    0.041041,    0.042042,    0.043043,    0.044044,    0.045045,    0.046046,    0.047047,\n",
       "          0.048048,    0.049049,     0.05005,    0.051051,    0.052052,    0.053053,    0.054054,    0.055055,    0.056056,    0.057057,    0.058058,    0.059059,     0.06006,    0.061061,    0.062062,    0.063063,    0.064064,    0.065065,    0.066066,    0.067067,    0.068068,    0.069069,     0.07007,    0.071071,\n",
       "          0.072072,    0.073073,    0.074074,    0.075075,    0.076076,    0.077077,    0.078078,    0.079079,     0.08008,    0.081081,    0.082082,    0.083083,    0.084084,    0.085085,    0.086086,    0.087087,    0.088088,    0.089089,     0.09009,    0.091091,    0.092092,    0.093093,    0.094094,    0.095095,\n",
       "          0.096096,    0.097097,    0.098098,    0.099099,      0.1001,      0.1011,      0.1021,      0.1031,      0.1041,     0.10511,     0.10611,     0.10711,     0.10811,     0.10911,     0.11011,     0.11111,     0.11211,     0.11311,     0.11411,     0.11512,     0.11612,     0.11712,     0.11812,     0.11912,\n",
       "           0.12012,     0.12112,     0.12212,     0.12312,     0.12412,     0.12513,     0.12613,     0.12713,     0.12813,     0.12913,     0.13013,     0.13113,     0.13213,     0.13313,     0.13413,     0.13514,     0.13614,     0.13714,     0.13814,     0.13914,     0.14014,     0.14114,     0.14214,     0.14314,\n",
       "           0.14414,     0.14515,     0.14615,     0.14715,     0.14815,     0.14915,     0.15015,     0.15115,     0.15215,     0.15315,     0.15415,     0.15516,     0.15616,     0.15716,     0.15816,     0.15916,     0.16016,     0.16116,     0.16216,     0.16316,     0.16416,     0.16517,     0.16617,     0.16717,\n",
       "           0.16817,     0.16917,     0.17017,     0.17117,     0.17217,     0.17317,     0.17417,     0.17518,     0.17618,     0.17718,     0.17818,     0.17918,     0.18018,     0.18118,     0.18218,     0.18318,     0.18418,     0.18519,     0.18619,     0.18719,     0.18819,     0.18919,     0.19019,     0.19119,\n",
       "           0.19219,     0.19319,     0.19419,      0.1952,      0.1962,      0.1972,      0.1982,      0.1992,      0.2002,      0.2012,      0.2022,      0.2032,      0.2042,     0.20521,     0.20621,     0.20721,     0.20821,     0.20921,     0.21021,     0.21121,     0.21221,     0.21321,     0.21421,     0.21522,\n",
       "           0.21622,     0.21722,     0.21822,     0.21922,     0.22022,     0.22122,     0.22222,     0.22322,     0.22422,     0.22523,     0.22623,     0.22723,     0.22823,     0.22923,     0.23023,     0.23123,     0.23223,     0.23323,     0.23423,     0.23524,     0.23624,     0.23724,     0.23824,     0.23924,\n",
       "           0.24024,     0.24124,     0.24224,     0.24324,     0.24424,     0.24525,     0.24625,     0.24725,     0.24825,     0.24925,     0.25025,     0.25125,     0.25225,     0.25325,     0.25425,     0.25526,     0.25626,     0.25726,     0.25826,     0.25926,     0.26026,     0.26126,     0.26226,     0.26326,\n",
       "           0.26426,     0.26527,     0.26627,     0.26727,     0.26827,     0.26927,     0.27027,     0.27127,     0.27227,     0.27327,     0.27427,     0.27528,     0.27628,     0.27728,     0.27828,     0.27928,     0.28028,     0.28128,     0.28228,     0.28328,     0.28428,     0.28529,     0.28629,     0.28729,\n",
       "           0.28829,     0.28929,     0.29029,     0.29129,     0.29229,     0.29329,     0.29429,      0.2953,      0.2963,      0.2973,      0.2983,      0.2993,      0.3003,      0.3013,      0.3023,      0.3033,      0.3043,     0.30531,     0.30631,     0.30731,     0.30831,     0.30931,     0.31031,     0.31131,\n",
       "           0.31231,     0.31331,     0.31431,     0.31532,     0.31632,     0.31732,     0.31832,     0.31932,     0.32032,     0.32132,     0.32232,     0.32332,     0.32432,     0.32533,     0.32633,     0.32733,     0.32833,     0.32933,     0.33033,     0.33133,     0.33233,     0.33333,     0.33433,     0.33534,\n",
       "           0.33634,     0.33734,     0.33834,     0.33934,     0.34034,     0.34134,     0.34234,     0.34334,     0.34434,     0.34535,     0.34635,     0.34735,     0.34835,     0.34935,     0.35035,     0.35135,     0.35235,     0.35335,     0.35435,     0.35536,     0.35636,     0.35736,     0.35836,     0.35936,\n",
       "           0.36036,     0.36136,     0.36236,     0.36336,     0.36436,     0.36537,     0.36637,     0.36737,     0.36837,     0.36937,     0.37037,     0.37137,     0.37237,     0.37337,     0.37437,     0.37538,     0.37638,     0.37738,     0.37838,     0.37938,     0.38038,     0.38138,     0.38238,     0.38338,\n",
       "           0.38438,     0.38539,     0.38639,     0.38739,     0.38839,     0.38939,     0.39039,     0.39139,     0.39239,     0.39339,     0.39439,      0.3954,      0.3964,      0.3974,      0.3984,      0.3994,      0.4004,      0.4014,      0.4024,      0.4034,      0.4044,     0.40541,     0.40641,     0.40741,\n",
       "           0.40841,     0.40941,     0.41041,     0.41141,     0.41241,     0.41341,     0.41441,     0.41542,     0.41642,     0.41742,     0.41842,     0.41942,     0.42042,     0.42142,     0.42242,     0.42342,     0.42442,     0.42543,     0.42643,     0.42743,     0.42843,     0.42943,     0.43043,     0.43143,\n",
       "           0.43243,     0.43343,     0.43443,     0.43544,     0.43644,     0.43744,     0.43844,     0.43944,     0.44044,     0.44144,     0.44244,     0.44344,     0.44444,     0.44545,     0.44645,     0.44745,     0.44845,     0.44945,     0.45045,     0.45145,     0.45245,     0.45345,     0.45445,     0.45546,\n",
       "           0.45646,     0.45746,     0.45846,     0.45946,     0.46046,     0.46146,     0.46246,     0.46346,     0.46446,     0.46547,     0.46647,     0.46747,     0.46847,     0.46947,     0.47047,     0.47147,     0.47247,     0.47347,     0.47447,     0.47548,     0.47648,     0.47748,     0.47848,     0.47948,\n",
       "           0.48048,     0.48148,     0.48248,     0.48348,     0.48448,     0.48549,     0.48649,     0.48749,     0.48849,     0.48949,     0.49049,     0.49149,     0.49249,     0.49349,     0.49449,      0.4955,      0.4965,      0.4975,      0.4985,      0.4995,      0.5005,      0.5015,      0.5025,      0.5035,\n",
       "            0.5045,     0.50551,     0.50651,     0.50751,     0.50851,     0.50951,     0.51051,     0.51151,     0.51251,     0.51351,     0.51451,     0.51552,     0.51652,     0.51752,     0.51852,     0.51952,     0.52052,     0.52152,     0.52252,     0.52352,     0.52452,     0.52553,     0.52653,     0.52753,\n",
       "           0.52853,     0.52953,     0.53053,     0.53153,     0.53253,     0.53353,     0.53453,     0.53554,     0.53654,     0.53754,     0.53854,     0.53954,     0.54054,     0.54154,     0.54254,     0.54354,     0.54454,     0.54555,     0.54655,     0.54755,     0.54855,     0.54955,     0.55055,     0.55155,\n",
       "           0.55255,     0.55355,     0.55455,     0.55556,     0.55656,     0.55756,     0.55856,     0.55956,     0.56056,     0.56156,     0.56256,     0.56356,     0.56456,     0.56557,     0.56657,     0.56757,     0.56857,     0.56957,     0.57057,     0.57157,     0.57257,     0.57357,     0.57457,     0.57558,\n",
       "           0.57658,     0.57758,     0.57858,     0.57958,     0.58058,     0.58158,     0.58258,     0.58358,     0.58458,     0.58559,     0.58659,     0.58759,     0.58859,     0.58959,     0.59059,     0.59159,     0.59259,     0.59359,     0.59459,      0.5956,      0.5966,      0.5976,      0.5986,      0.5996,\n",
       "            0.6006,      0.6016,      0.6026,      0.6036,      0.6046,     0.60561,     0.60661,     0.60761,     0.60861,     0.60961,     0.61061,     0.61161,     0.61261,     0.61361,     0.61461,     0.61562,     0.61662,     0.61762,     0.61862,     0.61962,     0.62062,     0.62162,     0.62262,     0.62362,\n",
       "           0.62462,     0.62563,     0.62663,     0.62763,     0.62863,     0.62963,     0.63063,     0.63163,     0.63263,     0.63363,     0.63463,     0.63564,     0.63664,     0.63764,     0.63864,     0.63964,     0.64064,     0.64164,     0.64264,     0.64364,     0.64464,     0.64565,     0.64665,     0.64765,\n",
       "           0.64865,     0.64965,     0.65065,     0.65165,     0.65265,     0.65365,     0.65465,     0.65566,     0.65666,     0.65766,     0.65866,     0.65966,     0.66066,     0.66166,     0.66266,     0.66366,     0.66466,     0.66567,     0.66667,     0.66767,     0.66867,     0.66967,     0.67067,     0.67167,\n",
       "           0.67267,     0.67367,     0.67467,     0.67568,     0.67668,     0.67768,     0.67868,     0.67968,     0.68068,     0.68168,     0.68268,     0.68368,     0.68468,     0.68569,     0.68669,     0.68769,     0.68869,     0.68969,     0.69069,     0.69169,     0.69269,     0.69369,     0.69469,      0.6957,\n",
       "            0.6967,      0.6977,      0.6987,      0.6997,      0.7007,      0.7017,      0.7027,      0.7037,      0.7047,     0.70571,     0.70671,     0.70771,     0.70871,     0.70971,     0.71071,     0.71171,     0.71271,     0.71371,     0.71471,     0.71572,     0.71672,     0.71772,     0.71872,     0.71972,\n",
       "           0.72072,     0.72172,     0.72272,     0.72372,     0.72472,     0.72573,     0.72673,     0.72773,     0.72873,     0.72973,     0.73073,     0.73173,     0.73273,     0.73373,     0.73473,     0.73574,     0.73674,     0.73774,     0.73874,     0.73974,     0.74074,     0.74174,     0.74274,     0.74374,\n",
       "           0.74474,     0.74575,     0.74675,     0.74775,     0.74875,     0.74975,     0.75075,     0.75175,     0.75275,     0.75375,     0.75475,     0.75576,     0.75676,     0.75776,     0.75876,     0.75976,     0.76076,     0.76176,     0.76276,     0.76376,     0.76476,     0.76577,     0.76677,     0.76777,\n",
       "           0.76877,     0.76977,     0.77077,     0.77177,     0.77277,     0.77377,     0.77477,     0.77578,     0.77678,     0.77778,     0.77878,     0.77978,     0.78078,     0.78178,     0.78278,     0.78378,     0.78478,     0.78579,     0.78679,     0.78779,     0.78879,     0.78979,     0.79079,     0.79179,\n",
       "           0.79279,     0.79379,     0.79479,      0.7958,      0.7968,      0.7978,      0.7988,      0.7998,      0.8008,      0.8018,      0.8028,      0.8038,      0.8048,     0.80581,     0.80681,     0.80781,     0.80881,     0.80981,     0.81081,     0.81181,     0.81281,     0.81381,     0.81481,     0.81582,\n",
       "           0.81682,     0.81782,     0.81882,     0.81982,     0.82082,     0.82182,     0.82282,     0.82382,     0.82482,     0.82583,     0.82683,     0.82783,     0.82883,     0.82983,     0.83083,     0.83183,     0.83283,     0.83383,     0.83483,     0.83584,     0.83684,     0.83784,     0.83884,     0.83984,\n",
       "           0.84084,     0.84184,     0.84284,     0.84384,     0.84484,     0.84585,     0.84685,     0.84785,     0.84885,     0.84985,     0.85085,     0.85185,     0.85285,     0.85385,     0.85485,     0.85586,     0.85686,     0.85786,     0.85886,     0.85986,     0.86086,     0.86186,     0.86286,     0.86386,\n",
       "           0.86486,     0.86587,     0.86687,     0.86787,     0.86887,     0.86987,     0.87087,     0.87187,     0.87287,     0.87387,     0.87487,     0.87588,     0.87688,     0.87788,     0.87888,     0.87988,     0.88088,     0.88188,     0.88288,     0.88388,     0.88488,     0.88589,     0.88689,     0.88789,\n",
       "           0.88889,     0.88989,     0.89089,     0.89189,     0.89289,     0.89389,     0.89489,      0.8959,      0.8969,      0.8979,      0.8989,      0.8999,      0.9009,      0.9019,      0.9029,      0.9039,      0.9049,     0.90591,     0.90691,     0.90791,     0.90891,     0.90991,     0.91091,     0.91191,\n",
       "           0.91291,     0.91391,     0.91491,     0.91592,     0.91692,     0.91792,     0.91892,     0.91992,     0.92092,     0.92192,     0.92292,     0.92392,     0.92492,     0.92593,     0.92693,     0.92793,     0.92893,     0.92993,     0.93093,     0.93193,     0.93293,     0.93393,     0.93493,     0.93594,\n",
       "           0.93694,     0.93794,     0.93894,     0.93994,     0.94094,     0.94194,     0.94294,     0.94394,     0.94494,     0.94595,     0.94695,     0.94795,     0.94895,     0.94995,     0.95095,     0.95195,     0.95295,     0.95395,     0.95495,     0.95596,     0.95696,     0.95796,     0.95896,     0.95996,\n",
       "           0.96096,     0.96196,     0.96296,     0.96396,     0.96496,     0.96597,     0.96697,     0.96797,     0.96897,     0.96997,     0.97097,     0.97197,     0.97297,     0.97397,     0.97497,     0.97598,     0.97698,     0.97798,     0.97898,     0.97998,     0.98098,     0.98198,     0.98298,     0.98398,\n",
       "           0.98498,     0.98599,     0.98699,     0.98799,     0.98899,     0.98999,     0.99099,     0.99199,     0.99299,     0.99399,     0.99499,       0.996,       0.997,       0.998,       0.999,           1]), array([[  0.0077496,   0.0077532,    0.012148, ...,           1,           1,           1],\n",
       "       [   0.032847,    0.032853,    0.072245, ...,           1,           1,           1],\n",
       "       [   0.018672,    0.018672,    0.042246, ...,           1,           1,           1],\n",
       "       ...,\n",
       "       [  0.0025126,   0.0025144,   0.0067132, ...,           1,           1,           1],\n",
       "       [   0.068293,    0.068302,     0.12189, ...,           1,           1,           1],\n",
       "       [  0.0051813,   0.0051813,    0.018301, ...,           1,           1,           1]]), 'Confidence', 'Precision'], [array([          0,    0.001001,    0.002002,    0.003003,    0.004004,    0.005005,    0.006006,    0.007007,    0.008008,    0.009009,     0.01001,    0.011011,    0.012012,    0.013013,    0.014014,    0.015015,    0.016016,    0.017017,    0.018018,    0.019019,     0.02002,    0.021021,    0.022022,    0.023023,\n",
       "          0.024024,    0.025025,    0.026026,    0.027027,    0.028028,    0.029029,     0.03003,    0.031031,    0.032032,    0.033033,    0.034034,    0.035035,    0.036036,    0.037037,    0.038038,    0.039039,     0.04004,    0.041041,    0.042042,    0.043043,    0.044044,    0.045045,    0.046046,    0.047047,\n",
       "          0.048048,    0.049049,     0.05005,    0.051051,    0.052052,    0.053053,    0.054054,    0.055055,    0.056056,    0.057057,    0.058058,    0.059059,     0.06006,    0.061061,    0.062062,    0.063063,    0.064064,    0.065065,    0.066066,    0.067067,    0.068068,    0.069069,     0.07007,    0.071071,\n",
       "          0.072072,    0.073073,    0.074074,    0.075075,    0.076076,    0.077077,    0.078078,    0.079079,     0.08008,    0.081081,    0.082082,    0.083083,    0.084084,    0.085085,    0.086086,    0.087087,    0.088088,    0.089089,     0.09009,    0.091091,    0.092092,    0.093093,    0.094094,    0.095095,\n",
       "          0.096096,    0.097097,    0.098098,    0.099099,      0.1001,      0.1011,      0.1021,      0.1031,      0.1041,     0.10511,     0.10611,     0.10711,     0.10811,     0.10911,     0.11011,     0.11111,     0.11211,     0.11311,     0.11411,     0.11512,     0.11612,     0.11712,     0.11812,     0.11912,\n",
       "           0.12012,     0.12112,     0.12212,     0.12312,     0.12412,     0.12513,     0.12613,     0.12713,     0.12813,     0.12913,     0.13013,     0.13113,     0.13213,     0.13313,     0.13413,     0.13514,     0.13614,     0.13714,     0.13814,     0.13914,     0.14014,     0.14114,     0.14214,     0.14314,\n",
       "           0.14414,     0.14515,     0.14615,     0.14715,     0.14815,     0.14915,     0.15015,     0.15115,     0.15215,     0.15315,     0.15415,     0.15516,     0.15616,     0.15716,     0.15816,     0.15916,     0.16016,     0.16116,     0.16216,     0.16316,     0.16416,     0.16517,     0.16617,     0.16717,\n",
       "           0.16817,     0.16917,     0.17017,     0.17117,     0.17217,     0.17317,     0.17417,     0.17518,     0.17618,     0.17718,     0.17818,     0.17918,     0.18018,     0.18118,     0.18218,     0.18318,     0.18418,     0.18519,     0.18619,     0.18719,     0.18819,     0.18919,     0.19019,     0.19119,\n",
       "           0.19219,     0.19319,     0.19419,      0.1952,      0.1962,      0.1972,      0.1982,      0.1992,      0.2002,      0.2012,      0.2022,      0.2032,      0.2042,     0.20521,     0.20621,     0.20721,     0.20821,     0.20921,     0.21021,     0.21121,     0.21221,     0.21321,     0.21421,     0.21522,\n",
       "           0.21622,     0.21722,     0.21822,     0.21922,     0.22022,     0.22122,     0.22222,     0.22322,     0.22422,     0.22523,     0.22623,     0.22723,     0.22823,     0.22923,     0.23023,     0.23123,     0.23223,     0.23323,     0.23423,     0.23524,     0.23624,     0.23724,     0.23824,     0.23924,\n",
       "           0.24024,     0.24124,     0.24224,     0.24324,     0.24424,     0.24525,     0.24625,     0.24725,     0.24825,     0.24925,     0.25025,     0.25125,     0.25225,     0.25325,     0.25425,     0.25526,     0.25626,     0.25726,     0.25826,     0.25926,     0.26026,     0.26126,     0.26226,     0.26326,\n",
       "           0.26426,     0.26527,     0.26627,     0.26727,     0.26827,     0.26927,     0.27027,     0.27127,     0.27227,     0.27327,     0.27427,     0.27528,     0.27628,     0.27728,     0.27828,     0.27928,     0.28028,     0.28128,     0.28228,     0.28328,     0.28428,     0.28529,     0.28629,     0.28729,\n",
       "           0.28829,     0.28929,     0.29029,     0.29129,     0.29229,     0.29329,     0.29429,      0.2953,      0.2963,      0.2973,      0.2983,      0.2993,      0.3003,      0.3013,      0.3023,      0.3033,      0.3043,     0.30531,     0.30631,     0.30731,     0.30831,     0.30931,     0.31031,     0.31131,\n",
       "           0.31231,     0.31331,     0.31431,     0.31532,     0.31632,     0.31732,     0.31832,     0.31932,     0.32032,     0.32132,     0.32232,     0.32332,     0.32432,     0.32533,     0.32633,     0.32733,     0.32833,     0.32933,     0.33033,     0.33133,     0.33233,     0.33333,     0.33433,     0.33534,\n",
       "           0.33634,     0.33734,     0.33834,     0.33934,     0.34034,     0.34134,     0.34234,     0.34334,     0.34434,     0.34535,     0.34635,     0.34735,     0.34835,     0.34935,     0.35035,     0.35135,     0.35235,     0.35335,     0.35435,     0.35536,     0.35636,     0.35736,     0.35836,     0.35936,\n",
       "           0.36036,     0.36136,     0.36236,     0.36336,     0.36436,     0.36537,     0.36637,     0.36737,     0.36837,     0.36937,     0.37037,     0.37137,     0.37237,     0.37337,     0.37437,     0.37538,     0.37638,     0.37738,     0.37838,     0.37938,     0.38038,     0.38138,     0.38238,     0.38338,\n",
       "           0.38438,     0.38539,     0.38639,     0.38739,     0.38839,     0.38939,     0.39039,     0.39139,     0.39239,     0.39339,     0.39439,      0.3954,      0.3964,      0.3974,      0.3984,      0.3994,      0.4004,      0.4014,      0.4024,      0.4034,      0.4044,     0.40541,     0.40641,     0.40741,\n",
       "           0.40841,     0.40941,     0.41041,     0.41141,     0.41241,     0.41341,     0.41441,     0.41542,     0.41642,     0.41742,     0.41842,     0.41942,     0.42042,     0.42142,     0.42242,     0.42342,     0.42442,     0.42543,     0.42643,     0.42743,     0.42843,     0.42943,     0.43043,     0.43143,\n",
       "           0.43243,     0.43343,     0.43443,     0.43544,     0.43644,     0.43744,     0.43844,     0.43944,     0.44044,     0.44144,     0.44244,     0.44344,     0.44444,     0.44545,     0.44645,     0.44745,     0.44845,     0.44945,     0.45045,     0.45145,     0.45245,     0.45345,     0.45445,     0.45546,\n",
       "           0.45646,     0.45746,     0.45846,     0.45946,     0.46046,     0.46146,     0.46246,     0.46346,     0.46446,     0.46547,     0.46647,     0.46747,     0.46847,     0.46947,     0.47047,     0.47147,     0.47247,     0.47347,     0.47447,     0.47548,     0.47648,     0.47748,     0.47848,     0.47948,\n",
       "           0.48048,     0.48148,     0.48248,     0.48348,     0.48448,     0.48549,     0.48649,     0.48749,     0.48849,     0.48949,     0.49049,     0.49149,     0.49249,     0.49349,     0.49449,      0.4955,      0.4965,      0.4975,      0.4985,      0.4995,      0.5005,      0.5015,      0.5025,      0.5035,\n",
       "            0.5045,     0.50551,     0.50651,     0.50751,     0.50851,     0.50951,     0.51051,     0.51151,     0.51251,     0.51351,     0.51451,     0.51552,     0.51652,     0.51752,     0.51852,     0.51952,     0.52052,     0.52152,     0.52252,     0.52352,     0.52452,     0.52553,     0.52653,     0.52753,\n",
       "           0.52853,     0.52953,     0.53053,     0.53153,     0.53253,     0.53353,     0.53453,     0.53554,     0.53654,     0.53754,     0.53854,     0.53954,     0.54054,     0.54154,     0.54254,     0.54354,     0.54454,     0.54555,     0.54655,     0.54755,     0.54855,     0.54955,     0.55055,     0.55155,\n",
       "           0.55255,     0.55355,     0.55455,     0.55556,     0.55656,     0.55756,     0.55856,     0.55956,     0.56056,     0.56156,     0.56256,     0.56356,     0.56456,     0.56557,     0.56657,     0.56757,     0.56857,     0.56957,     0.57057,     0.57157,     0.57257,     0.57357,     0.57457,     0.57558,\n",
       "           0.57658,     0.57758,     0.57858,     0.57958,     0.58058,     0.58158,     0.58258,     0.58358,     0.58458,     0.58559,     0.58659,     0.58759,     0.58859,     0.58959,     0.59059,     0.59159,     0.59259,     0.59359,     0.59459,      0.5956,      0.5966,      0.5976,      0.5986,      0.5996,\n",
       "            0.6006,      0.6016,      0.6026,      0.6036,      0.6046,     0.60561,     0.60661,     0.60761,     0.60861,     0.60961,     0.61061,     0.61161,     0.61261,     0.61361,     0.61461,     0.61562,     0.61662,     0.61762,     0.61862,     0.61962,     0.62062,     0.62162,     0.62262,     0.62362,\n",
       "           0.62462,     0.62563,     0.62663,     0.62763,     0.62863,     0.62963,     0.63063,     0.63163,     0.63263,     0.63363,     0.63463,     0.63564,     0.63664,     0.63764,     0.63864,     0.63964,     0.64064,     0.64164,     0.64264,     0.64364,     0.64464,     0.64565,     0.64665,     0.64765,\n",
       "           0.64865,     0.64965,     0.65065,     0.65165,     0.65265,     0.65365,     0.65465,     0.65566,     0.65666,     0.65766,     0.65866,     0.65966,     0.66066,     0.66166,     0.66266,     0.66366,     0.66466,     0.66567,     0.66667,     0.66767,     0.66867,     0.66967,     0.67067,     0.67167,\n",
       "           0.67267,     0.67367,     0.67467,     0.67568,     0.67668,     0.67768,     0.67868,     0.67968,     0.68068,     0.68168,     0.68268,     0.68368,     0.68468,     0.68569,     0.68669,     0.68769,     0.68869,     0.68969,     0.69069,     0.69169,     0.69269,     0.69369,     0.69469,      0.6957,\n",
       "            0.6967,      0.6977,      0.6987,      0.6997,      0.7007,      0.7017,      0.7027,      0.7037,      0.7047,     0.70571,     0.70671,     0.70771,     0.70871,     0.70971,     0.71071,     0.71171,     0.71271,     0.71371,     0.71471,     0.71572,     0.71672,     0.71772,     0.71872,     0.71972,\n",
       "           0.72072,     0.72172,     0.72272,     0.72372,     0.72472,     0.72573,     0.72673,     0.72773,     0.72873,     0.72973,     0.73073,     0.73173,     0.73273,     0.73373,     0.73473,     0.73574,     0.73674,     0.73774,     0.73874,     0.73974,     0.74074,     0.74174,     0.74274,     0.74374,\n",
       "           0.74474,     0.74575,     0.74675,     0.74775,     0.74875,     0.74975,     0.75075,     0.75175,     0.75275,     0.75375,     0.75475,     0.75576,     0.75676,     0.75776,     0.75876,     0.75976,     0.76076,     0.76176,     0.76276,     0.76376,     0.76476,     0.76577,     0.76677,     0.76777,\n",
       "           0.76877,     0.76977,     0.77077,     0.77177,     0.77277,     0.77377,     0.77477,     0.77578,     0.77678,     0.77778,     0.77878,     0.77978,     0.78078,     0.78178,     0.78278,     0.78378,     0.78478,     0.78579,     0.78679,     0.78779,     0.78879,     0.78979,     0.79079,     0.79179,\n",
       "           0.79279,     0.79379,     0.79479,      0.7958,      0.7968,      0.7978,      0.7988,      0.7998,      0.8008,      0.8018,      0.8028,      0.8038,      0.8048,     0.80581,     0.80681,     0.80781,     0.80881,     0.80981,     0.81081,     0.81181,     0.81281,     0.81381,     0.81481,     0.81582,\n",
       "           0.81682,     0.81782,     0.81882,     0.81982,     0.82082,     0.82182,     0.82282,     0.82382,     0.82482,     0.82583,     0.82683,     0.82783,     0.82883,     0.82983,     0.83083,     0.83183,     0.83283,     0.83383,     0.83483,     0.83584,     0.83684,     0.83784,     0.83884,     0.83984,\n",
       "           0.84084,     0.84184,     0.84284,     0.84384,     0.84484,     0.84585,     0.84685,     0.84785,     0.84885,     0.84985,     0.85085,     0.85185,     0.85285,     0.85385,     0.85485,     0.85586,     0.85686,     0.85786,     0.85886,     0.85986,     0.86086,     0.86186,     0.86286,     0.86386,\n",
       "           0.86486,     0.86587,     0.86687,     0.86787,     0.86887,     0.86987,     0.87087,     0.87187,     0.87287,     0.87387,     0.87487,     0.87588,     0.87688,     0.87788,     0.87888,     0.87988,     0.88088,     0.88188,     0.88288,     0.88388,     0.88488,     0.88589,     0.88689,     0.88789,\n",
       "           0.88889,     0.88989,     0.89089,     0.89189,     0.89289,     0.89389,     0.89489,      0.8959,      0.8969,      0.8979,      0.8989,      0.8999,      0.9009,      0.9019,      0.9029,      0.9039,      0.9049,     0.90591,     0.90691,     0.90791,     0.90891,     0.90991,     0.91091,     0.91191,\n",
       "           0.91291,     0.91391,     0.91491,     0.91592,     0.91692,     0.91792,     0.91892,     0.91992,     0.92092,     0.92192,     0.92292,     0.92392,     0.92492,     0.92593,     0.92693,     0.92793,     0.92893,     0.92993,     0.93093,     0.93193,     0.93293,     0.93393,     0.93493,     0.93594,\n",
       "           0.93694,     0.93794,     0.93894,     0.93994,     0.94094,     0.94194,     0.94294,     0.94394,     0.94494,     0.94595,     0.94695,     0.94795,     0.94895,     0.94995,     0.95095,     0.95195,     0.95295,     0.95395,     0.95495,     0.95596,     0.95696,     0.95796,     0.95896,     0.95996,\n",
       "           0.96096,     0.96196,     0.96296,     0.96396,     0.96496,     0.96597,     0.96697,     0.96797,     0.96897,     0.96997,     0.97097,     0.97197,     0.97297,     0.97397,     0.97497,     0.97598,     0.97698,     0.97798,     0.97898,     0.97998,     0.98098,     0.98198,     0.98298,     0.98398,\n",
       "           0.98498,     0.98599,     0.98699,     0.98799,     0.98899,     0.98999,     0.99099,     0.99199,     0.99299,     0.99399,     0.99499,       0.996,       0.997,       0.998,       0.999,           1]), array([[    0.76471,     0.76471,     0.70588, ...,           0,           0,           0],\n",
       "       [    0.95745,     0.95745,     0.93617, ...,           0,           0,           0],\n",
       "       [    0.81818,     0.81818,     0.81818, ...,           0,           0,           0],\n",
       "       ...,\n",
       "       [    0.66667,     0.66667,     0.66667, ...,           0,           0,           0],\n",
       "       [    0.93333,     0.93333,         0.9, ...,           0,           0,           0],\n",
       "       [          1,           1,           1, ...,           0,           0,           0]]), 'Confidence', 'Recall']]\n",
       "fitness: 0.19583847700566354\n",
       "keys: ['metrics/precision(B)', 'metrics/recall(B)', 'metrics/mAP50(B)', 'metrics/mAP50-95(B)']\n",
       "maps: array([   0.044024,     0.41647,     0.25966,     0.15319,    0.068021,    0.025446,    0.074822,    0.087663,     0.17323,     0.43388,     0.33498,   0.0073555])\n",
       "names: {0: 'Lane mark', 1: 'Plain road', 2: 'Manhole', 3: 'Divider', 4: 'Speed bumps', 5: 'Cracks', 6: 'Pothole', 7: 'Zebra crossing', 8: 'Footpath', 9: 'Rumble strips', 10: 'Sign board', 11: 'Leading lines'}\n",
       "plot: True\n",
       "results_dict: {'metrics/precision(B)': 0.4619019346133564, 'metrics/recall(B)': 0.440991955556235, 'metrics/mAP50(B)': 0.39932129434410213, 'metrics/mAP50-95(B)': 0.17322927507917035, 'fitness': 0.19583847700566354}\n",
       "save_dir: WindowsPath('runs/detect/road_features_yolo2')\n",
       "speed: {'preprocess': 1.8586851477779742, 'inference': 115.81965940566457, 'loss': 0.0002841582743100601, 'postprocess': 1.9352029707043035}\n",
       "task: 'detect'"
      ]
     },
     "execution_count": 6,
     "metadata": {},
     "output_type": "execute_result"
    }
   ],
   "source": [
    "from ultralytics import YOLO\n",
    "\n",
    "# Load a pre-trained YOLOv8 model (Nano for speed or Small for better accuracy)\n",
    "model = YOLO('yolov8n.pt')  # or 'yolov8s.pt', 'yolov8m.pt'\n",
    "\n",
    "# Train the model\n",
    "model.train(\n",
    "    data='E:\\\\JupyterNotebooks\\\\Road_problem\\\\pascal_yolo_dataset\\\\data.yaml',  # path to your YAML file\n",
    "    epochs=50,\n",
    "    imgsz=640,\n",
    "    batch=8,\n",
    "    name='road_features_yolo'\n",
    ")\n",
    "\n"
   ]
  },
  {
   "cell_type": "markdown",
   "id": "eae289d4-039b-47bf-8119-7dfff76598eb",
   "metadata": {},
   "source": [
    "# 4. detect the video or images and count no. of times each event occurs"
   ]
  },
  {
   "cell_type": "code",
   "execution_count": 21,
   "id": "d9a5166c-4a46-44dc-b7e5-84ff25715dba",
   "metadata": {
    "scrolled": true
   },
   "outputs": [
    {
     "name": "stdout",
     "output_type": "stream",
     "text": [
      "\n",
      "video 1/1 (frame 1/0) E:\\JupyterNotebooks\\Road_problem\\runs\\detect\\road_features_yolo_inference\\a.avi: 480x640 1 Divider, 144.3ms\n",
      "video 1/1 (frame 2/0) E:\\JupyterNotebooks\\Road_problem\\runs\\detect\\road_features_yolo_inference\\a.avi: 480x640 1 Divider, 220.3ms\n",
      "video 1/1 (frame 3/0) E:\\JupyterNotebooks\\Road_problem\\runs\\detect\\road_features_yolo_inference\\a.avi: 480x640 1 Divider, 270.4ms\n",
      "video 1/1 (frame 4/0) E:\\JupyterNotebooks\\Road_problem\\runs\\detect\\road_features_yolo_inference\\a.avi: 480x640 1 Divider, 199.4ms\n",
      "video 1/1 (frame 5/0) E:\\JupyterNotebooks\\Road_problem\\runs\\detect\\road_features_yolo_inference\\a.avi: 480x640 1 Divider, 257.9ms\n",
      "video 1/1 (frame 6/0) E:\\JupyterNotebooks\\Road_problem\\runs\\detect\\road_features_yolo_inference\\a.avi: 480x640 1 Divider, 258.2ms\n",
      "video 1/1 (frame 7/0) E:\\JupyterNotebooks\\Road_problem\\runs\\detect\\road_features_yolo_inference\\a.avi: 480x640 1 Divider, 250.0ms\n",
      "video 1/1 (frame 8/0) E:\\JupyterNotebooks\\Road_problem\\runs\\detect\\road_features_yolo_inference\\a.avi: 480x640 1 Divider, 245.6ms\n",
      "video 1/1 (frame 9/0) E:\\JupyterNotebooks\\Road_problem\\runs\\detect\\road_features_yolo_inference\\a.avi: 480x640 1 Divider, 191.9ms\n",
      "video 1/1 (frame 10/0) E:\\JupyterNotebooks\\Road_problem\\runs\\detect\\road_features_yolo_inference\\a.avi: 480x640 1 Divider, 191.0ms\n",
      "video 1/1 (frame 11/0) E:\\JupyterNotebooks\\Road_problem\\runs\\detect\\road_features_yolo_inference\\a.avi: 480x640 1 Divider, 205.1ms\n",
      "video 1/1 (frame 12/0) E:\\JupyterNotebooks\\Road_problem\\runs\\detect\\road_features_yolo_inference\\a.avi: 480x640 1 Divider, 256.7ms\n",
      "video 1/1 (frame 13/0) E:\\JupyterNotebooks\\Road_problem\\runs\\detect\\road_features_yolo_inference\\a.avi: 480x640 1 Divider, 207.9ms\n",
      "video 1/1 (frame 14/0) E:\\JupyterNotebooks\\Road_problem\\runs\\detect\\road_features_yolo_inference\\a.avi: 480x640 1 Divider, 261.3ms\n",
      "video 1/1 (frame 15/0) E:\\JupyterNotebooks\\Road_problem\\runs\\detect\\road_features_yolo_inference\\a.avi: 480x640 1 Divider, 251.3ms\n",
      "video 1/1 (frame 16/0) E:\\JupyterNotebooks\\Road_problem\\runs\\detect\\road_features_yolo_inference\\a.avi: 480x640 1 Divider, 263.4ms\n",
      "video 1/1 (frame 17/0) E:\\JupyterNotebooks\\Road_problem\\runs\\detect\\road_features_yolo_inference\\a.avi: 480x640 1 Divider, 229.5ms\n",
      "video 1/1 (frame 18/0) E:\\JupyterNotebooks\\Road_problem\\runs\\detect\\road_features_yolo_inference\\a.avi: 480x640 1 Divider, 248.5ms\n",
      "video 1/1 (frame 19/0) E:\\JupyterNotebooks\\Road_problem\\runs\\detect\\road_features_yolo_inference\\a.avi: 480x640 1 Divider, 239.9ms\n",
      "video 1/1 (frame 20/0) E:\\JupyterNotebooks\\Road_problem\\runs\\detect\\road_features_yolo_inference\\a.avi: 480x640 1 Divider, 252.1ms\n",
      "video 1/1 (frame 21/0) E:\\JupyterNotebooks\\Road_problem\\runs\\detect\\road_features_yolo_inference\\a.avi: 480x640 1 Divider, 216.6ms\n",
      "video 1/1 (frame 22/0) E:\\JupyterNotebooks\\Road_problem\\runs\\detect\\road_features_yolo_inference\\a.avi: 480x640 1 Divider, 256.3ms\n",
      "video 1/1 (frame 23/0) E:\\JupyterNotebooks\\Road_problem\\runs\\detect\\road_features_yolo_inference\\a.avi: 480x640 1 Divider, 251.5ms\n",
      "video 1/1 (frame 24/0) E:\\JupyterNotebooks\\Road_problem\\runs\\detect\\road_features_yolo_inference\\a.avi: 480x640 1 Divider, 232.2ms\n",
      "video 1/1 (frame 25/0) E:\\JupyterNotebooks\\Road_problem\\runs\\detect\\road_features_yolo_inference\\a.avi: 480x640 1 Divider, 224.6ms\n",
      "video 1/1 (frame 26/0) E:\\JupyterNotebooks\\Road_problem\\runs\\detect\\road_features_yolo_inference\\a.avi: 480x640 1 Divider, 183.7ms\n",
      "video 1/1 (frame 27/0) E:\\JupyterNotebooks\\Road_problem\\runs\\detect\\road_features_yolo_inference\\a.avi: 480x640 1 Divider, 197.4ms\n",
      "video 1/1 (frame 28/0) E:\\JupyterNotebooks\\Road_problem\\runs\\detect\\road_features_yolo_inference\\a.avi: 480x640 1 Divider, 245.7ms\n",
      "video 1/1 (frame 29/0) E:\\JupyterNotebooks\\Road_problem\\runs\\detect\\road_features_yolo_inference\\a.avi: 480x640 1 Divider, 251.1ms\n",
      "video 1/1 (frame 30/0) E:\\JupyterNotebooks\\Road_problem\\runs\\detect\\road_features_yolo_inference\\a.avi: 480x640 1 Divider, 227.8ms\n",
      "video 1/1 (frame 31/0) E:\\JupyterNotebooks\\Road_problem\\runs\\detect\\road_features_yolo_inference\\a.avi: 480x640 1 Divider, 235.7ms\n",
      "video 1/1 (frame 32/0) E:\\JupyterNotebooks\\Road_problem\\runs\\detect\\road_features_yolo_inference\\a.avi: 480x640 2 Dividers, 1 Speed bumps, 237.0ms\n",
      "video 1/1 (frame 33/0) E:\\JupyterNotebooks\\Road_problem\\runs\\detect\\road_features_yolo_inference\\a.avi: 480x640 1 Divider, 1 Speed bumps, 203.1ms\n",
      "video 1/1 (frame 34/0) E:\\JupyterNotebooks\\Road_problem\\runs\\detect\\road_features_yolo_inference\\a.avi: 480x640 1 Divider, 1 Speed bumps, 198.1ms\n",
      "video 1/1 (frame 35/0) E:\\JupyterNotebooks\\Road_problem\\runs\\detect\\road_features_yolo_inference\\a.avi: 480x640 2 Dividers, 1 Speed bumps, 233.3ms\n",
      "video 1/1 (frame 36/0) E:\\JupyterNotebooks\\Road_problem\\runs\\detect\\road_features_yolo_inference\\a.avi: 480x640 2 Dividers, 1 Speed bumps, 209.9ms\n",
      "video 1/1 (frame 37/0) E:\\JupyterNotebooks\\Road_problem\\runs\\detect\\road_features_yolo_inference\\a.avi: 480x640 2 Dividers, 1 Speed bumps, 234.8ms\n",
      "video 1/1 (frame 38/0) E:\\JupyterNotebooks\\Road_problem\\runs\\detect\\road_features_yolo_inference\\a.avi: 480x640 2 Dividers, 1 Speed bumps, 246.6ms\n",
      "video 1/1 (frame 39/0) E:\\JupyterNotebooks\\Road_problem\\runs\\detect\\road_features_yolo_inference\\a.avi: 480x640 2 Dividers, 1 Speed bumps, 222.6ms\n",
      "video 1/1 (frame 40/0) E:\\JupyterNotebooks\\Road_problem\\runs\\detect\\road_features_yolo_inference\\a.avi: 480x640 2 Dividers, 1 Speed bumps, 229.9ms\n",
      "video 1/1 (frame 41/0) E:\\JupyterNotebooks\\Road_problem\\runs\\detect\\road_features_yolo_inference\\a.avi: 480x640 1 Divider, 231.7ms\n",
      "video 1/1 (frame 42/0) E:\\JupyterNotebooks\\Road_problem\\runs\\detect\\road_features_yolo_inference\\a.avi: 480x640 1 Divider, 194.1ms\n",
      "video 1/1 (frame 43/0) E:\\JupyterNotebooks\\Road_problem\\runs\\detect\\road_features_yolo_inference\\a.avi: 480x640 1 Divider, 240.5ms\n",
      "video 1/1 (frame 44/0) E:\\JupyterNotebooks\\Road_problem\\runs\\detect\\road_features_yolo_inference\\a.avi: 480x640 1 Divider, 190.7ms\n",
      "video 1/1 (frame 45/0) E:\\JupyterNotebooks\\Road_problem\\runs\\detect\\road_features_yolo_inference\\a.avi: 480x640 1 Divider, 212.8ms\n",
      "video 1/1 (frame 46/0) E:\\JupyterNotebooks\\Road_problem\\runs\\detect\\road_features_yolo_inference\\a.avi: 480x640 1 Divider, 147.8ms\n",
      "video 1/1 (frame 47/0) E:\\JupyterNotebooks\\Road_problem\\runs\\detect\\road_features_yolo_inference\\a.avi: 480x640 1 Divider, 156.0ms\n",
      "video 1/1 (frame 48/0) E:\\JupyterNotebooks\\Road_problem\\runs\\detect\\road_features_yolo_inference\\a.avi: 480x640 1 Divider, 76.5ms\n",
      "video 1/1 (frame 49/0) E:\\JupyterNotebooks\\Road_problem\\runs\\detect\\road_features_yolo_inference\\a.avi: 480x640 1 Divider, 166.5ms\n",
      "video 1/1 (frame 50/0) E:\\JupyterNotebooks\\Road_problem\\runs\\detect\\road_features_yolo_inference\\a.avi: 480x640 1 Divider, 191.8ms\n",
      "video 1/1 (frame 51/0) E:\\JupyterNotebooks\\Road_problem\\runs\\detect\\road_features_yolo_inference\\a.avi: 480x640 1 Divider, 246.6ms\n",
      "video 1/1 (frame 52/0) E:\\JupyterNotebooks\\Road_problem\\runs\\detect\\road_features_yolo_inference\\a.avi: 480x640 1 Divider, 248.0ms\n",
      "video 1/1 (frame 53/0) E:\\JupyterNotebooks\\Road_problem\\runs\\detect\\road_features_yolo_inference\\a.avi: 480x640 1 Divider, 231.6ms\n",
      "video 1/1 (frame 54/0) E:\\JupyterNotebooks\\Road_problem\\runs\\detect\\road_features_yolo_inference\\a.avi: 480x640 1 Divider, 257.8ms\n",
      "video 1/1 (frame 55/0) E:\\JupyterNotebooks\\Road_problem\\runs\\detect\\road_features_yolo_inference\\a.avi: 480x640 1 Divider, 210.5ms\n",
      "video 1/1 (frame 56/0) E:\\JupyterNotebooks\\Road_problem\\runs\\detect\\road_features_yolo_inference\\a.avi: 480x640 1 Divider, 251.5ms\n",
      "video 1/1 (frame 57/0) E:\\JupyterNotebooks\\Road_problem\\runs\\detect\\road_features_yolo_inference\\a.avi: 480x640 1 Divider, 228.7ms\n",
      "video 1/1 (frame 58/0) E:\\JupyterNotebooks\\Road_problem\\runs\\detect\\road_features_yolo_inference\\a.avi: 480x640 (no detections), 240.1ms\n",
      "video 1/1 (frame 59/0) E:\\JupyterNotebooks\\Road_problem\\runs\\detect\\road_features_yolo_inference\\a.avi: 480x640 (no detections), 239.1ms\n",
      "video 1/1 (frame 60/0) E:\\JupyterNotebooks\\Road_problem\\runs\\detect\\road_features_yolo_inference\\a.avi: 480x640 (no detections), 252.1ms\n",
      "video 1/1 (frame 61/0) E:\\JupyterNotebooks\\Road_problem\\runs\\detect\\road_features_yolo_inference\\a.avi: 480x640 (no detections), 243.0ms\n",
      "video 1/1 (frame 62/0) E:\\JupyterNotebooks\\Road_problem\\runs\\detect\\road_features_yolo_inference\\a.avi: 480x640 (no detections), 254.6ms\n",
      "video 1/1 (frame 63/0) E:\\JupyterNotebooks\\Road_problem\\runs\\detect\\road_features_yolo_inference\\a.avi: 480x640 (no detections), 249.8ms\n",
      "video 1/1 (frame 64/0) E:\\JupyterNotebooks\\Road_problem\\runs\\detect\\road_features_yolo_inference\\a.avi: 480x640 (no detections), 239.5ms\n",
      "video 1/1 (frame 65/0) E:\\JupyterNotebooks\\Road_problem\\runs\\detect\\road_features_yolo_inference\\a.avi: 480x640 (no detections), 263.4ms\n",
      "video 1/1 (frame 66/0) E:\\JupyterNotebooks\\Road_problem\\runs\\detect\\road_features_yolo_inference\\a.avi: 480x640 (no detections), 255.6ms\n",
      "video 1/1 (frame 67/0) E:\\JupyterNotebooks\\Road_problem\\runs\\detect\\road_features_yolo_inference\\a.avi: 480x640 1 Divider, 253.6ms\n",
      "video 1/1 (frame 68/0) E:\\JupyterNotebooks\\Road_problem\\runs\\detect\\road_features_yolo_inference\\a.avi: 480x640 1 Divider, 252.7ms\n",
      "video 1/1 (frame 69/0) E:\\JupyterNotebooks\\Road_problem\\runs\\detect\\road_features_yolo_inference\\a.avi: 480x640 1 Divider, 235.1ms\n",
      "video 1/1 (frame 70/0) E:\\JupyterNotebooks\\Road_problem\\runs\\detect\\road_features_yolo_inference\\a.avi: 480x640 1 Divider, 256.4ms\n",
      "video 1/1 (frame 71/0) E:\\JupyterNotebooks\\Road_problem\\runs\\detect\\road_features_yolo_inference\\a.avi: 480x640 1 Divider, 248.9ms\n",
      "video 1/1 (frame 72/0) E:\\JupyterNotebooks\\Road_problem\\runs\\detect\\road_features_yolo_inference\\a.avi: 480x640 1 Divider, 181.5ms\n",
      "video 1/1 (frame 73/0) E:\\JupyterNotebooks\\Road_problem\\runs\\detect\\road_features_yolo_inference\\a.avi: 480x640 1 Divider, 252.5ms\n",
      "video 1/1 (frame 74/0) E:\\JupyterNotebooks\\Road_problem\\runs\\detect\\road_features_yolo_inference\\a.avi: 480x640 1 Divider, 248.6ms\n",
      "video 1/1 (frame 75/0) E:\\JupyterNotebooks\\Road_problem\\runs\\detect\\road_features_yolo_inference\\a.avi: 480x640 1 Divider, 255.2ms\n",
      "video 1/1 (frame 76/0) E:\\JupyterNotebooks\\Road_problem\\runs\\detect\\road_features_yolo_inference\\a.avi: 480x640 1 Divider, 219.1ms\n",
      "video 1/1 (frame 77/0) E:\\JupyterNotebooks\\Road_problem\\runs\\detect\\road_features_yolo_inference\\a.avi: 480x640 1 Divider, 168.4ms\n",
      "video 1/1 (frame 78/0) E:\\JupyterNotebooks\\Road_problem\\runs\\detect\\road_features_yolo_inference\\a.avi: 480x640 1 Divider, 170.9ms\n",
      "video 1/1 (frame 79/0) E:\\JupyterNotebooks\\Road_problem\\runs\\detect\\road_features_yolo_inference\\a.avi: 480x640 1 Divider, 262.8ms\n",
      "video 1/1 (frame 80/0) E:\\JupyterNotebooks\\Road_problem\\runs\\detect\\road_features_yolo_inference\\a.avi: 480x640 1 Divider, 223.4ms\n",
      "video 1/1 (frame 81/0) E:\\JupyterNotebooks\\Road_problem\\runs\\detect\\road_features_yolo_inference\\a.avi: 480x640 1 Divider, 255.6ms\n",
      "video 1/1 (frame 82/0) E:\\JupyterNotebooks\\Road_problem\\runs\\detect\\road_features_yolo_inference\\a.avi: 480x640 1 Divider, 249.5ms\n",
      "video 1/1 (frame 83/0) E:\\JupyterNotebooks\\Road_problem\\runs\\detect\\road_features_yolo_inference\\a.avi: 480x640 1 Divider, 248.0ms\n",
      "video 1/1 (frame 84/0) E:\\JupyterNotebooks\\Road_problem\\runs\\detect\\road_features_yolo_inference\\a.avi: 480x640 1 Divider, 179.8ms\n",
      "video 1/1 (frame 85/0) E:\\JupyterNotebooks\\Road_problem\\runs\\detect\\road_features_yolo_inference\\a.avi: 480x640 1 Divider, 249.2ms\n",
      "video 1/1 (frame 86/0) E:\\JupyterNotebooks\\Road_problem\\runs\\detect\\road_features_yolo_inference\\a.avi: 480x640 1 Divider, 250.3ms\n",
      "video 1/1 (frame 87/0) E:\\JupyterNotebooks\\Road_problem\\runs\\detect\\road_features_yolo_inference\\a.avi: 480x640 1 Divider, 245.6ms\n",
      "video 1/1 (frame 88/0) E:\\JupyterNotebooks\\Road_problem\\runs\\detect\\road_features_yolo_inference\\a.avi: 480x640 1 Divider, 171.2ms\n",
      "video 1/1 (frame 89/0) E:\\JupyterNotebooks\\Road_problem\\runs\\detect\\road_features_yolo_inference\\a.avi: 480x640 1 Divider, 247.5ms\n",
      "video 1/1 (frame 90/0) E:\\JupyterNotebooks\\Road_problem\\runs\\detect\\road_features_yolo_inference\\a.avi: 480x640 1 Divider, 1 Cracks, 174.1ms\n",
      "video 1/1 (frame 91/0) E:\\JupyterNotebooks\\Road_problem\\runs\\detect\\road_features_yolo_inference\\a.avi: 480x640 1 Divider, 1 Cracks, 255.3ms\n",
      "video 1/1 (frame 92/0) E:\\JupyterNotebooks\\Road_problem\\runs\\detect\\road_features_yolo_inference\\a.avi: 480x640 1 Divider, 1 Cracks, 212.6ms\n",
      "video 1/1 (frame 93/0) E:\\JupyterNotebooks\\Road_problem\\runs\\detect\\road_features_yolo_inference\\a.avi: 480x640 1 Divider, 1 Cracks, 173.8ms\n",
      "video 1/1 (frame 94/0) E:\\JupyterNotebooks\\Road_problem\\runs\\detect\\road_features_yolo_inference\\a.avi: 480x640 1 Divider, 252.7ms\n",
      "video 1/1 (frame 95/0) E:\\JupyterNotebooks\\Road_problem\\runs\\detect\\road_features_yolo_inference\\a.avi: 480x640 1 Divider, 252.0ms\n",
      "video 1/1 (frame 96/0) E:\\JupyterNotebooks\\Road_problem\\runs\\detect\\road_features_yolo_inference\\a.avi: 480x640 1 Divider, 245.7ms\n",
      "video 1/1 (frame 97/0) E:\\JupyterNotebooks\\Road_problem\\runs\\detect\\road_features_yolo_inference\\a.avi: 480x640 1 Divider, 111.4ms\n",
      "video 1/1 (frame 98/0) E:\\JupyterNotebooks\\Road_problem\\runs\\detect\\road_features_yolo_inference\\a.avi: 480x640 1 Divider, 174.5ms\n",
      "video 1/1 (frame 99/0) E:\\JupyterNotebooks\\Road_problem\\runs\\detect\\road_features_yolo_inference\\a.avi: 480x640 1 Divider, 237.9ms\n",
      "video 1/1 (frame 100/0) E:\\JupyterNotebooks\\Road_problem\\runs\\detect\\road_features_yolo_inference\\a.avi: 480x640 1 Divider, 185.9ms\n",
      "video 1/1 (frame 101/0) E:\\JupyterNotebooks\\Road_problem\\runs\\detect\\road_features_yolo_inference\\a.avi: 480x640 1 Divider, 131.8ms\n",
      "video 1/1 (frame 102/0) E:\\JupyterNotebooks\\Road_problem\\runs\\detect\\road_features_yolo_inference\\a.avi: 480x640 2 Dividers, 165.5ms\n",
      "video 1/1 (frame 103/0) E:\\JupyterNotebooks\\Road_problem\\runs\\detect\\road_features_yolo_inference\\a.avi: 480x640 2 Dividers, 208.9ms\n",
      "video 1/1 (frame 104/0) E:\\JupyterNotebooks\\Road_problem\\runs\\detect\\road_features_yolo_inference\\a.avi: 480x640 1 Divider, 126.7ms\n",
      "video 1/1 (frame 105/0) E:\\JupyterNotebooks\\Road_problem\\runs\\detect\\road_features_yolo_inference\\a.avi: 480x640 2 Dividers, 180.7ms\n",
      "video 1/1 (frame 106/0) E:\\JupyterNotebooks\\Road_problem\\runs\\detect\\road_features_yolo_inference\\a.avi: 480x640 1 Divider, 259.0ms\n",
      "video 1/1 (frame 107/0) E:\\JupyterNotebooks\\Road_problem\\runs\\detect\\road_features_yolo_inference\\a.avi: 480x640 1 Divider, 178.6ms\n",
      "video 1/1 (frame 108/0) E:\\JupyterNotebooks\\Road_problem\\runs\\detect\\road_features_yolo_inference\\a.avi: 480x640 1 Divider, 253.7ms\n",
      "video 1/1 (frame 109/0) E:\\JupyterNotebooks\\Road_problem\\runs\\detect\\road_features_yolo_inference\\a.avi: 480x640 1 Divider, 174.6ms\n",
      "video 1/1 (frame 110/0) E:\\JupyterNotebooks\\Road_problem\\runs\\detect\\road_features_yolo_inference\\a.avi: 480x640 1 Divider, 213.6ms\n",
      "video 1/1 (frame 111/0) E:\\JupyterNotebooks\\Road_problem\\runs\\detect\\road_features_yolo_inference\\a.avi: 480x640 1 Divider, 143.9ms\n",
      "video 1/1 (frame 112/0) E:\\JupyterNotebooks\\Road_problem\\runs\\detect\\road_features_yolo_inference\\a.avi: 480x640 1 Divider, 295.4ms\n",
      "video 1/1 (frame 113/0) E:\\JupyterNotebooks\\Road_problem\\runs\\detect\\road_features_yolo_inference\\a.avi: 480x640 1 Divider, 171.5ms\n",
      "video 1/1 (frame 114/0) E:\\JupyterNotebooks\\Road_problem\\runs\\detect\\road_features_yolo_inference\\a.avi: 480x640 1 Divider, 248.5ms\n",
      "video 1/1 (frame 115/0) E:\\JupyterNotebooks\\Road_problem\\runs\\detect\\road_features_yolo_inference\\a.avi: 480x640 1 Divider, 179.4ms\n",
      "video 1/1 (frame 116/0) E:\\JupyterNotebooks\\Road_problem\\runs\\detect\\road_features_yolo_inference\\a.avi: 480x640 1 Divider, 249.5ms\n",
      "video 1/1 (frame 117/0) E:\\JupyterNotebooks\\Road_problem\\runs\\detect\\road_features_yolo_inference\\a.avi: 480x640 1 Divider, 175.6ms\n",
      "video 1/1 (frame 118/0) E:\\JupyterNotebooks\\Road_problem\\runs\\detect\\road_features_yolo_inference\\a.avi: 480x640 1 Divider, 223.2ms\n",
      "video 1/1 (frame 119/0) E:\\JupyterNotebooks\\Road_problem\\runs\\detect\\road_features_yolo_inference\\a.avi: 480x640 2 Dividers, 250.3ms\n",
      "video 1/1 (frame 120/0) E:\\JupyterNotebooks\\Road_problem\\runs\\detect\\road_features_yolo_inference\\a.avi: 480x640 1 Divider, 180.6ms\n",
      "video 1/1 (frame 121/0) E:\\JupyterNotebooks\\Road_problem\\runs\\detect\\road_features_yolo_inference\\a.avi: 480x640 2 Dividers, 246.2ms\n",
      "video 1/1 (frame 122/0) E:\\JupyterNotebooks\\Road_problem\\runs\\detect\\road_features_yolo_inference\\a.avi: 480x640 2 Dividers, 168.5ms\n",
      "video 1/1 (frame 123/0) E:\\JupyterNotebooks\\Road_problem\\runs\\detect\\road_features_yolo_inference\\a.avi: 480x640 2 Dividers, 260.6ms\n",
      "video 1/1 (frame 124/0) E:\\JupyterNotebooks\\Road_problem\\runs\\detect\\road_features_yolo_inference\\a.avi: 480x640 2 Dividers, 183.3ms\n",
      "video 1/1 (frame 125/0) E:\\JupyterNotebooks\\Road_problem\\runs\\detect\\road_features_yolo_inference\\a.avi: 480x640 2 Dividers, 172.9ms\n",
      "video 1/1 (frame 126/0) E:\\JupyterNotebooks\\Road_problem\\runs\\detect\\road_features_yolo_inference\\a.avi: 480x640 2 Dividers, 235.4ms\n",
      "video 1/1 (frame 127/0) E:\\JupyterNotebooks\\Road_problem\\runs\\detect\\road_features_yolo_inference\\a.avi: 480x640 2 Dividers, 195.8ms\n",
      "video 1/1 (frame 128/0) E:\\JupyterNotebooks\\Road_problem\\runs\\detect\\road_features_yolo_inference\\a.avi: 480x640 2 Dividers, 237.4ms\n",
      "video 1/1 (frame 129/0) E:\\JupyterNotebooks\\Road_problem\\runs\\detect\\road_features_yolo_inference\\a.avi: 480x640 1 Divider, 174.4ms\n",
      "video 1/1 (frame 130/0) E:\\JupyterNotebooks\\Road_problem\\runs\\detect\\road_features_yolo_inference\\a.avi: 480x640 2 Dividers, 192.7ms\n",
      "video 1/1 (frame 131/0) E:\\JupyterNotebooks\\Road_problem\\runs\\detect\\road_features_yolo_inference\\a.avi: 480x640 1 Divider, 199.3ms\n",
      "video 1/1 (frame 132/0) E:\\JupyterNotebooks\\Road_problem\\runs\\detect\\road_features_yolo_inference\\a.avi: 480x640 2 Dividers, 256.4ms\n",
      "video 1/1 (frame 133/0) E:\\JupyterNotebooks\\Road_problem\\runs\\detect\\road_features_yolo_inference\\a.avi: 480x640 1 Divider, 187.9ms\n",
      "video 1/1 (frame 134/0) E:\\JupyterNotebooks\\Road_problem\\runs\\detect\\road_features_yolo_inference\\a.avi: 480x640 1 Divider, 220.7ms\n",
      "video 1/1 (frame 135/0) E:\\JupyterNotebooks\\Road_problem\\runs\\detect\\road_features_yolo_inference\\a.avi: 480x640 1 Divider, 223.4ms\n",
      "video 1/1 (frame 136/0) E:\\JupyterNotebooks\\Road_problem\\runs\\detect\\road_features_yolo_inference\\a.avi: 480x640 1 Divider, 204.7ms\n",
      "video 1/1 (frame 137/0) E:\\JupyterNotebooks\\Road_problem\\runs\\detect\\road_features_yolo_inference\\a.avi: 480x640 1 Divider, 262.2ms\n",
      "video 1/1 (frame 138/0) E:\\JupyterNotebooks\\Road_problem\\runs\\detect\\road_features_yolo_inference\\a.avi: 480x640 1 Divider, 193.9ms\n",
      "video 1/1 (frame 139/0) E:\\JupyterNotebooks\\Road_problem\\runs\\detect\\road_features_yolo_inference\\a.avi: 480x640 1 Divider, 255.1ms\n",
      "video 1/1 (frame 140/0) E:\\JupyterNotebooks\\Road_problem\\runs\\detect\\road_features_yolo_inference\\a.avi: 480x640 1 Divider, 188.9ms\n",
      "video 1/1 (frame 141/0) E:\\JupyterNotebooks\\Road_problem\\runs\\detect\\road_features_yolo_inference\\a.avi: 480x640 1 Divider, 191.0ms\n",
      "video 1/1 (frame 142/0) E:\\JupyterNotebooks\\Road_problem\\runs\\detect\\road_features_yolo_inference\\a.avi: 480x640 1 Divider, 96.5ms\n",
      "video 1/1 (frame 143/0) E:\\JupyterNotebooks\\Road_problem\\runs\\detect\\road_features_yolo_inference\\a.avi: 480x640 1 Divider, 141.9ms\n",
      "video 1/1 (frame 144/0) E:\\JupyterNotebooks\\Road_problem\\runs\\detect\\road_features_yolo_inference\\a.avi: 480x640 1 Divider, 233.3ms\n",
      "video 1/1 (frame 145/0) E:\\JupyterNotebooks\\Road_problem\\runs\\detect\\road_features_yolo_inference\\a.avi: 480x640 1 Divider, 254.2ms\n",
      "video 1/1 (frame 146/0) E:\\JupyterNotebooks\\Road_problem\\runs\\detect\\road_features_yolo_inference\\a.avi: 480x640 1 Divider, 178.9ms\n",
      "video 1/1 (frame 147/0) E:\\JupyterNotebooks\\Road_problem\\runs\\detect\\road_features_yolo_inference\\a.avi: 480x640 1 Divider, 285.0ms\n",
      "video 1/1 (frame 148/0) E:\\JupyterNotebooks\\Road_problem\\runs\\detect\\road_features_yolo_inference\\a.avi: 480x640 1 Divider, 213.8ms\n",
      "video 1/1 (frame 149/0) E:\\JupyterNotebooks\\Road_problem\\runs\\detect\\road_features_yolo_inference\\a.avi: 480x640 1 Divider, 167.6ms\n",
      "video 1/1 (frame 150/0) E:\\JupyterNotebooks\\Road_problem\\runs\\detect\\road_features_yolo_inference\\a.avi: 480x640 1 Divider, 227.7ms\n",
      "video 1/1 (frame 151/0) E:\\JupyterNotebooks\\Road_problem\\runs\\detect\\road_features_yolo_inference\\a.avi: 480x640 1 Divider, 168.5ms\n",
      "video 1/1 (frame 152/0) E:\\JupyterNotebooks\\Road_problem\\runs\\detect\\road_features_yolo_inference\\a.avi: 480x640 1 Divider, 165.9ms\n",
      "video 1/1 (frame 153/0) E:\\JupyterNotebooks\\Road_problem\\runs\\detect\\road_features_yolo_inference\\a.avi: 480x640 1 Divider, 167.3ms\n",
      "video 1/1 (frame 154/0) E:\\JupyterNotebooks\\Road_problem\\runs\\detect\\road_features_yolo_inference\\a.avi: 480x640 1 Divider, 238.8ms\n",
      "video 1/1 (frame 155/0) E:\\JupyterNotebooks\\Road_problem\\runs\\detect\\road_features_yolo_inference\\a.avi: 480x640 1 Divider, 178.2ms\n",
      "video 1/1 (frame 156/0) E:\\JupyterNotebooks\\Road_problem\\runs\\detect\\road_features_yolo_inference\\a.avi: 480x640 1 Divider, 151.8ms\n",
      "video 1/1 (frame 157/0) E:\\JupyterNotebooks\\Road_problem\\runs\\detect\\road_features_yolo_inference\\a.avi: 480x640 1 Divider, 174.3ms\n",
      "video 1/1 (frame 158/0) E:\\JupyterNotebooks\\Road_problem\\runs\\detect\\road_features_yolo_inference\\a.avi: 480x640 1 Divider, 139.3ms\n",
      "video 1/1 (frame 159/0) E:\\JupyterNotebooks\\Road_problem\\runs\\detect\\road_features_yolo_inference\\a.avi: 480x640 1 Divider, 234.5ms\n",
      "video 1/1 (frame 160/0) E:\\JupyterNotebooks\\Road_problem\\runs\\detect\\road_features_yolo_inference\\a.avi: 480x640 1 Divider, 166.2ms\n",
      "video 1/1 (frame 161/0) E:\\JupyterNotebooks\\Road_problem\\runs\\detect\\road_features_yolo_inference\\a.avi: 480x640 1 Divider, 136.9ms\n",
      "video 1/1 (frame 162/0) E:\\JupyterNotebooks\\Road_problem\\runs\\detect\\road_features_yolo_inference\\a.avi: 480x640 1 Divider, 232.5ms\n",
      "video 1/1 (frame 163/0) E:\\JupyterNotebooks\\Road_problem\\runs\\detect\\road_features_yolo_inference\\a.avi: 480x640 1 Divider, 175.0ms\n",
      "video 1/1 (frame 164/0) E:\\JupyterNotebooks\\Road_problem\\runs\\detect\\road_features_yolo_inference\\a.avi: 480x640 1 Divider, 222.5ms\n",
      "video 1/1 (frame 165/0) E:\\JupyterNotebooks\\Road_problem\\runs\\detect\\road_features_yolo_inference\\a.avi: 480x640 1 Divider, 248.1ms\n",
      "video 1/1 (frame 166/0) E:\\JupyterNotebooks\\Road_problem\\runs\\detect\\road_features_yolo_inference\\a.avi: 480x640 1 Divider, 135.2ms\n",
      "video 1/1 (frame 167/0) E:\\JupyterNotebooks\\Road_problem\\runs\\detect\\road_features_yolo_inference\\a.avi: 480x640 1 Divider, 200.1ms\n",
      "video 1/1 (frame 168/0) E:\\JupyterNotebooks\\Road_problem\\runs\\detect\\road_features_yolo_inference\\a.avi: 480x640 1 Divider, 244.2ms\n",
      "video 1/1 (frame 169/0) E:\\JupyterNotebooks\\Road_problem\\runs\\detect\\road_features_yolo_inference\\a.avi: 480x640 1 Divider, 249.4ms\n",
      "video 1/1 (frame 170/0) E:\\JupyterNotebooks\\Road_problem\\runs\\detect\\road_features_yolo_inference\\a.avi: 480x640 1 Divider, 158.5ms\n",
      "video 1/1 (frame 171/0) E:\\JupyterNotebooks\\Road_problem\\runs\\detect\\road_features_yolo_inference\\a.avi: 480x640 1 Divider, 203.7ms\n",
      "video 1/1 (frame 172/0) E:\\JupyterNotebooks\\Road_problem\\runs\\detect\\road_features_yolo_inference\\a.avi: 480x640 1 Divider, 196.0ms\n",
      "video 1/1 (frame 173/0) E:\\JupyterNotebooks\\Road_problem\\runs\\detect\\road_features_yolo_inference\\a.avi: 480x640 1 Divider, 150.7ms\n",
      "video 1/1 (frame 174/0) E:\\JupyterNotebooks\\Road_problem\\runs\\detect\\road_features_yolo_inference\\a.avi: 480x640 1 Divider, 246.0ms\n",
      "video 1/1 (frame 175/0) E:\\JupyterNotebooks\\Road_problem\\runs\\detect\\road_features_yolo_inference\\a.avi: 480x640 1 Divider, 250.6ms\n",
      "video 1/1 (frame 176/0) E:\\JupyterNotebooks\\Road_problem\\runs\\detect\\road_features_yolo_inference\\a.avi: 480x640 (no detections), 159.4ms\n",
      "video 1/1 (frame 177/0) E:\\JupyterNotebooks\\Road_problem\\runs\\detect\\road_features_yolo_inference\\a.avi: 480x640 1 Divider, 204.3ms\n",
      "video 1/1 (frame 178/0) E:\\JupyterNotebooks\\Road_problem\\runs\\detect\\road_features_yolo_inference\\a.avi: 480x640 (no detections), 146.0ms\n",
      "video 1/1 (frame 179/0) E:\\JupyterNotebooks\\Road_problem\\runs\\detect\\road_features_yolo_inference\\a.avi: 480x640 1 Divider, 178.4ms\n",
      "video 1/1 (frame 180/0) E:\\JupyterNotebooks\\Road_problem\\runs\\detect\\road_features_yolo_inference\\a.avi: 480x640 1 Divider, 195.4ms\n",
      "video 1/1 (frame 181/0) E:\\JupyterNotebooks\\Road_problem\\runs\\detect\\road_features_yolo_inference\\a.avi: 480x640 1 Divider, 169.7ms\n",
      "video 1/1 (frame 182/0) E:\\JupyterNotebooks\\Road_problem\\runs\\detect\\road_features_yolo_inference\\a.avi: 480x640 1 Divider, 209.3ms\n",
      "video 1/1 (frame 183/0) E:\\JupyterNotebooks\\Road_problem\\runs\\detect\\road_features_yolo_inference\\a.avi: 480x640 1 Divider, 207.6ms\n",
      "video 1/1 (frame 184/0) E:\\JupyterNotebooks\\Road_problem\\runs\\detect\\road_features_yolo_inference\\a.avi: 480x640 2 Dividers, 294.9ms\n",
      "video 1/1 (frame 185/0) E:\\JupyterNotebooks\\Road_problem\\runs\\detect\\road_features_yolo_inference\\a.avi: 480x640 2 Dividers, 133.9ms\n",
      "video 1/1 (frame 186/0) E:\\JupyterNotebooks\\Road_problem\\runs\\detect\\road_features_yolo_inference\\a.avi: 480x640 2 Dividers, 212.9ms\n",
      "video 1/1 (frame 187/0) E:\\JupyterNotebooks\\Road_problem\\runs\\detect\\road_features_yolo_inference\\a.avi: 480x640 2 Dividers, 181.6ms\n",
      "video 1/1 (frame 188/0) E:\\JupyterNotebooks\\Road_problem\\runs\\detect\\road_features_yolo_inference\\a.avi: 480x640 2 Dividers, 234.2ms\n",
      "video 1/1 (frame 189/0) E:\\JupyterNotebooks\\Road_problem\\runs\\detect\\road_features_yolo_inference\\a.avi: 480x640 2 Dividers, 172.2ms\n",
      "video 1/1 (frame 190/0) E:\\JupyterNotebooks\\Road_problem\\runs\\detect\\road_features_yolo_inference\\a.avi: 480x640 2 Dividers, 179.0ms\n",
      "video 1/1 (frame 191/0) E:\\JupyterNotebooks\\Road_problem\\runs\\detect\\road_features_yolo_inference\\a.avi: 480x640 2 Dividers, 206.3ms\n",
      "video 1/1 (frame 192/0) E:\\JupyterNotebooks\\Road_problem\\runs\\detect\\road_features_yolo_inference\\a.avi: 480x640 2 Dividers, 159.6ms\n",
      "video 1/1 (frame 193/0) E:\\JupyterNotebooks\\Road_problem\\runs\\detect\\road_features_yolo_inference\\a.avi: 480x640 1 Divider, 228.4ms\n",
      "video 1/1 (frame 194/0) E:\\JupyterNotebooks\\Road_problem\\runs\\detect\\road_features_yolo_inference\\a.avi: 480x640 (no detections), 217.5ms\n",
      "video 1/1 (frame 195/0) E:\\JupyterNotebooks\\Road_problem\\runs\\detect\\road_features_yolo_inference\\a.avi: 480x640 (no detections), 168.3ms\n",
      "video 1/1 (frame 196/0) E:\\JupyterNotebooks\\Road_problem\\runs\\detect\\road_features_yolo_inference\\a.avi: 480x640 (no detections), 198.5ms\n",
      "video 1/1 (frame 197/0) E:\\JupyterNotebooks\\Road_problem\\runs\\detect\\road_features_yolo_inference\\a.avi: 480x640 1 Divider, 174.9ms\n",
      "video 1/1 (frame 198/0) E:\\JupyterNotebooks\\Road_problem\\runs\\detect\\road_features_yolo_inference\\a.avi: 480x640 (no detections), 234.7ms\n",
      "video 1/1 (frame 199/0) E:\\JupyterNotebooks\\Road_problem\\runs\\detect\\road_features_yolo_inference\\a.avi: 480x640 1 Divider, 198.8ms\n",
      "video 1/1 (frame 200/0) E:\\JupyterNotebooks\\Road_problem\\runs\\detect\\road_features_yolo_inference\\a.avi: 480x640 (no detections), 155.8ms\n",
      "video 1/1 (frame 201/0) E:\\JupyterNotebooks\\Road_problem\\runs\\detect\\road_features_yolo_inference\\a.avi: 480x640 (no detections), 183.8ms\n",
      "video 1/1 (frame 202/0) E:\\JupyterNotebooks\\Road_problem\\runs\\detect\\road_features_yolo_inference\\a.avi: 480x640 1 Divider, 178.5ms\n",
      "video 1/1 (frame 203/0) E:\\JupyterNotebooks\\Road_problem\\runs\\detect\\road_features_yolo_inference\\a.avi: 480x640 (no detections), 188.4ms\n",
      "video 1/1 (frame 204/0) E:\\JupyterNotebooks\\Road_problem\\runs\\detect\\road_features_yolo_inference\\a.avi: 480x640 (no detections), 184.0ms\n",
      "video 1/1 (frame 205/0) E:\\JupyterNotebooks\\Road_problem\\runs\\detect\\road_features_yolo_inference\\a.avi: 480x640 (no detections), 202.9ms\n",
      "video 1/1 (frame 206/0) E:\\JupyterNotebooks\\Road_problem\\runs\\detect\\road_features_yolo_inference\\a.avi: 480x640 2 Dividers, 250.1ms\n",
      "video 1/1 (frame 207/0) E:\\JupyterNotebooks\\Road_problem\\runs\\detect\\road_features_yolo_inference\\a.avi: 480x640 1 Divider, 173.2ms\n",
      "video 1/1 (frame 208/0) E:\\JupyterNotebooks\\Road_problem\\runs\\detect\\road_features_yolo_inference\\a.avi: 480x640 2 Dividers, 248.2ms\n",
      "video 1/1 (frame 209/0) E:\\JupyterNotebooks\\Road_problem\\runs\\detect\\road_features_yolo_inference\\a.avi: 480x640 2 Dividers, 122.7ms\n",
      "video 1/1 (frame 210/0) E:\\JupyterNotebooks\\Road_problem\\runs\\detect\\road_features_yolo_inference\\a.avi: 480x640 2 Dividers, 221.8ms\n",
      "video 1/1 (frame 211/0) E:\\JupyterNotebooks\\Road_problem\\runs\\detect\\road_features_yolo_inference\\a.avi: 480x640 1 Divider, 201.0ms\n",
      "video 1/1 (frame 212/0) E:\\JupyterNotebooks\\Road_problem\\runs\\detect\\road_features_yolo_inference\\a.avi: 480x640 2 Dividers, 202.1ms\n",
      "video 1/1 (frame 213/0) E:\\JupyterNotebooks\\Road_problem\\runs\\detect\\road_features_yolo_inference\\a.avi: 480x640 2 Dividers, 204.2ms\n",
      "video 1/1 (frame 214/0) E:\\JupyterNotebooks\\Road_problem\\runs\\detect\\road_features_yolo_inference\\a.avi: 480x640 2 Dividers, 129.3ms\n",
      "video 1/1 (frame 215/0) E:\\JupyterNotebooks\\Road_problem\\runs\\detect\\road_features_yolo_inference\\a.avi: 480x640 1 Divider, 148.5ms\n",
      "video 1/1 (frame 216/0) E:\\JupyterNotebooks\\Road_problem\\runs\\detect\\road_features_yolo_inference\\a.avi: 480x640 1 Divider, 236.9ms\n",
      "video 1/1 (frame 217/0) E:\\JupyterNotebooks\\Road_problem\\runs\\detect\\road_features_yolo_inference\\a.avi: 480x640 1 Divider, 205.6ms\n",
      "video 1/1 (frame 218/0) E:\\JupyterNotebooks\\Road_problem\\runs\\detect\\road_features_yolo_inference\\a.avi: 480x640 1 Divider, 178.3ms\n",
      "video 1/1 (frame 219/0) E:\\JupyterNotebooks\\Road_problem\\runs\\detect\\road_features_yolo_inference\\a.avi: 480x640 2 Dividers, 168.6ms\n",
      "video 1/1 (frame 220/0) E:\\JupyterNotebooks\\Road_problem\\runs\\detect\\road_features_yolo_inference\\a.avi: 480x640 2 Dividers, 147.7ms\n",
      "video 1/1 (frame 221/0) E:\\JupyterNotebooks\\Road_problem\\runs\\detect\\road_features_yolo_inference\\a.avi: 480x640 2 Dividers, 121.8ms\n",
      "video 1/1 (frame 222/0) E:\\JupyterNotebooks\\Road_problem\\runs\\detect\\road_features_yolo_inference\\a.avi: 480x640 2 Dividers, 135.6ms\n",
      "video 1/1 (frame 223/0) E:\\JupyterNotebooks\\Road_problem\\runs\\detect\\road_features_yolo_inference\\a.avi: 480x640 1 Divider, 123.2ms\n",
      "video 1/1 (frame 224/0) E:\\JupyterNotebooks\\Road_problem\\runs\\detect\\road_features_yolo_inference\\a.avi: 480x640 1 Divider, 179.6ms\n",
      "video 1/1 (frame 225/0) E:\\JupyterNotebooks\\Road_problem\\runs\\detect\\road_features_yolo_inference\\a.avi: 480x640 1 Divider, 139.7ms\n",
      "video 1/1 (frame 226/0) E:\\JupyterNotebooks\\Road_problem\\runs\\detect\\road_features_yolo_inference\\a.avi: 480x640 1 Divider, 147.5ms\n",
      "video 1/1 (frame 227/0) E:\\JupyterNotebooks\\Road_problem\\runs\\detect\\road_features_yolo_inference\\a.avi: 480x640 (no detections), 149.0ms\n",
      "video 1/1 (frame 228/0) E:\\JupyterNotebooks\\Road_problem\\runs\\detect\\road_features_yolo_inference\\a.avi: 480x640 1 Plain road, 208.6ms\n",
      "video 1/1 (frame 229/0) E:\\JupyterNotebooks\\Road_problem\\runs\\detect\\road_features_yolo_inference\\a.avi: 480x640 (no detections), 234.8ms\n",
      "video 1/1 (frame 230/0) E:\\JupyterNotebooks\\Road_problem\\runs\\detect\\road_features_yolo_inference\\a.avi: 480x640 1 Plain road, 138.9ms\n",
      "video 1/1 (frame 231/0) E:\\JupyterNotebooks\\Road_problem\\runs\\detect\\road_features_yolo_inference\\a.avi: 480x640 1 Plain road, 241.7ms\n",
      "video 1/1 (frame 232/0) E:\\JupyterNotebooks\\Road_problem\\runs\\detect\\road_features_yolo_inference\\a.avi: 480x640 (no detections), 238.5ms\n",
      "video 1/1 (frame 233/0) E:\\JupyterNotebooks\\Road_problem\\runs\\detect\\road_features_yolo_inference\\a.avi: 480x640 (no detections), 254.1ms\n",
      "video 1/1 (frame 234/0) E:\\JupyterNotebooks\\Road_problem\\runs\\detect\\road_features_yolo_inference\\a.avi: 480x640 (no detections), 148.9ms\n",
      "video 1/1 (frame 235/0) E:\\JupyterNotebooks\\Road_problem\\runs\\detect\\road_features_yolo_inference\\a.avi: 480x640 (no detections), 157.4ms\n",
      "video 1/1 (frame 236/0) E:\\JupyterNotebooks\\Road_problem\\runs\\detect\\road_features_yolo_inference\\a.avi: 480x640 (no detections), 127.3ms\n",
      "video 1/1 (frame 237/0) E:\\JupyterNotebooks\\Road_problem\\runs\\detect\\road_features_yolo_inference\\a.avi: 480x640 (no detections), 226.6ms\n",
      "video 1/1 (frame 238/0) E:\\JupyterNotebooks\\Road_problem\\runs\\detect\\road_features_yolo_inference\\a.avi: 480x640 (no detections), 214.6ms\n",
      "video 1/1 (frame 239/0) E:\\JupyterNotebooks\\Road_problem\\runs\\detect\\road_features_yolo_inference\\a.avi: 480x640 (no detections), 142.5ms\n",
      "video 1/1 (frame 240/0) E:\\JupyterNotebooks\\Road_problem\\runs\\detect\\road_features_yolo_inference\\a.avi: 480x640 (no detections), 164.3ms\n",
      "video 1/1 (frame 241/0) E:\\JupyterNotebooks\\Road_problem\\runs\\detect\\road_features_yolo_inference\\a.avi: 480x640 (no detections), 144.4ms\n",
      "video 1/1 (frame 242/0) E:\\JupyterNotebooks\\Road_problem\\runs\\detect\\road_features_yolo_inference\\a.avi: 480x640 (no detections), 137.7ms\n",
      "video 1/1 (frame 243/0) E:\\JupyterNotebooks\\Road_problem\\runs\\detect\\road_features_yolo_inference\\a.avi: 480x640 (no detections), 172.9ms\n",
      "video 1/1 (frame 244/0) E:\\JupyterNotebooks\\Road_problem\\runs\\detect\\road_features_yolo_inference\\a.avi: 480x640 (no detections), 133.1ms\n",
      "video 1/1 (frame 245/0) E:\\JupyterNotebooks\\Road_problem\\runs\\detect\\road_features_yolo_inference\\a.avi: 480x640 (no detections), 166.4ms\n",
      "video 1/1 (frame 246/0) E:\\JupyterNotebooks\\Road_problem\\runs\\detect\\road_features_yolo_inference\\a.avi: 480x640 (no detections), 229.5ms\n",
      "video 1/1 (frame 247/0) E:\\JupyterNotebooks\\Road_problem\\runs\\detect\\road_features_yolo_inference\\a.avi: 480x640 (no detections), 142.6ms\n",
      "video 1/1 (frame 248/0) E:\\JupyterNotebooks\\Road_problem\\runs\\detect\\road_features_yolo_inference\\a.avi: 480x640 (no detections), 158.1ms\n",
      "video 1/1 (frame 249/0) E:\\JupyterNotebooks\\Road_problem\\runs\\detect\\road_features_yolo_inference\\a.avi: 480x640 (no detections), 211.4ms\n",
      "video 1/1 (frame 250/0) E:\\JupyterNotebooks\\Road_problem\\runs\\detect\\road_features_yolo_inference\\a.avi: 480x640 (no detections), 172.3ms\n",
      "video 1/1 (frame 251/0) E:\\JupyterNotebooks\\Road_problem\\runs\\detect\\road_features_yolo_inference\\a.avi: 480x640 (no detections), 174.2ms\n",
      "video 1/1 (frame 252/0) E:\\JupyterNotebooks\\Road_problem\\runs\\detect\\road_features_yolo_inference\\a.avi: 480x640 (no detections), 166.4ms\n",
      "video 1/1 (frame 253/0) E:\\JupyterNotebooks\\Road_problem\\runs\\detect\\road_features_yolo_inference\\a.avi: 480x640 (no detections), 146.3ms\n",
      "video 1/1 (frame 254/0) E:\\JupyterNotebooks\\Road_problem\\runs\\detect\\road_features_yolo_inference\\a.avi: 480x640 1 Plain road, 179.8ms\n",
      "video 1/1 (frame 255/0) E:\\JupyterNotebooks\\Road_problem\\runs\\detect\\road_features_yolo_inference\\a.avi: 480x640 1 Plain road, 206.6ms\n",
      "video 1/1 (frame 256/0) E:\\JupyterNotebooks\\Road_problem\\runs\\detect\\road_features_yolo_inference\\a.avi: 480x640 1 Plain road, 192.1ms\n",
      "video 1/1 (frame 257/0) E:\\JupyterNotebooks\\Road_problem\\runs\\detect\\road_features_yolo_inference\\a.avi: 480x640 1 Plain road, 189.7ms\n",
      "video 1/1 (frame 258/0) E:\\JupyterNotebooks\\Road_problem\\runs\\detect\\road_features_yolo_inference\\a.avi: 480x640 (no detections), 142.2ms\n",
      "video 1/1 (frame 259/0) E:\\JupyterNotebooks\\Road_problem\\runs\\detect\\road_features_yolo_inference\\a.avi: 480x640 (no detections), 206.3ms\n",
      "video 1/1 (frame 260/0) E:\\JupyterNotebooks\\Road_problem\\runs\\detect\\road_features_yolo_inference\\a.avi: 480x640 (no detections), 148.5ms\n",
      "video 1/1 (frame 261/0) E:\\JupyterNotebooks\\Road_problem\\runs\\detect\\road_features_yolo_inference\\a.avi: 480x640 (no detections), 276.0ms\n",
      "video 1/1 (frame 262/0) E:\\JupyterNotebooks\\Road_problem\\runs\\detect\\road_features_yolo_inference\\a.avi: 480x640 (no detections), 197.4ms\n",
      "video 1/1 (frame 263/0) E:\\JupyterNotebooks\\Road_problem\\runs\\detect\\road_features_yolo_inference\\a.avi: 480x640 (no detections), 181.4ms\n",
      "video 1/1 (frame 264/0) E:\\JupyterNotebooks\\Road_problem\\runs\\detect\\road_features_yolo_inference\\a.avi: 480x640 (no detections), 236.4ms\n",
      "video 1/1 (frame 265/0) E:\\JupyterNotebooks\\Road_problem\\runs\\detect\\road_features_yolo_inference\\a.avi: 480x640 (no detections), 255.5ms\n",
      "video 1/1 (frame 266/0) E:\\JupyterNotebooks\\Road_problem\\runs\\detect\\road_features_yolo_inference\\a.avi: 480x640 (no detections), 242.8ms\n",
      "video 1/1 (frame 267/0) E:\\JupyterNotebooks\\Road_problem\\runs\\detect\\road_features_yolo_inference\\a.avi: 480x640 1 Plain road, 252.6ms\n",
      "video 1/1 (frame 268/0) E:\\JupyterNotebooks\\Road_problem\\runs\\detect\\road_features_yolo_inference\\a.avi: 480x640 1 Plain road, 120.3ms\n",
      "video 1/1 (frame 269/0) E:\\JupyterNotebooks\\Road_problem\\runs\\detect\\road_features_yolo_inference\\a.avi: 480x640 1 Plain road, 152.8ms\n",
      "video 1/1 (frame 270/0) E:\\JupyterNotebooks\\Road_problem\\runs\\detect\\road_features_yolo_inference\\a.avi: 480x640 1 Plain road, 277.0ms\n",
      "video 1/1 (frame 271/0) E:\\JupyterNotebooks\\Road_problem\\runs\\detect\\road_features_yolo_inference\\a.avi: 480x640 (no detections), 193.7ms\n",
      "video 1/1 (frame 272/0) E:\\JupyterNotebooks\\Road_problem\\runs\\detect\\road_features_yolo_inference\\a.avi: 480x640 1 Plain road, 218.4ms\n",
      "video 1/1 (frame 273/0) E:\\JupyterNotebooks\\Road_problem\\runs\\detect\\road_features_yolo_inference\\a.avi: 480x640 1 Plain road, 263.6ms\n",
      "video 1/1 (frame 274/0) E:\\JupyterNotebooks\\Road_problem\\runs\\detect\\road_features_yolo_inference\\a.avi: 480x640 1 Plain road, 244.5ms\n",
      "video 1/1 (frame 275/0) E:\\JupyterNotebooks\\Road_problem\\runs\\detect\\road_features_yolo_inference\\a.avi: 480x640 (no detections), 252.3ms\n",
      "video 1/1 (frame 276/0) E:\\JupyterNotebooks\\Road_problem\\runs\\detect\\road_features_yolo_inference\\a.avi: 480x640 (no detections), 244.0ms\n",
      "video 1/1 (frame 277/0) E:\\JupyterNotebooks\\Road_problem\\runs\\detect\\road_features_yolo_inference\\a.avi: 480x640 (no detections), 265.2ms\n",
      "video 1/1 (frame 278/0) E:\\JupyterNotebooks\\Road_problem\\runs\\detect\\road_features_yolo_inference\\a.avi: 480x640 (no detections), 234.3ms\n",
      "video 1/1 (frame 279/0) E:\\JupyterNotebooks\\Road_problem\\runs\\detect\\road_features_yolo_inference\\a.avi: 480x640 (no detections), 241.1ms\n",
      "video 1/1 (frame 280/0) E:\\JupyterNotebooks\\Road_problem\\runs\\detect\\road_features_yolo_inference\\a.avi: 480x640 1 Plain road, 254.6ms\n",
      "video 1/1 (frame 281/0) E:\\JupyterNotebooks\\Road_problem\\runs\\detect\\road_features_yolo_inference\\a.avi: 480x640 1 Plain road, 255.0ms\n",
      "video 1/1 (frame 282/0) E:\\JupyterNotebooks\\Road_problem\\runs\\detect\\road_features_yolo_inference\\a.avi: 480x640 1 Plain road, 250.3ms\n",
      "video 1/1 (frame 283/0) E:\\JupyterNotebooks\\Road_problem\\runs\\detect\\road_features_yolo_inference\\a.avi: 480x640 1 Plain road, 244.1ms\n",
      "video 1/1 (frame 284/0) E:\\JupyterNotebooks\\Road_problem\\runs\\detect\\road_features_yolo_inference\\a.avi: 480x640 (no detections), 252.4ms\n",
      "video 1/1 (frame 285/0) E:\\JupyterNotebooks\\Road_problem\\runs\\detect\\road_features_yolo_inference\\a.avi: 480x640 (no detections), 254.6ms\n",
      "video 1/1 (frame 286/0) E:\\JupyterNotebooks\\Road_problem\\runs\\detect\\road_features_yolo_inference\\a.avi: 480x640 (no detections), 230.5ms\n",
      "video 1/1 (frame 287/0) E:\\JupyterNotebooks\\Road_problem\\runs\\detect\\road_features_yolo_inference\\a.avi: 480x640 (no detections), 232.6ms\n",
      "video 1/1 (frame 288/0) E:\\JupyterNotebooks\\Road_problem\\runs\\detect\\road_features_yolo_inference\\a.avi: 480x640 (no detections), 224.5ms\n",
      "video 1/1 (frame 289/0) E:\\JupyterNotebooks\\Road_problem\\runs\\detect\\road_features_yolo_inference\\a.avi: 480x640 (no detections), 272.8ms\n",
      "video 1/1 (frame 290/0) E:\\JupyterNotebooks\\Road_problem\\runs\\detect\\road_features_yolo_inference\\a.avi: 480x640 (no detections), 225.9ms\n",
      "video 1/1 (frame 291/0) E:\\JupyterNotebooks\\Road_problem\\runs\\detect\\road_features_yolo_inference\\a.avi: 480x640 (no detections), 176.0ms\n",
      "video 1/1 (frame 292/0) E:\\JupyterNotebooks\\Road_problem\\runs\\detect\\road_features_yolo_inference\\a.avi: 480x640 (no detections), 255.2ms\n",
      "video 1/1 (frame 293/0) E:\\JupyterNotebooks\\Road_problem\\runs\\detect\\road_features_yolo_inference\\a.avi: 480x640 (no detections), 263.8ms\n",
      "video 1/1 (frame 294/0) E:\\JupyterNotebooks\\Road_problem\\runs\\detect\\road_features_yolo_inference\\a.avi: 480x640 (no detections), 174.2ms\n",
      "video 1/1 (frame 295/0) E:\\JupyterNotebooks\\Road_problem\\runs\\detect\\road_features_yolo_inference\\a.avi: 480x640 (no detections), 245.9ms\n",
      "video 1/1 (frame 296/0) E:\\JupyterNotebooks\\Road_problem\\runs\\detect\\road_features_yolo_inference\\a.avi: 480x640 (no detections), 249.5ms\n",
      "video 1/1 (frame 297/0) E:\\JupyterNotebooks\\Road_problem\\runs\\detect\\road_features_yolo_inference\\a.avi: 480x640 (no detections), 259.7ms\n",
      "video 1/1 (frame 298/0) E:\\JupyterNotebooks\\Road_problem\\runs\\detect\\road_features_yolo_inference\\a.avi: 480x640 (no detections), 275.6ms\n",
      "video 1/1 (frame 299/0) E:\\JupyterNotebooks\\Road_problem\\runs\\detect\\road_features_yolo_inference\\a.avi: 480x640 (no detections), 263.5ms\n",
      "video 1/1 (frame 300/0) E:\\JupyterNotebooks\\Road_problem\\runs\\detect\\road_features_yolo_inference\\a.avi: 480x640 (no detections), 261.8ms\n",
      "video 1/1 (frame 301/0) E:\\JupyterNotebooks\\Road_problem\\runs\\detect\\road_features_yolo_inference\\a.avi: 480x640 (no detections), 248.8ms\n",
      "video 1/1 (frame 302/0) E:\\JupyterNotebooks\\Road_problem\\runs\\detect\\road_features_yolo_inference\\a.avi: 480x640 (no detections), 233.1ms\n",
      "video 1/1 (frame 303/0) E:\\JupyterNotebooks\\Road_problem\\runs\\detect\\road_features_yolo_inference\\a.avi: 480x640 (no detections), 250.3ms\n",
      "video 1/1 (frame 304/0) E:\\JupyterNotebooks\\Road_problem\\runs\\detect\\road_features_yolo_inference\\a.avi: 480x640 (no detections), 251.2ms\n",
      "video 1/1 (frame 305/0) E:\\JupyterNotebooks\\Road_problem\\runs\\detect\\road_features_yolo_inference\\a.avi: 480x640 (no detections), 155.2ms\n",
      "video 1/1 (frame 306/0) E:\\JupyterNotebooks\\Road_problem\\runs\\detect\\road_features_yolo_inference\\a.avi: 480x640 1 Plain road, 180.5ms\n",
      "video 1/1 (frame 307/0) E:\\JupyterNotebooks\\Road_problem\\runs\\detect\\road_features_yolo_inference\\a.avi: 480x640 1 Plain road, 142.1ms\n",
      "video 1/1 (frame 308/0) E:\\JupyterNotebooks\\Road_problem\\runs\\detect\\road_features_yolo_inference\\a.avi: 480x640 1 Plain road, 249.1ms\n",
      "video 1/1 (frame 309/0) E:\\JupyterNotebooks\\Road_problem\\runs\\detect\\road_features_yolo_inference\\a.avi: 480x640 1 Plain road, 223.2ms\n",
      "video 1/1 (frame 310/0) E:\\JupyterNotebooks\\Road_problem\\runs\\detect\\road_features_yolo_inference\\a.avi: 480x640 (no detections), 249.8ms\n",
      "video 1/1 (frame 311/0) E:\\JupyterNotebooks\\Road_problem\\runs\\detect\\road_features_yolo_inference\\a.avi: 480x640 (no detections), 251.4ms\n",
      "video 1/1 (frame 312/0) E:\\JupyterNotebooks\\Road_problem\\runs\\detect\\road_features_yolo_inference\\a.avi: 480x640 (no detections), 247.7ms\n",
      "video 1/1 (frame 313/0) E:\\JupyterNotebooks\\Road_problem\\runs\\detect\\road_features_yolo_inference\\a.avi: 480x640 (no detections), 125.7ms\n",
      "video 1/1 (frame 314/0) E:\\JupyterNotebooks\\Road_problem\\runs\\detect\\road_features_yolo_inference\\a.avi: 480x640 (no detections), 215.8ms\n",
      "video 1/1 (frame 315/0) E:\\JupyterNotebooks\\Road_problem\\runs\\detect\\road_features_yolo_inference\\a.avi: 480x640 (no detections), 194.1ms\n",
      "video 1/1 (frame 316/0) E:\\JupyterNotebooks\\Road_problem\\runs\\detect\\road_features_yolo_inference\\a.avi: 480x640 (no detections), 262.8ms\n",
      "video 1/1 (frame 317/0) E:\\JupyterNotebooks\\Road_problem\\runs\\detect\\road_features_yolo_inference\\a.avi: 480x640 (no detections), 244.8ms\n",
      "video 1/1 (frame 318/0) E:\\JupyterNotebooks\\Road_problem\\runs\\detect\\road_features_yolo_inference\\a.avi: 480x640 (no detections), 246.1ms\n",
      "video 1/1 (frame 319/0) E:\\JupyterNotebooks\\Road_problem\\runs\\detect\\road_features_yolo_inference\\a.avi: 480x640 (no detections), 253.6ms\n",
      "video 1/1 (frame 320/0) E:\\JupyterNotebooks\\Road_problem\\runs\\detect\\road_features_yolo_inference\\a.avi: 480x640 (no detections), 253.2ms\n",
      "video 1/1 (frame 321/0) E:\\JupyterNotebooks\\Road_problem\\runs\\detect\\road_features_yolo_inference\\a.avi: 480x640 (no detections), 233.9ms\n",
      "video 1/1 (frame 322/0) E:\\JupyterNotebooks\\Road_problem\\runs\\detect\\road_features_yolo_inference\\a.avi: 480x640 (no detections), 209.9ms\n",
      "video 1/1 (frame 323/0) E:\\JupyterNotebooks\\Road_problem\\runs\\detect\\road_features_yolo_inference\\a.avi: 480x640 (no detections), 104.4ms\n",
      "video 1/1 (frame 324/0) E:\\JupyterNotebooks\\Road_problem\\runs\\detect\\road_features_yolo_inference\\a.avi: 480x640 1 Plain road, 265.8ms\n",
      "video 1/1 (frame 325/0) E:\\JupyterNotebooks\\Road_problem\\runs\\detect\\road_features_yolo_inference\\a.avi: 480x640 (no detections), 364.0ms\n",
      "video 1/1 (frame 326/0) E:\\JupyterNotebooks\\Road_problem\\runs\\detect\\road_features_yolo_inference\\a.avi: 480x640 (no detections), 253.3ms\n",
      "video 1/1 (frame 327/0) E:\\JupyterNotebooks\\Road_problem\\runs\\detect\\road_features_yolo_inference\\a.avi: 480x640 (no detections), 257.7ms\n",
      "video 1/1 (frame 328/0) E:\\JupyterNotebooks\\Road_problem\\runs\\detect\\road_features_yolo_inference\\a.avi: 480x640 (no detections), 258.9ms\n",
      "video 1/1 (frame 329/0) E:\\JupyterNotebooks\\Road_problem\\runs\\detect\\road_features_yolo_inference\\a.avi: 480x640 (no detections), 254.6ms\n",
      "video 1/1 (frame 330/0) E:\\JupyterNotebooks\\Road_problem\\runs\\detect\\road_features_yolo_inference\\a.avi: 480x640 (no detections), 248.9ms\n",
      "video 1/1 (frame 331/0) E:\\JupyterNotebooks\\Road_problem\\runs\\detect\\road_features_yolo_inference\\a.avi: 480x640 1 Divider, 257.9ms\n",
      "video 1/1 (frame 332/0) E:\\JupyterNotebooks\\Road_problem\\runs\\detect\\road_features_yolo_inference\\a.avi: 480x640 1 Divider, 252.0ms\n",
      "video 1/1 (frame 333/0) E:\\JupyterNotebooks\\Road_problem\\runs\\detect\\road_features_yolo_inference\\a.avi: 480x640 1 Divider, 54.0ms\n",
      "video 1/1 (frame 334/0) E:\\JupyterNotebooks\\Road_problem\\runs\\detect\\road_features_yolo_inference\\a.avi: 480x640 1 Divider, 154.3ms\n",
      "video 1/1 (frame 335/0) E:\\JupyterNotebooks\\Road_problem\\runs\\detect\\road_features_yolo_inference\\a.avi: 480x640 1 Divider, 244.6ms\n",
      "video 1/1 (frame 336/0) E:\\JupyterNotebooks\\Road_problem\\runs\\detect\\road_features_yolo_inference\\a.avi: 480x640 1 Divider, 247.8ms\n",
      "video 1/1 (frame 337/0) E:\\JupyterNotebooks\\Road_problem\\runs\\detect\\road_features_yolo_inference\\a.avi: 480x640 (no detections), 252.3ms\n",
      "video 1/1 (frame 338/0) E:\\JupyterNotebooks\\Road_problem\\runs\\detect\\road_features_yolo_inference\\a.avi: 480x640 (no detections), 251.8ms\n",
      "video 1/1 (frame 339/0) E:\\JupyterNotebooks\\Road_problem\\runs\\detect\\road_features_yolo_inference\\a.avi: 480x640 (no detections), 212.6ms\n",
      "video 1/1 (frame 340/0) E:\\JupyterNotebooks\\Road_problem\\runs\\detect\\road_features_yolo_inference\\a.avi: 480x640 (no detections), 159.1ms\n",
      "video 1/1 (frame 341/0) E:\\JupyterNotebooks\\Road_problem\\runs\\detect\\road_features_yolo_inference\\a.avi: 480x640 (no detections), 255.3ms\n",
      "video 1/1 (frame 342/0) E:\\JupyterNotebooks\\Road_problem\\runs\\detect\\road_features_yolo_inference\\a.avi: 480x640 (no detections), 207.8ms\n",
      "video 1/1 (frame 343/0) E:\\JupyterNotebooks\\Road_problem\\runs\\detect\\road_features_yolo_inference\\a.avi: 480x640 (no detections), 231.2ms\n",
      "video 1/1 (frame 344/0) E:\\JupyterNotebooks\\Road_problem\\runs\\detect\\road_features_yolo_inference\\a.avi: 480x640 (no detections), 260.9ms\n",
      "video 1/1 (frame 345/0) E:\\JupyterNotebooks\\Road_problem\\runs\\detect\\road_features_yolo_inference\\a.avi: 480x640 (no detections), 212.0ms\n",
      "video 1/1 (frame 346/0) E:\\JupyterNotebooks\\Road_problem\\runs\\detect\\road_features_yolo_inference\\a.avi: 480x640 (no detections), 160.8ms\n",
      "video 1/1 (frame 347/0) E:\\JupyterNotebooks\\Road_problem\\runs\\detect\\road_features_yolo_inference\\a.avi: 480x640 (no detections), 257.2ms\n",
      "video 1/1 (frame 348/0) E:\\JupyterNotebooks\\Road_problem\\runs\\detect\\road_features_yolo_inference\\a.avi: 480x640 (no detections), 242.9ms\n",
      "video 1/1 (frame 349/0) E:\\JupyterNotebooks\\Road_problem\\runs\\detect\\road_features_yolo_inference\\a.avi: 480x640 1 Plain road, 233.3ms\n",
      "video 1/1 (frame 350/0) E:\\JupyterNotebooks\\Road_problem\\runs\\detect\\road_features_yolo_inference\\a.avi: 480x640 (no detections), 165.1ms\n",
      "video 1/1 (frame 351/0) E:\\JupyterNotebooks\\Road_problem\\runs\\detect\\road_features_yolo_inference\\a.avi: 480x640 1 Plain road, 253.5ms\n",
      "video 1/1 (frame 352/0) E:\\JupyterNotebooks\\Road_problem\\runs\\detect\\road_features_yolo_inference\\a.avi: 480x640 (no detections), 255.3ms\n",
      "video 1/1 (frame 353/0) E:\\JupyterNotebooks\\Road_problem\\runs\\detect\\road_features_yolo_inference\\a.avi: 480x640 1 Plain road, 207.6ms\n",
      "video 1/1 (frame 354/0) E:\\JupyterNotebooks\\Road_problem\\runs\\detect\\road_features_yolo_inference\\a.avi: 480x640 1 Plain road, 156.9ms\n",
      "video 1/1 (frame 355/0) E:\\JupyterNotebooks\\Road_problem\\runs\\detect\\road_features_yolo_inference\\a.avi: 480x640 1 Plain road, 231.5ms\n",
      "video 1/1 (frame 356/0) E:\\JupyterNotebooks\\Road_problem\\runs\\detect\\road_features_yolo_inference\\a.avi: 480x640 1 Plain road, 154.5ms\n",
      "video 1/1 (frame 357/0) E:\\JupyterNotebooks\\Road_problem\\runs\\detect\\road_features_yolo_inference\\a.avi: 480x640 1 Plain road, 250.6ms\n",
      "video 1/1 (frame 358/0) E:\\JupyterNotebooks\\Road_problem\\runs\\detect\\road_features_yolo_inference\\a.avi: 480x640 1 Plain road, 234.0ms\n",
      "video 1/1 (frame 359/0) E:\\JupyterNotebooks\\Road_problem\\runs\\detect\\road_features_yolo_inference\\a.avi: 480x640 1 Plain road, 222.2ms\n",
      "video 1/1 (frame 360/0) E:\\JupyterNotebooks\\Road_problem\\runs\\detect\\road_features_yolo_inference\\a.avi: 480x640 1 Plain road, 216.1ms\n",
      "video 1/1 (frame 361/0) E:\\JupyterNotebooks\\Road_problem\\runs\\detect\\road_features_yolo_inference\\a.avi: 480x640 1 Plain road, 263.8ms\n",
      "video 1/1 (frame 362/0) E:\\JupyterNotebooks\\Road_problem\\runs\\detect\\road_features_yolo_inference\\a.avi: 480x640 1 Plain road, 179.7ms\n",
      "video 1/1 (frame 363/0) E:\\JupyterNotebooks\\Road_problem\\runs\\detect\\road_features_yolo_inference\\a.avi: 480x640 1 Plain road, 243.5ms\n",
      "video 1/1 (frame 364/0) E:\\JupyterNotebooks\\Road_problem\\runs\\detect\\road_features_yolo_inference\\a.avi: 480x640 1 Plain road, 196.2ms\n",
      "video 1/1 (frame 365/0) E:\\JupyterNotebooks\\Road_problem\\runs\\detect\\road_features_yolo_inference\\a.avi: 480x640 1 Plain road, 156.8ms\n",
      "video 1/1 (frame 366/0) E:\\JupyterNotebooks\\Road_problem\\runs\\detect\\road_features_yolo_inference\\a.avi: 480x640 1 Plain road, 274.7ms\n",
      "video 1/1 (frame 367/0) E:\\JupyterNotebooks\\Road_problem\\runs\\detect\\road_features_yolo_inference\\a.avi: 480x640 (no detections), 223.0ms\n",
      "video 1/1 (frame 368/0) E:\\JupyterNotebooks\\Road_problem\\runs\\detect\\road_features_yolo_inference\\a.avi: 480x640 1 Plain road, 172.0ms\n",
      "video 1/1 (frame 369/0) E:\\JupyterNotebooks\\Road_problem\\runs\\detect\\road_features_yolo_inference\\a.avi: 480x640 1 Plain road, 185.0ms\n",
      "video 1/1 (frame 370/0) E:\\JupyterNotebooks\\Road_problem\\runs\\detect\\road_features_yolo_inference\\a.avi: 480x640 1 Plain road, 207.7ms\n",
      "video 1/1 (frame 371/0) E:\\JupyterNotebooks\\Road_problem\\runs\\detect\\road_features_yolo_inference\\a.avi: 480x640 1 Plain road, 204.5ms\n",
      "video 1/1 (frame 372/0) E:\\JupyterNotebooks\\Road_problem\\runs\\detect\\road_features_yolo_inference\\a.avi: 480x640 1 Plain road, 166.8ms\n",
      "video 1/1 (frame 373/0) E:\\JupyterNotebooks\\Road_problem\\runs\\detect\\road_features_yolo_inference\\a.avi: 480x640 (no detections), 216.0ms\n",
      "video 1/1 (frame 374/0) E:\\JupyterNotebooks\\Road_problem\\runs\\detect\\road_features_yolo_inference\\a.avi: 480x640 (no detections), 209.4ms\n",
      "video 1/1 (frame 375/0) E:\\JupyterNotebooks\\Road_problem\\runs\\detect\\road_features_yolo_inference\\a.avi: 480x640 1 Plain road, 126.7ms\n",
      "video 1/1 (frame 376/0) E:\\JupyterNotebooks\\Road_problem\\runs\\detect\\road_features_yolo_inference\\a.avi: 480x640 (no detections), 256.2ms\n",
      "video 1/1 (frame 377/0) E:\\JupyterNotebooks\\Road_problem\\runs\\detect\\road_features_yolo_inference\\a.avi: 480x640 1 Plain road, 216.3ms\n",
      "video 1/1 (frame 378/0) E:\\JupyterNotebooks\\Road_problem\\runs\\detect\\road_features_yolo_inference\\a.avi: 480x640 (no detections), 247.0ms\n",
      "video 1/1 (frame 379/0) E:\\JupyterNotebooks\\Road_problem\\runs\\detect\\road_features_yolo_inference\\a.avi: 480x640 (no detections), 256.4ms\n",
      "video 1/1 (frame 380/0) E:\\JupyterNotebooks\\Road_problem\\runs\\detect\\road_features_yolo_inference\\a.avi: 480x640 (no detections), 252.0ms\n",
      "video 1/1 (frame 381/0) E:\\JupyterNotebooks\\Road_problem\\runs\\detect\\road_features_yolo_inference\\a.avi: 480x640 (no detections), 137.4ms\n",
      "video 1/1 (frame 382/0) E:\\JupyterNotebooks\\Road_problem\\runs\\detect\\road_features_yolo_inference\\a.avi: 480x640 (no detections), 241.6ms\n",
      "video 1/1 (frame 383/0) E:\\JupyterNotebooks\\Road_problem\\runs\\detect\\road_features_yolo_inference\\a.avi: 480x640 (no detections), 166.5ms\n",
      "video 1/1 (frame 384/0) E:\\JupyterNotebooks\\Road_problem\\runs\\detect\\road_features_yolo_inference\\a.avi: 480x640 (no detections), 241.9ms\n",
      "video 1/1 (frame 385/0) E:\\JupyterNotebooks\\Road_problem\\runs\\detect\\road_features_yolo_inference\\a.avi: 480x640 (no detections), 247.1ms\n",
      "video 1/1 (frame 386/0) E:\\JupyterNotebooks\\Road_problem\\runs\\detect\\road_features_yolo_inference\\a.avi: 480x640 (no detections), 120.4ms\n",
      "video 1/1 (frame 387/0) E:\\JupyterNotebooks\\Road_problem\\runs\\detect\\road_features_yolo_inference\\a.avi: 480x640 (no detections), 190.0ms\n",
      "video 1/1 (frame 388/0) E:\\JupyterNotebooks\\Road_problem\\runs\\detect\\road_features_yolo_inference\\a.avi: 480x640 (no detections), 250.7ms\n",
      "video 1/1 (frame 389/0) E:\\JupyterNotebooks\\Road_problem\\runs\\detect\\road_features_yolo_inference\\a.avi: 480x640 (no detections), 264.1ms\n",
      "video 1/1 (frame 390/0) E:\\JupyterNotebooks\\Road_problem\\runs\\detect\\road_features_yolo_inference\\a.avi: 480x640 (no detections), 232.1ms\n",
      "video 1/1 (frame 391/0) E:\\JupyterNotebooks\\Road_problem\\runs\\detect\\road_features_yolo_inference\\a.avi: 480x640 (no detections), 250.9ms\n",
      "video 1/1 (frame 392/0) E:\\JupyterNotebooks\\Road_problem\\runs\\detect\\road_features_yolo_inference\\a.avi: 480x640 (no detections), 212.5ms\n",
      "video 1/1 (frame 393/0) E:\\JupyterNotebooks\\Road_problem\\runs\\detect\\road_features_yolo_inference\\a.avi: 480x640 (no detections), 225.6ms\n",
      "video 1/1 (frame 394/0) E:\\JupyterNotebooks\\Road_problem\\runs\\detect\\road_features_yolo_inference\\a.avi: 480x640 (no detections), 128.0ms\n",
      "video 1/1 (frame 395/0) E:\\JupyterNotebooks\\Road_problem\\runs\\detect\\road_features_yolo_inference\\a.avi: 480x640 (no detections), 161.0ms\n",
      "video 1/1 (frame 396/0) E:\\JupyterNotebooks\\Road_problem\\runs\\detect\\road_features_yolo_inference\\a.avi: 480x640 (no detections), 264.2ms\n",
      "video 1/1 (frame 397/0) E:\\JupyterNotebooks\\Road_problem\\runs\\detect\\road_features_yolo_inference\\a.avi: 480x640 (no detections), 172.9ms\n",
      "video 1/1 (frame 398/0) E:\\JupyterNotebooks\\Road_problem\\runs\\detect\\road_features_yolo_inference\\a.avi: 480x640 (no detections), 142.5ms\n",
      "video 1/1 (frame 399/0) E:\\JupyterNotebooks\\Road_problem\\runs\\detect\\road_features_yolo_inference\\a.avi: 480x640 (no detections), 125.9ms\n",
      "video 1/1 (frame 400/0) E:\\JupyterNotebooks\\Road_problem\\runs\\detect\\road_features_yolo_inference\\a.avi: 480x640 (no detections), 165.6ms\n",
      "video 1/1 (frame 401/0) E:\\JupyterNotebooks\\Road_problem\\runs\\detect\\road_features_yolo_inference\\a.avi: 480x640 (no detections), 160.8ms\n",
      "video 1/1 (frame 402/0) E:\\JupyterNotebooks\\Road_problem\\runs\\detect\\road_features_yolo_inference\\a.avi: 480x640 (no detections), 148.5ms\n",
      "video 1/1 (frame 403/0) E:\\JupyterNotebooks\\Road_problem\\runs\\detect\\road_features_yolo_inference\\a.avi: 480x640 (no detections), 151.3ms\n",
      "video 1/1 (frame 404/0) E:\\JupyterNotebooks\\Road_problem\\runs\\detect\\road_features_yolo_inference\\a.avi: 480x640 (no detections), 241.9ms\n",
      "video 1/1 (frame 405/0) E:\\JupyterNotebooks\\Road_problem\\runs\\detect\\road_features_yolo_inference\\a.avi: 480x640 (no detections), 255.2ms\n",
      "video 1/1 (frame 406/0) E:\\JupyterNotebooks\\Road_problem\\runs\\detect\\road_features_yolo_inference\\a.avi: 480x640 1 Plain road, 163.3ms\n",
      "video 1/1 (frame 407/0) E:\\JupyterNotebooks\\Road_problem\\runs\\detect\\road_features_yolo_inference\\a.avi: 480x640 1 Plain road, 266.1ms\n",
      "video 1/1 (frame 408/0) E:\\JupyterNotebooks\\Road_problem\\runs\\detect\\road_features_yolo_inference\\a.avi: 480x640 1 Plain road, 229.0ms\n",
      "video 1/1 (frame 409/0) E:\\JupyterNotebooks\\Road_problem\\runs\\detect\\road_features_yolo_inference\\a.avi: 480x640 1 Plain road, 119.3ms\n",
      "video 1/1 (frame 410/0) E:\\JupyterNotebooks\\Road_problem\\runs\\detect\\road_features_yolo_inference\\a.avi: 480x640 1 Plain road, 162.5ms\n",
      "video 1/1 (frame 411/0) E:\\JupyterNotebooks\\Road_problem\\runs\\detect\\road_features_yolo_inference\\a.avi: 480x640 1 Plain road, 196.6ms\n",
      "video 1/1 (frame 412/0) E:\\JupyterNotebooks\\Road_problem\\runs\\detect\\road_features_yolo_inference\\a.avi: 480x640 1 Plain road, 228.4ms\n",
      "video 1/1 (frame 413/0) E:\\JupyterNotebooks\\Road_problem\\runs\\detect\\road_features_yolo_inference\\a.avi: 480x640 1 Plain road, 164.9ms\n",
      "video 1/1 (frame 414/0) E:\\JupyterNotebooks\\Road_problem\\runs\\detect\\road_features_yolo_inference\\a.avi: 480x640 (no detections), 155.7ms\n",
      "video 1/1 (frame 415/0) E:\\JupyterNotebooks\\Road_problem\\runs\\detect\\road_features_yolo_inference\\a.avi: 480x640 (no detections), 220.8ms\n",
      "video 1/1 (frame 416/0) E:\\JupyterNotebooks\\Road_problem\\runs\\detect\\road_features_yolo_inference\\a.avi: 480x640 (no detections), 197.2ms\n",
      "video 1/1 (frame 417/0) E:\\JupyterNotebooks\\Road_problem\\runs\\detect\\road_features_yolo_inference\\a.avi: 480x640 (no detections), 204.5ms\n",
      "video 1/1 (frame 418/0) E:\\JupyterNotebooks\\Road_problem\\runs\\detect\\road_features_yolo_inference\\a.avi: 480x640 (no detections), 228.7ms\n",
      "video 1/1 (frame 419/0) E:\\JupyterNotebooks\\Road_problem\\runs\\detect\\road_features_yolo_inference\\a.avi: 480x640 (no detections), 256.9ms\n",
      "video 1/1 (frame 420/0) E:\\JupyterNotebooks\\Road_problem\\runs\\detect\\road_features_yolo_inference\\a.avi: 480x640 (no detections), 172.7ms\n",
      "video 1/1 (frame 421/0) E:\\JupyterNotebooks\\Road_problem\\runs\\detect\\road_features_yolo_inference\\a.avi: 480x640 (no detections), 248.7ms\n",
      "video 1/1 (frame 422/0) E:\\JupyterNotebooks\\Road_problem\\runs\\detect\\road_features_yolo_inference\\a.avi: 480x640 (no detections), 249.2ms\n",
      "video 1/1 (frame 423/0) E:\\JupyterNotebooks\\Road_problem\\runs\\detect\\road_features_yolo_inference\\a.avi: 480x640 (no detections), 252.7ms\n",
      "video 1/1 (frame 424/0) E:\\JupyterNotebooks\\Road_problem\\runs\\detect\\road_features_yolo_inference\\a.avi: 480x640 (no detections), 194.0ms\n",
      "video 1/1 (frame 425/0) E:\\JupyterNotebooks\\Road_problem\\runs\\detect\\road_features_yolo_inference\\a.avi: 480x640 (no detections), 243.7ms\n",
      "video 1/1 (frame 426/0) E:\\JupyterNotebooks\\Road_problem\\runs\\detect\\road_features_yolo_inference\\a.avi: 480x640 (no detections), 252.0ms\n",
      "video 1/1 (frame 427/0) E:\\JupyterNotebooks\\Road_problem\\runs\\detect\\road_features_yolo_inference\\a.avi: 480x640 (no detections), 287.1ms\n",
      "video 1/1 (frame 428/0) E:\\JupyterNotebooks\\Road_problem\\runs\\detect\\road_features_yolo_inference\\a.avi: 480x640 (no detections), 205.4ms\n",
      "video 1/1 (frame 429/0) E:\\JupyterNotebooks\\Road_problem\\runs\\detect\\road_features_yolo_inference\\a.avi: 480x640 (no detections), 221.5ms\n",
      "video 1/1 (frame 430/0) E:\\JupyterNotebooks\\Road_problem\\runs\\detect\\road_features_yolo_inference\\a.avi: 480x640 (no detections), 232.9ms\n",
      "video 1/1 (frame 431/0) E:\\JupyterNotebooks\\Road_problem\\runs\\detect\\road_features_yolo_inference\\a.avi: 480x640 (no detections), 253.2ms\n",
      "video 1/1 (frame 432/0) E:\\JupyterNotebooks\\Road_problem\\runs\\detect\\road_features_yolo_inference\\a.avi: 480x640 (no detections), 244.2ms\n",
      "video 1/1 (frame 433/0) E:\\JupyterNotebooks\\Road_problem\\runs\\detect\\road_features_yolo_inference\\a.avi: 480x640 (no detections), 248.8ms\n",
      "video 1/1 (frame 434/0) E:\\JupyterNotebooks\\Road_problem\\runs\\detect\\road_features_yolo_inference\\a.avi: 480x640 (no detections), 265.1ms\n",
      "video 1/1 (frame 435/0) E:\\JupyterNotebooks\\Road_problem\\runs\\detect\\road_features_yolo_inference\\a.avi: 480x640 (no detections), 261.4ms\n",
      "video 1/1 (frame 436/0) E:\\JupyterNotebooks\\Road_problem\\runs\\detect\\road_features_yolo_inference\\a.avi: 480x640 (no detections), 250.3ms\n",
      "video 1/1 (frame 437/0) E:\\JupyterNotebooks\\Road_problem\\runs\\detect\\road_features_yolo_inference\\a.avi: 480x640 (no detections), 150.5ms\n",
      "video 1/1 (frame 438/0) E:\\JupyterNotebooks\\Road_problem\\runs\\detect\\road_features_yolo_inference\\a.avi: 480x640 (no detections), 163.6ms\n",
      "video 1/1 (frame 439/0) E:\\JupyterNotebooks\\Road_problem\\runs\\detect\\road_features_yolo_inference\\a.avi: 480x640 (no detections), 241.8ms\n",
      "video 1/1 (frame 440/0) E:\\JupyterNotebooks\\Road_problem\\runs\\detect\\road_features_yolo_inference\\a.avi: 480x640 (no detections), 283.7ms\n",
      "video 1/1 (frame 441/0) E:\\JupyterNotebooks\\Road_problem\\runs\\detect\\road_features_yolo_inference\\a.avi: 480x640 (no detections), 169.6ms\n",
      "video 1/1 (frame 442/0) E:\\JupyterNotebooks\\Road_problem\\runs\\detect\\road_features_yolo_inference\\a.avi: 480x640 (no detections), 257.4ms\n",
      "video 1/1 (frame 443/0) E:\\JupyterNotebooks\\Road_problem\\runs\\detect\\road_features_yolo_inference\\a.avi: 480x640 (no detections), 251.8ms\n",
      "video 1/1 (frame 444/0) E:\\JupyterNotebooks\\Road_problem\\runs\\detect\\road_features_yolo_inference\\a.avi: 480x640 (no detections), 245.0ms\n",
      "video 1/1 (frame 445/0) E:\\JupyterNotebooks\\Road_problem\\runs\\detect\\road_features_yolo_inference\\a.avi: 480x640 (no detections), 251.2ms\n",
      "video 1/1 (frame 446/0) E:\\JupyterNotebooks\\Road_problem\\runs\\detect\\road_features_yolo_inference\\a.avi: 480x640 (no detections), 272.7ms\n",
      "video 1/1 (frame 447/0) E:\\JupyterNotebooks\\Road_problem\\runs\\detect\\road_features_yolo_inference\\a.avi: 480x640 (no detections), 144.1ms\n",
      "video 1/1 (frame 448/0) E:\\JupyterNotebooks\\Road_problem\\runs\\detect\\road_features_yolo_inference\\a.avi: 480x640 (no detections), 247.2ms\n",
      "video 1/1 (frame 449/0) E:\\JupyterNotebooks\\Road_problem\\runs\\detect\\road_features_yolo_inference\\a.avi: 480x640 (no detections), 274.9ms\n",
      "video 1/1 (frame 450/0) E:\\JupyterNotebooks\\Road_problem\\runs\\detect\\road_features_yolo_inference\\a.avi: 480x640 (no detections), 217.4ms\n",
      "video 1/1 (frame 451/0) E:\\JupyterNotebooks\\Road_problem\\runs\\detect\\road_features_yolo_inference\\a.avi: 480x640 (no detections), 198.6ms\n",
      "video 1/1 (frame 452/0) E:\\JupyterNotebooks\\Road_problem\\runs\\detect\\road_features_yolo_inference\\a.avi: 480x640 (no detections), 254.8ms\n",
      "video 1/1 (frame 453/0) E:\\JupyterNotebooks\\Road_problem\\runs\\detect\\road_features_yolo_inference\\a.avi: 480x640 (no detections), 243.4ms\n",
      "video 1/1 (frame 454/0) E:\\JupyterNotebooks\\Road_problem\\runs\\detect\\road_features_yolo_inference\\a.avi: 480x640 (no detections), 240.7ms\n",
      "video 1/1 (frame 455/0) E:\\JupyterNotebooks\\Road_problem\\runs\\detect\\road_features_yolo_inference\\a.avi: 480x640 (no detections), 232.0ms\n",
      "video 1/1 (frame 456/0) E:\\JupyterNotebooks\\Road_problem\\runs\\detect\\road_features_yolo_inference\\a.avi: 480x640 (no detections), 116.9ms\n",
      "video 1/1 (frame 457/0) E:\\JupyterNotebooks\\Road_problem\\runs\\detect\\road_features_yolo_inference\\a.avi: 480x640 (no detections), 153.9ms\n",
      "video 1/1 (frame 458/0) E:\\JupyterNotebooks\\Road_problem\\runs\\detect\\road_features_yolo_inference\\a.avi: 480x640 (no detections), 175.6ms\n",
      "video 1/1 (frame 459/0) E:\\JupyterNotebooks\\Road_problem\\runs\\detect\\road_features_yolo_inference\\a.avi: 480x640 (no detections), 285.2ms\n",
      "video 1/1 (frame 460/0) E:\\JupyterNotebooks\\Road_problem\\runs\\detect\\road_features_yolo_inference\\a.avi: 480x640 (no detections), 259.4ms\n",
      "video 1/1 (frame 461/0) E:\\JupyterNotebooks\\Road_problem\\runs\\detect\\road_features_yolo_inference\\a.avi: 480x640 (no detections), 205.8ms\n",
      "video 1/1 (frame 462/0) E:\\JupyterNotebooks\\Road_problem\\runs\\detect\\road_features_yolo_inference\\a.avi: 480x640 (no detections), 171.1ms\n",
      "video 1/1 (frame 463/0) E:\\JupyterNotebooks\\Road_problem\\runs\\detect\\road_features_yolo_inference\\a.avi: 480x640 (no detections), 257.7ms\n",
      "video 1/1 (frame 464/0) E:\\JupyterNotebooks\\Road_problem\\runs\\detect\\road_features_yolo_inference\\a.avi: 480x640 (no detections), 254.8ms\n",
      "video 1/1 (frame 465/0) E:\\JupyterNotebooks\\Road_problem\\runs\\detect\\road_features_yolo_inference\\a.avi: 480x640 (no detections), 289.2ms\n",
      "video 1/1 (frame 466/0) E:\\JupyterNotebooks\\Road_problem\\runs\\detect\\road_features_yolo_inference\\a.avi: 480x640 (no detections), 262.7ms\n",
      "video 1/1 (frame 467/0) E:\\JupyterNotebooks\\Road_problem\\runs\\detect\\road_features_yolo_inference\\a.avi: 480x640 (no detections), 218.0ms\n",
      "video 1/1 (frame 468/0) E:\\JupyterNotebooks\\Road_problem\\runs\\detect\\road_features_yolo_inference\\a.avi: 480x640 (no detections), 235.8ms\n",
      "video 1/1 (frame 469/0) E:\\JupyterNotebooks\\Road_problem\\runs\\detect\\road_features_yolo_inference\\a.avi: 480x640 (no detections), 153.9ms\n",
      "video 1/1 (frame 470/0) E:\\JupyterNotebooks\\Road_problem\\runs\\detect\\road_features_yolo_inference\\a.avi: 480x640 (no detections), 185.6ms\n",
      "video 1/1 (frame 471/0) E:\\JupyterNotebooks\\Road_problem\\runs\\detect\\road_features_yolo_inference\\a.avi: 480x640 (no detections), 222.2ms\n",
      "video 1/1 (frame 472/0) E:\\JupyterNotebooks\\Road_problem\\runs\\detect\\road_features_yolo_inference\\a.avi: 480x640 (no detections), 219.0ms\n",
      "video 1/1 (frame 473/0) E:\\JupyterNotebooks\\Road_problem\\runs\\detect\\road_features_yolo_inference\\a.avi: 480x640 (no detections), 199.5ms\n",
      "video 1/1 (frame 474/0) E:\\JupyterNotebooks\\Road_problem\\runs\\detect\\road_features_yolo_inference\\a.avi: 480x640 (no detections), 259.3ms\n",
      "video 1/1 (frame 475/0) E:\\JupyterNotebooks\\Road_problem\\runs\\detect\\road_features_yolo_inference\\a.avi: 480x640 (no detections), 252.7ms\n",
      "video 1/1 (frame 476/0) E:\\JupyterNotebooks\\Road_problem\\runs\\detect\\road_features_yolo_inference\\a.avi: 480x640 (no detections), 106.1ms\n",
      "video 1/1 (frame 477/0) E:\\JupyterNotebooks\\Road_problem\\runs\\detect\\road_features_yolo_inference\\a.avi: 480x640 (no detections), 260.6ms\n",
      "video 1/1 (frame 478/0) E:\\JupyterNotebooks\\Road_problem\\runs\\detect\\road_features_yolo_inference\\a.avi: 480x640 (no detections), 227.7ms\n",
      "video 1/1 (frame 479/0) E:\\JupyterNotebooks\\Road_problem\\runs\\detect\\road_features_yolo_inference\\a.avi: 480x640 (no detections), 177.3ms\n",
      "video 1/1 (frame 480/0) E:\\JupyterNotebooks\\Road_problem\\runs\\detect\\road_features_yolo_inference\\a.avi: 480x640 (no detections), 237.2ms\n",
      "video 1/1 (frame 481/0) E:\\JupyterNotebooks\\Road_problem\\runs\\detect\\road_features_yolo_inference\\a.avi: 480x640 (no detections), 247.7ms\n",
      "video 1/1 (frame 482/0) E:\\JupyterNotebooks\\Road_problem\\runs\\detect\\road_features_yolo_inference\\a.avi: 480x640 (no detections), 176.5ms\n",
      "video 1/1 (frame 483/0) E:\\JupyterNotebooks\\Road_problem\\runs\\detect\\road_features_yolo_inference\\a.avi: 480x640 (no detections), 261.1ms\n",
      "video 1/1 (frame 484/0) E:\\JupyterNotebooks\\Road_problem\\runs\\detect\\road_features_yolo_inference\\a.avi: 480x640 (no detections), 177.2ms\n",
      "video 1/1 (frame 485/0) E:\\JupyterNotebooks\\Road_problem\\runs\\detect\\road_features_yolo_inference\\a.avi: 480x640 (no detections), 257.3ms\n",
      "video 1/1 (frame 486/0) E:\\JupyterNotebooks\\Road_problem\\runs\\detect\\road_features_yolo_inference\\a.avi: 480x640 (no detections), 256.4ms\n",
      "video 1/1 (frame 487/0) E:\\JupyterNotebooks\\Road_problem\\runs\\detect\\road_features_yolo_inference\\a.avi: 480x640 (no detections), 250.2ms\n",
      "video 1/1 (frame 488/0) E:\\JupyterNotebooks\\Road_problem\\runs\\detect\\road_features_yolo_inference\\a.avi: 480x640 (no detections), 239.8ms\n",
      "video 1/1 (frame 489/0) E:\\JupyterNotebooks\\Road_problem\\runs\\detect\\road_features_yolo_inference\\a.avi: 480x640 (no detections), 254.2ms\n",
      "video 1/1 (frame 490/0) E:\\JupyterNotebooks\\Road_problem\\runs\\detect\\road_features_yolo_inference\\a.avi: 480x640 (no detections), 160.1ms\n",
      "video 1/1 (frame 491/0) E:\\JupyterNotebooks\\Road_problem\\runs\\detect\\road_features_yolo_inference\\a.avi: 480x640 (no detections), 211.4ms\n",
      "video 1/1 (frame 492/0) E:\\JupyterNotebooks\\Road_problem\\runs\\detect\\road_features_yolo_inference\\a.avi: 480x640 (no detections), 285.7ms\n",
      "video 1/1 (frame 493/0) E:\\JupyterNotebooks\\Road_problem\\runs\\detect\\road_features_yolo_inference\\a.avi: 480x640 (no detections), 260.1ms\n",
      "video 1/1 (frame 494/0) E:\\JupyterNotebooks\\Road_problem\\runs\\detect\\road_features_yolo_inference\\a.avi: 480x640 (no detections), 260.4ms\n",
      "video 1/1 (frame 495/0) E:\\JupyterNotebooks\\Road_problem\\runs\\detect\\road_features_yolo_inference\\a.avi: 480x640 (no detections), 111.9ms\n",
      "video 1/1 (frame 496/0) E:\\JupyterNotebooks\\Road_problem\\runs\\detect\\road_features_yolo_inference\\a.avi: 480x640 (no detections), 216.2ms\n",
      "video 1/1 (frame 497/0) E:\\JupyterNotebooks\\Road_problem\\runs\\detect\\road_features_yolo_inference\\a.avi: 480x640 1 Divider, 247.5ms\n",
      "video 1/1 (frame 498/0) E:\\JupyterNotebooks\\Road_problem\\runs\\detect\\road_features_yolo_inference\\a.avi: 480x640 1 Divider, 248.3ms\n",
      "video 1/1 (frame 499/0) E:\\JupyterNotebooks\\Road_problem\\runs\\detect\\road_features_yolo_inference\\a.avi: 480x640 1 Divider, 275.9ms\n",
      "video 1/1 (frame 500/0) E:\\JupyterNotebooks\\Road_problem\\runs\\detect\\road_features_yolo_inference\\a.avi: 480x640 1 Divider, 247.1ms\n",
      "video 1/1 (frame 501/0) E:\\JupyterNotebooks\\Road_problem\\runs\\detect\\road_features_yolo_inference\\a.avi: 480x640 (no detections), 258.1ms\n",
      "video 1/1 (frame 502/0) E:\\JupyterNotebooks\\Road_problem\\runs\\detect\\road_features_yolo_inference\\a.avi: 480x640 (no detections), 257.2ms\n",
      "video 1/1 (frame 503/0) E:\\JupyterNotebooks\\Road_problem\\runs\\detect\\road_features_yolo_inference\\a.avi: 480x640 (no detections), 247.4ms\n",
      "video 1/1 (frame 504/0) E:\\JupyterNotebooks\\Road_problem\\runs\\detect\\road_features_yolo_inference\\a.avi: 480x640 (no detections), 146.6ms\n",
      "video 1/1 (frame 505/0) E:\\JupyterNotebooks\\Road_problem\\runs\\detect\\road_features_yolo_inference\\a.avi: 480x640 (no detections), 275.4ms\n",
      "video 1/1 (frame 506/0) E:\\JupyterNotebooks\\Road_problem\\runs\\detect\\road_features_yolo_inference\\a.avi: 480x640 (no detections), 170.6ms\n",
      "video 1/1 (frame 507/0) E:\\JupyterNotebooks\\Road_problem\\runs\\detect\\road_features_yolo_inference\\a.avi: 480x640 (no detections), 252.9ms\n",
      "video 1/1 (frame 508/0) E:\\JupyterNotebooks\\Road_problem\\runs\\detect\\road_features_yolo_inference\\a.avi: 480x640 (no detections), 233.8ms\n",
      "video 1/1 (frame 509/0) E:\\JupyterNotebooks\\Road_problem\\runs\\detect\\road_features_yolo_inference\\a.avi: 480x640 (no detections), 106.2ms\n",
      "video 1/1 (frame 510/0) E:\\JupyterNotebooks\\Road_problem\\runs\\detect\\road_features_yolo_inference\\a.avi: 480x640 (no detections), 161.2ms\n",
      "video 1/1 (frame 511/0) E:\\JupyterNotebooks\\Road_problem\\runs\\detect\\road_features_yolo_inference\\a.avi: 480x640 (no detections), 255.1ms\n",
      "video 1/1 (frame 512/0) E:\\JupyterNotebooks\\Road_problem\\runs\\detect\\road_features_yolo_inference\\a.avi: 480x640 (no detections), 245.2ms\n",
      "video 1/1 (frame 513/0) E:\\JupyterNotebooks\\Road_problem\\runs\\detect\\road_features_yolo_inference\\a.avi: 480x640 (no detections), 276.7ms\n",
      "video 1/1 (frame 514/0) E:\\JupyterNotebooks\\Road_problem\\runs\\detect\\road_features_yolo_inference\\a.avi: 480x640 (no detections), 236.1ms\n",
      "video 1/1 (frame 515/0) E:\\JupyterNotebooks\\Road_problem\\runs\\detect\\road_features_yolo_inference\\a.avi: 480x640 (no detections), 209.8ms\n",
      "video 1/1 (frame 516/0) E:\\JupyterNotebooks\\Road_problem\\runs\\detect\\road_features_yolo_inference\\a.avi: 480x640 (no detections), 257.7ms\n",
      "video 1/1 (frame 517/0) E:\\JupyterNotebooks\\Road_problem\\runs\\detect\\road_features_yolo_inference\\a.avi: 480x640 (no detections), 254.2ms\n",
      "video 1/1 (frame 518/0) E:\\JupyterNotebooks\\Road_problem\\runs\\detect\\road_features_yolo_inference\\a.avi: 480x640 (no detections), 222.4ms\n",
      "video 1/1 (frame 519/0) E:\\JupyterNotebooks\\Road_problem\\runs\\detect\\road_features_yolo_inference\\a.avi: 480x640 (no detections), 220.6ms\n",
      "video 1/1 (frame 520/0) E:\\JupyterNotebooks\\Road_problem\\runs\\detect\\road_features_yolo_inference\\a.avi: 480x640 (no detections), 214.3ms\n",
      "video 1/1 (frame 521/0) E:\\JupyterNotebooks\\Road_problem\\runs\\detect\\road_features_yolo_inference\\a.avi: 480x640 (no detections), 167.0ms\n",
      "video 1/1 (frame 522/0) E:\\JupyterNotebooks\\Road_problem\\runs\\detect\\road_features_yolo_inference\\a.avi: 480x640 (no detections), 162.0ms\n",
      "video 1/1 (frame 523/0) E:\\JupyterNotebooks\\Road_problem\\runs\\detect\\road_features_yolo_inference\\a.avi: 480x640 (no detections), 260.1ms\n",
      "video 1/1 (frame 524/0) E:\\JupyterNotebooks\\Road_problem\\runs\\detect\\road_features_yolo_inference\\a.avi: 480x640 (no detections), 282.2ms\n",
      "video 1/1 (frame 525/0) E:\\JupyterNotebooks\\Road_problem\\runs\\detect\\road_features_yolo_inference\\a.avi: 480x640 (no detections), 252.9ms\n",
      "video 1/1 (frame 526/0) E:\\JupyterNotebooks\\Road_problem\\runs\\detect\\road_features_yolo_inference\\a.avi: 480x640 (no detections), 171.7ms\n",
      "video 1/1 (frame 527/0) E:\\JupyterNotebooks\\Road_problem\\runs\\detect\\road_features_yolo_inference\\a.avi: 480x640 (no detections), 262.0ms\n",
      "video 1/1 (frame 528/0) E:\\JupyterNotebooks\\Road_problem\\runs\\detect\\road_features_yolo_inference\\a.avi: 480x640 (no detections), 250.2ms\n",
      "video 1/1 (frame 529/0) E:\\JupyterNotebooks\\Road_problem\\runs\\detect\\road_features_yolo_inference\\a.avi: 480x640 (no detections), 251.4ms\n",
      "video 1/1 (frame 530/0) E:\\JupyterNotebooks\\Road_problem\\runs\\detect\\road_features_yolo_inference\\a.avi: 480x640 (no detections), 258.0ms\n",
      "video 1/1 (frame 531/0) E:\\JupyterNotebooks\\Road_problem\\runs\\detect\\road_features_yolo_inference\\a.avi: 480x640 (no detections), 256.2ms\n",
      "video 1/1 (frame 532/0) E:\\JupyterNotebooks\\Road_problem\\runs\\detect\\road_features_yolo_inference\\a.avi: 480x640 (no detections), 253.4ms\n",
      "video 1/1 (frame 533/0) E:\\JupyterNotebooks\\Road_problem\\runs\\detect\\road_features_yolo_inference\\a.avi: 480x640 (no detections), 258.4ms\n",
      "video 1/1 (frame 534/0) E:\\JupyterNotebooks\\Road_problem\\runs\\detect\\road_features_yolo_inference\\a.avi: 480x640 (no detections), 235.7ms\n",
      "video 1/1 (frame 535/0) E:\\JupyterNotebooks\\Road_problem\\runs\\detect\\road_features_yolo_inference\\a.avi: 480x640 (no detections), 209.9ms\n",
      "video 1/1 (frame 536/0) E:\\JupyterNotebooks\\Road_problem\\runs\\detect\\road_features_yolo_inference\\a.avi: 480x640 (no detections), 251.5ms\n",
      "video 1/1 (frame 537/0) E:\\JupyterNotebooks\\Road_problem\\runs\\detect\\road_features_yolo_inference\\a.avi: 480x640 (no detections), 260.0ms\n",
      "video 1/1 (frame 538/0) E:\\JupyterNotebooks\\Road_problem\\runs\\detect\\road_features_yolo_inference\\a.avi: 480x640 (no detections), 231.9ms\n",
      "video 1/1 (frame 539/0) E:\\JupyterNotebooks\\Road_problem\\runs\\detect\\road_features_yolo_inference\\a.avi: 480x640 (no detections), 257.4ms\n",
      "video 1/1 (frame 540/0) E:\\JupyterNotebooks\\Road_problem\\runs\\detect\\road_features_yolo_inference\\a.avi: 480x640 (no detections), 210.8ms\n",
      "video 1/1 (frame 541/0) E:\\JupyterNotebooks\\Road_problem\\runs\\detect\\road_features_yolo_inference\\a.avi: 480x640 (no detections), 258.1ms\n",
      "video 1/1 (frame 542/0) E:\\JupyterNotebooks\\Road_problem\\runs\\detect\\road_features_yolo_inference\\a.avi: 480x640 (no detections), 250.3ms\n",
      "video 1/1 (frame 543/0) E:\\JupyterNotebooks\\Road_problem\\runs\\detect\\road_features_yolo_inference\\a.avi: 480x640 (no detections), 257.6ms\n",
      "video 1/1 (frame 544/0) E:\\JupyterNotebooks\\Road_problem\\runs\\detect\\road_features_yolo_inference\\a.avi: 480x640 (no detections), 248.9ms\n",
      "video 1/1 (frame 545/0) E:\\JupyterNotebooks\\Road_problem\\runs\\detect\\road_features_yolo_inference\\a.avi: 480x640 (no detections), 262.7ms\n",
      "video 1/1 (frame 546/0) E:\\JupyterNotebooks\\Road_problem\\runs\\detect\\road_features_yolo_inference\\a.avi: 480x640 (no detections), 244.9ms\n",
      "video 1/1 (frame 547/0) E:\\JupyterNotebooks\\Road_problem\\runs\\detect\\road_features_yolo_inference\\a.avi: 480x640 1 Divider, 151.5ms\n",
      "video 1/1 (frame 548/0) E:\\JupyterNotebooks\\Road_problem\\runs\\detect\\road_features_yolo_inference\\a.avi: 480x640 (no detections), 232.3ms\n",
      "video 1/1 (frame 549/0) E:\\JupyterNotebooks\\Road_problem\\runs\\detect\\road_features_yolo_inference\\a.avi: 480x640 (no detections), 172.5ms\n",
      "video 1/1 (frame 550/0) E:\\JupyterNotebooks\\Road_problem\\runs\\detect\\road_features_yolo_inference\\a.avi: 480x640 (no detections), 203.0ms\n",
      "video 1/1 (frame 551/0) E:\\JupyterNotebooks\\Road_problem\\runs\\detect\\road_features_yolo_inference\\a.avi: 480x640 (no detections), 256.8ms\n",
      "video 1/1 (frame 552/0) E:\\JupyterNotebooks\\Road_problem\\runs\\detect\\road_features_yolo_inference\\a.avi: 480x640 (no detections), 252.6ms\n",
      "video 1/1 (frame 553/0) E:\\JupyterNotebooks\\Road_problem\\runs\\detect\\road_features_yolo_inference\\a.avi: 480x640 (no detections), 261.7ms\n",
      "video 1/1 (frame 554/0) E:\\JupyterNotebooks\\Road_problem\\runs\\detect\\road_features_yolo_inference\\a.avi: 480x640 (no detections), 212.8ms\n",
      "video 1/1 (frame 555/0) E:\\JupyterNotebooks\\Road_problem\\runs\\detect\\road_features_yolo_inference\\a.avi: 480x640 (no detections), 245.1ms\n",
      "video 1/1 (frame 556/0) E:\\JupyterNotebooks\\Road_problem\\runs\\detect\\road_features_yolo_inference\\a.avi: 480x640 (no detections), 338.0ms\n",
      "video 1/1 (frame 557/0) E:\\JupyterNotebooks\\Road_problem\\runs\\detect\\road_features_yolo_inference\\a.avi: 480x640 (no detections), 242.4ms\n",
      "video 1/1 (frame 558/0) E:\\JupyterNotebooks\\Road_problem\\runs\\detect\\road_features_yolo_inference\\a.avi: 480x640 (no detections), 259.6ms\n",
      "video 1/1 (frame 559/0) E:\\JupyterNotebooks\\Road_problem\\runs\\detect\\road_features_yolo_inference\\a.avi: 480x640 (no detections), 249.6ms\n",
      "video 1/1 (frame 560/0) E:\\JupyterNotebooks\\Road_problem\\runs\\detect\\road_features_yolo_inference\\a.avi: 480x640 (no detections), 143.7ms\n",
      "video 1/1 (frame 561/0) E:\\JupyterNotebooks\\Road_problem\\runs\\detect\\road_features_yolo_inference\\a.avi: 480x640 (no detections), 262.3ms\n",
      "video 1/1 (frame 562/0) E:\\JupyterNotebooks\\Road_problem\\runs\\detect\\road_features_yolo_inference\\a.avi: 480x640 (no detections), 260.3ms\n",
      "video 1/1 (frame 563/0) E:\\JupyterNotebooks\\Road_problem\\runs\\detect\\road_features_yolo_inference\\a.avi: 480x640 (no detections), 261.7ms\n",
      "video 1/1 (frame 564/0) E:\\JupyterNotebooks\\Road_problem\\runs\\detect\\road_features_yolo_inference\\a.avi: 480x640 (no detections), 248.5ms\n",
      "video 1/1 (frame 565/0) E:\\JupyterNotebooks\\Road_problem\\runs\\detect\\road_features_yolo_inference\\a.avi: 480x640 (no detections), 248.1ms\n",
      "video 1/1 (frame 566/0) E:\\JupyterNotebooks\\Road_problem\\runs\\detect\\road_features_yolo_inference\\a.avi: 480x640 (no detections), 255.5ms\n",
      "video 1/1 (frame 567/0) E:\\JupyterNotebooks\\Road_problem\\runs\\detect\\road_features_yolo_inference\\a.avi: 480x640 (no detections), 260.4ms\n",
      "video 1/1 (frame 568/0) E:\\JupyterNotebooks\\Road_problem\\runs\\detect\\road_features_yolo_inference\\a.avi: 480x640 (no detections), 106.6ms\n",
      "video 1/1 (frame 569/0) E:\\JupyterNotebooks\\Road_problem\\runs\\detect\\road_features_yolo_inference\\a.avi: 480x640 (no detections), 248.2ms\n",
      "video 1/1 (frame 570/0) E:\\JupyterNotebooks\\Road_problem\\runs\\detect\\road_features_yolo_inference\\a.avi: 480x640 (no detections), 131.6ms\n",
      "video 1/1 (frame 571/0) E:\\JupyterNotebooks\\Road_problem\\runs\\detect\\road_features_yolo_inference\\a.avi: 480x640 1 Divider, 259.6ms\n",
      "video 1/1 (frame 572/0) E:\\JupyterNotebooks\\Road_problem\\runs\\detect\\road_features_yolo_inference\\a.avi: 480x640 1 Divider, 212.8ms\n",
      "video 1/1 (frame 573/0) E:\\JupyterNotebooks\\Road_problem\\runs\\detect\\road_features_yolo_inference\\a.avi: 480x640 (no detections), 253.6ms\n",
      "video 1/1 (frame 574/0) E:\\JupyterNotebooks\\Road_problem\\runs\\detect\\road_features_yolo_inference\\a.avi: 480x640 (no detections), 257.0ms\n",
      "video 1/1 (frame 575/0) E:\\JupyterNotebooks\\Road_problem\\runs\\detect\\road_features_yolo_inference\\a.avi: 480x640 1 Plain road, 244.3ms\n",
      "video 1/1 (frame 576/0) E:\\JupyterNotebooks\\Road_problem\\runs\\detect\\road_features_yolo_inference\\a.avi: 480x640 1 Plain road, 244.2ms\n",
      "video 1/1 (frame 577/0) E:\\JupyterNotebooks\\Road_problem\\runs\\detect\\road_features_yolo_inference\\a.avi: 480x640 1 Plain road, 268.2ms\n",
      "video 1/1 (frame 578/0) E:\\JupyterNotebooks\\Road_problem\\runs\\detect\\road_features_yolo_inference\\a.avi: 480x640 1 Plain road, 224.9ms\n",
      "video 1/1 (frame 579/0) E:\\JupyterNotebooks\\Road_problem\\runs\\detect\\road_features_yolo_inference\\a.avi: 480x640 1 Plain road, 255.8ms\n",
      "video 1/1 (frame 580/0) E:\\JupyterNotebooks\\Road_problem\\runs\\detect\\road_features_yolo_inference\\a.avi: 480x640 (no detections), 206.3ms\n",
      "video 1/1 (frame 581/0) E:\\JupyterNotebooks\\Road_problem\\runs\\detect\\road_features_yolo_inference\\a.avi: 480x640 (no detections), 257.1ms\n",
      "video 1/1 (frame 582/0) E:\\JupyterNotebooks\\Road_problem\\runs\\detect\\road_features_yolo_inference\\a.avi: 480x640 (no detections), 257.4ms\n",
      "video 1/1 (frame 583/0) E:\\JupyterNotebooks\\Road_problem\\runs\\detect\\road_features_yolo_inference\\a.avi: 480x640 (no detections), 252.6ms\n",
      "video 1/1 (frame 584/0) E:\\JupyterNotebooks\\Road_problem\\runs\\detect\\road_features_yolo_inference\\a.avi: 480x640 (no detections), 260.2ms\n",
      "video 1/1 (frame 585/0) E:\\JupyterNotebooks\\Road_problem\\runs\\detect\\road_features_yolo_inference\\a.avi: 480x640 (no detections), 282.4ms\n",
      "video 1/1 (frame 586/0) E:\\JupyterNotebooks\\Road_problem\\runs\\detect\\road_features_yolo_inference\\a.avi: 480x640 (no detections), 274.0ms\n",
      "video 1/1 (frame 587/0) E:\\JupyterNotebooks\\Road_problem\\runs\\detect\\road_features_yolo_inference\\a.avi: 480x640 (no detections), 257.0ms\n",
      "video 1/1 (frame 588/0) E:\\JupyterNotebooks\\Road_problem\\runs\\detect\\road_features_yolo_inference\\a.avi: 480x640 (no detections), 256.2ms\n",
      "video 1/1 (frame 589/0) E:\\JupyterNotebooks\\Road_problem\\runs\\detect\\road_features_yolo_inference\\a.avi: 480x640 1 Speed bumps, 231.0ms\n",
      "video 1/1 (frame 590/0) E:\\JupyterNotebooks\\Road_problem\\runs\\detect\\road_features_yolo_inference\\a.avi: 480x640 (no detections), 147.0ms\n",
      "video 1/1 (frame 591/0) E:\\JupyterNotebooks\\Road_problem\\runs\\detect\\road_features_yolo_inference\\a.avi: 480x640 (no detections), 247.6ms\n",
      "video 1/1 (frame 592/0) E:\\JupyterNotebooks\\Road_problem\\runs\\detect\\road_features_yolo_inference\\a.avi: 480x640 (no detections), 257.5ms\n",
      "video 1/1 (frame 593/0) E:\\JupyterNotebooks\\Road_problem\\runs\\detect\\road_features_yolo_inference\\a.avi: 480x640 (no detections), 245.7ms\n",
      "video 1/1 (frame 594/0) E:\\JupyterNotebooks\\Road_problem\\runs\\detect\\road_features_yolo_inference\\a.avi: 480x640 (no detections), 100.4ms\n",
      "video 1/1 (frame 595/0) E:\\JupyterNotebooks\\Road_problem\\runs\\detect\\road_features_yolo_inference\\a.avi: 480x640 (no detections), 257.9ms\n",
      "video 1/1 (frame 596/0) E:\\JupyterNotebooks\\Road_problem\\runs\\detect\\road_features_yolo_inference\\a.avi: 480x640 (no detections), 257.8ms\n",
      "video 1/1 (frame 597/0) E:\\JupyterNotebooks\\Road_problem\\runs\\detect\\road_features_yolo_inference\\a.avi: 480x640 (no detections), 251.6ms\n",
      "video 1/1 (frame 598/0) E:\\JupyterNotebooks\\Road_problem\\runs\\detect\\road_features_yolo_inference\\a.avi: 480x640 (no detections), 256.4ms\n",
      "video 1/1 (frame 599/0) E:\\JupyterNotebooks\\Road_problem\\runs\\detect\\road_features_yolo_inference\\a.avi: 480x640 (no detections), 185.4ms\n",
      "video 1/1 (frame 600/0) E:\\JupyterNotebooks\\Road_problem\\runs\\detect\\road_features_yolo_inference\\a.avi: 480x640 (no detections), 254.5ms\n",
      "video 1/1 (frame 601/0) E:\\JupyterNotebooks\\Road_problem\\runs\\detect\\road_features_yolo_inference\\a.avi: 480x640 (no detections), 255.2ms\n",
      "video 1/1 (frame 602/0) E:\\JupyterNotebooks\\Road_problem\\runs\\detect\\road_features_yolo_inference\\a.avi: 480x640 1 Speed bumps, 257.5ms\n",
      "video 1/1 (frame 603/0) E:\\JupyterNotebooks\\Road_problem\\runs\\detect\\road_features_yolo_inference\\a.avi: 480x640 1 Speed bumps, 258.5ms\n",
      "video 1/1 (frame 604/0) E:\\JupyterNotebooks\\Road_problem\\runs\\detect\\road_features_yolo_inference\\a.avi: 480x640 (no detections), 262.6ms\n",
      "video 1/1 (frame 605/0) E:\\JupyterNotebooks\\Road_problem\\runs\\detect\\road_features_yolo_inference\\a.avi: 480x640 (no detections), 268.5ms\n",
      "video 1/1 (frame 606/0) E:\\JupyterNotebooks\\Road_problem\\runs\\detect\\road_features_yolo_inference\\a.avi: 480x640 (no detections), 238.3ms\n",
      "video 1/1 (frame 607/0) E:\\JupyterNotebooks\\Road_problem\\runs\\detect\\road_features_yolo_inference\\a.avi: 480x640 (no detections), 193.5ms\n",
      "video 1/1 (frame 608/0) E:\\JupyterNotebooks\\Road_problem\\runs\\detect\\road_features_yolo_inference\\a.avi: 480x640 (no detections), 262.4ms\n",
      "video 1/1 (frame 609/0) E:\\JupyterNotebooks\\Road_problem\\runs\\detect\\road_features_yolo_inference\\a.avi: 480x640 (no detections), 253.1ms\n",
      "video 1/1 (frame 610/0) E:\\JupyterNotebooks\\Road_problem\\runs\\detect\\road_features_yolo_inference\\a.avi: 480x640 (no detections), 261.2ms\n",
      "video 1/1 (frame 611/0) E:\\JupyterNotebooks\\Road_problem\\runs\\detect\\road_features_yolo_inference\\a.avi: 480x640 (no detections), 258.5ms\n",
      "video 1/1 (frame 612/0) E:\\JupyterNotebooks\\Road_problem\\runs\\detect\\road_features_yolo_inference\\a.avi: 480x640 (no detections), 256.1ms\n",
      "video 1/1 (frame 613/0) E:\\JupyterNotebooks\\Road_problem\\runs\\detect\\road_features_yolo_inference\\a.avi: 480x640 (no detections), 255.0ms\n",
      "video 1/1 (frame 614/0) E:\\JupyterNotebooks\\Road_problem\\runs\\detect\\road_features_yolo_inference\\a.avi: 480x640 (no detections), 256.9ms\n",
      "video 1/1 (frame 615/0) E:\\JupyterNotebooks\\Road_problem\\runs\\detect\\road_features_yolo_inference\\a.avi: 480x640 (no detections), 257.8ms\n",
      "video 1/1 (frame 616/0) E:\\JupyterNotebooks\\Road_problem\\runs\\detect\\road_features_yolo_inference\\a.avi: 480x640 (no detections), 158.1ms\n",
      "video 1/1 (frame 617/0) E:\\JupyterNotebooks\\Road_problem\\runs\\detect\\road_features_yolo_inference\\a.avi: 480x640 (no detections), 117.0ms\n",
      "video 1/1 (frame 618/0) E:\\JupyterNotebooks\\Road_problem\\runs\\detect\\road_features_yolo_inference\\a.avi: 480x640 (no detections), 245.9ms\n",
      "video 1/1 (frame 619/0) E:\\JupyterNotebooks\\Road_problem\\runs\\detect\\road_features_yolo_inference\\a.avi: 480x640 (no detections), 252.6ms\n",
      "video 1/1 (frame 620/0) E:\\JupyterNotebooks\\Road_problem\\runs\\detect\\road_features_yolo_inference\\a.avi: 480x640 (no detections), 243.8ms\n",
      "video 1/1 (frame 621/0) E:\\JupyterNotebooks\\Road_problem\\runs\\detect\\road_features_yolo_inference\\a.avi: 480x640 (no detections), 209.3ms\n",
      "video 1/1 (frame 622/0) E:\\JupyterNotebooks\\Road_problem\\runs\\detect\\road_features_yolo_inference\\a.avi: 480x640 (no detections), 230.3ms\n",
      "video 1/1 (frame 623/0) E:\\JupyterNotebooks\\Road_problem\\runs\\detect\\road_features_yolo_inference\\a.avi: 480x640 (no detections), 255.2ms\n",
      "video 1/1 (frame 624/0) E:\\JupyterNotebooks\\Road_problem\\runs\\detect\\road_features_yolo_inference\\a.avi: 480x640 (no detections), 175.3ms\n",
      "video 1/1 (frame 625/0) E:\\JupyterNotebooks\\Road_problem\\runs\\detect\\road_features_yolo_inference\\a.avi: 480x640 (no detections), 240.7ms\n",
      "video 1/1 (frame 626/0) E:\\JupyterNotebooks\\Road_problem\\runs\\detect\\road_features_yolo_inference\\a.avi: 480x640 (no detections), 182.1ms\n",
      "video 1/1 (frame 627/0) E:\\JupyterNotebooks\\Road_problem\\runs\\detect\\road_features_yolo_inference\\a.avi: 480x640 (no detections), 253.5ms\n",
      "video 1/1 (frame 628/0) E:\\JupyterNotebooks\\Road_problem\\runs\\detect\\road_features_yolo_inference\\a.avi: 480x640 (no detections), 149.6ms\n",
      "video 1/1 (frame 629/0) E:\\JupyterNotebooks\\Road_problem\\runs\\detect\\road_features_yolo_inference\\a.avi: 480x640 (no detections), 250.9ms\n",
      "video 1/1 (frame 630/0) E:\\JupyterNotebooks\\Road_problem\\runs\\detect\\road_features_yolo_inference\\a.avi: 480x640 (no detections), 212.3ms\n",
      "video 1/1 (frame 631/0) E:\\JupyterNotebooks\\Road_problem\\runs\\detect\\road_features_yolo_inference\\a.avi: 480x640 (no detections), 192.8ms\n",
      "video 1/1 (frame 632/0) E:\\JupyterNotebooks\\Road_problem\\runs\\detect\\road_features_yolo_inference\\a.avi: 480x640 (no detections), 178.4ms\n",
      "video 1/1 (frame 633/0) E:\\JupyterNotebooks\\Road_problem\\runs\\detect\\road_features_yolo_inference\\a.avi: 480x640 (no detections), 238.3ms\n",
      "video 1/1 (frame 634/0) E:\\JupyterNotebooks\\Road_problem\\runs\\detect\\road_features_yolo_inference\\a.avi: 480x640 (no detections), 178.8ms\n",
      "video 1/1 (frame 635/0) E:\\JupyterNotebooks\\Road_problem\\runs\\detect\\road_features_yolo_inference\\a.avi: 480x640 (no detections), 175.0ms\n",
      "video 1/1 (frame 636/0) E:\\JupyterNotebooks\\Road_problem\\runs\\detect\\road_features_yolo_inference\\a.avi: 480x640 (no detections), 252.2ms\n",
      "video 1/1 (frame 637/0) E:\\JupyterNotebooks\\Road_problem\\runs\\detect\\road_features_yolo_inference\\a.avi: 480x640 (no detections), 257.0ms\n",
      "video 1/1 (frame 638/0) E:\\JupyterNotebooks\\Road_problem\\runs\\detect\\road_features_yolo_inference\\a.avi: 480x640 (no detections), 232.3ms\n",
      "video 1/1 (frame 639/0) E:\\JupyterNotebooks\\Road_problem\\runs\\detect\\road_features_yolo_inference\\a.avi: 480x640 (no detections), 194.5ms\n",
      "video 1/1 (frame 640/0) E:\\JupyterNotebooks\\Road_problem\\runs\\detect\\road_features_yolo_inference\\a.avi: 480x640 (no detections), 170.0ms\n",
      "video 1/1 (frame 641/0) E:\\JupyterNotebooks\\Road_problem\\runs\\detect\\road_features_yolo_inference\\a.avi: 480x640 (no detections), 182.9ms\n",
      "video 1/1 (frame 642/0) E:\\JupyterNotebooks\\Road_problem\\runs\\detect\\road_features_yolo_inference\\a.avi: 480x640 (no detections), 282.6ms\n",
      "video 1/1 (frame 643/0) E:\\JupyterNotebooks\\Road_problem\\runs\\detect\\road_features_yolo_inference\\a.avi: 480x640 (no detections), 247.8ms\n",
      "video 1/1 (frame 644/0) E:\\JupyterNotebooks\\Road_problem\\runs\\detect\\road_features_yolo_inference\\a.avi: 480x640 1 Plain road, 252.4ms\n",
      "video 1/1 (frame 645/0) E:\\JupyterNotebooks\\Road_problem\\runs\\detect\\road_features_yolo_inference\\a.avi: 480x640 1 Plain road, 247.5ms\n",
      "video 1/1 (frame 646/0) E:\\JupyterNotebooks\\Road_problem\\runs\\detect\\road_features_yolo_inference\\a.avi: 480x640 1 Plain road, 178.7ms\n",
      "video 1/1 (frame 647/0) E:\\JupyterNotebooks\\Road_problem\\runs\\detect\\road_features_yolo_inference\\a.avi: 480x640 (no detections), 228.4ms\n",
      "video 1/1 (frame 648/0) E:\\JupyterNotebooks\\Road_problem\\runs\\detect\\road_features_yolo_inference\\a.avi: 480x640 1 Plain road, 246.7ms\n",
      "video 1/1 (frame 649/0) E:\\JupyterNotebooks\\Road_problem\\runs\\detect\\road_features_yolo_inference\\a.avi: 480x640 (no detections), 247.4ms\n",
      "video 1/1 (frame 650/0) E:\\JupyterNotebooks\\Road_problem\\runs\\detect\\road_features_yolo_inference\\a.avi: 480x640 (no detections), 221.0ms\n",
      "video 1/1 (frame 651/0) E:\\JupyterNotebooks\\Road_problem\\runs\\detect\\road_features_yolo_inference\\a.avi: 480x640 (no detections), 236.7ms\n",
      "video 1/1 (frame 652/0) E:\\JupyterNotebooks\\Road_problem\\runs\\detect\\road_features_yolo_inference\\a.avi: 480x640 (no detections), 176.9ms\n",
      "video 1/1 (frame 653/0) E:\\JupyterNotebooks\\Road_problem\\runs\\detect\\road_features_yolo_inference\\a.avi: 480x640 (no detections), 190.5ms\n",
      "video 1/1 (frame 654/0) E:\\JupyterNotebooks\\Road_problem\\runs\\detect\\road_features_yolo_inference\\a.avi: 480x640 (no detections), 136.1ms\n",
      "video 1/1 (frame 655/0) E:\\JupyterNotebooks\\Road_problem\\runs\\detect\\road_features_yolo_inference\\a.avi: 480x640 (no detections), 177.0ms\n",
      "video 1/1 (frame 656/0) E:\\JupyterNotebooks\\Road_problem\\runs\\detect\\road_features_yolo_inference\\a.avi: 480x640 (no detections), 264.3ms\n",
      "video 1/1 (frame 657/0) E:\\JupyterNotebooks\\Road_problem\\runs\\detect\\road_features_yolo_inference\\a.avi: 480x640 (no detections), 183.6ms\n",
      "video 1/1 (frame 658/0) E:\\JupyterNotebooks\\Road_problem\\runs\\detect\\road_features_yolo_inference\\a.avi: 480x640 (no detections), 255.8ms\n",
      "video 1/1 (frame 659/0) E:\\JupyterNotebooks\\Road_problem\\runs\\detect\\road_features_yolo_inference\\a.avi: 480x640 (no detections), 258.7ms\n",
      "video 1/1 (frame 660/0) E:\\JupyterNotebooks\\Road_problem\\runs\\detect\\road_features_yolo_inference\\a.avi: 480x640 (no detections), 252.2ms\n",
      "video 1/1 (frame 661/0) E:\\JupyterNotebooks\\Road_problem\\runs\\detect\\road_features_yolo_inference\\a.avi: 480x640 (no detections), 158.7ms\n",
      "video 1/1 (frame 662/0) E:\\JupyterNotebooks\\Road_problem\\runs\\detect\\road_features_yolo_inference\\a.avi: 480x640 (no detections), 227.6ms\n",
      "video 1/1 (frame 663/0) E:\\JupyterNotebooks\\Road_problem\\runs\\detect\\road_features_yolo_inference\\a.avi: 480x640 (no detections), 156.1ms\n",
      "video 1/1 (frame 664/0) E:\\JupyterNotebooks\\Road_problem\\runs\\detect\\road_features_yolo_inference\\a.avi: 480x640 (no detections), 271.1ms\n",
      "video 1/1 (frame 665/0) E:\\JupyterNotebooks\\Road_problem\\runs\\detect\\road_features_yolo_inference\\a.avi: 480x640 (no detections), 209.7ms\n",
      "video 1/1 (frame 666/0) E:\\JupyterNotebooks\\Road_problem\\runs\\detect\\road_features_yolo_inference\\a.avi: 480x640 (no detections), 211.0ms\n",
      "video 1/1 (frame 667/0) E:\\JupyterNotebooks\\Road_problem\\runs\\detect\\road_features_yolo_inference\\a.avi: 480x640 (no detections), 250.9ms\n",
      "video 1/1 (frame 668/0) E:\\JupyterNotebooks\\Road_problem\\runs\\detect\\road_features_yolo_inference\\a.avi: 480x640 (no detections), 249.0ms\n",
      "video 1/1 (frame 669/0) E:\\JupyterNotebooks\\Road_problem\\runs\\detect\\road_features_yolo_inference\\a.avi: 480x640 (no detections), 252.7ms\n",
      "video 1/1 (frame 670/0) E:\\JupyterNotebooks\\Road_problem\\runs\\detect\\road_features_yolo_inference\\a.avi: 480x640 (no detections), 261.0ms\n",
      "video 1/1 (frame 671/0) E:\\JupyterNotebooks\\Road_problem\\runs\\detect\\road_features_yolo_inference\\a.avi: 480x640 (no detections), 200.4ms\n",
      "video 1/1 (frame 672/0) E:\\JupyterNotebooks\\Road_problem\\runs\\detect\\road_features_yolo_inference\\a.avi: 480x640 (no detections), 115.3ms\n",
      "video 1/1 (frame 673/0) E:\\JupyterNotebooks\\Road_problem\\runs\\detect\\road_features_yolo_inference\\a.avi: 480x640 (no detections), 248.9ms\n",
      "video 1/1 (frame 674/0) E:\\JupyterNotebooks\\Road_problem\\runs\\detect\\road_features_yolo_inference\\a.avi: 480x640 (no detections), 254.5ms\n",
      "video 1/1 (frame 675/0) E:\\JupyterNotebooks\\Road_problem\\runs\\detect\\road_features_yolo_inference\\a.avi: 480x640 (no detections), 168.5ms\n",
      "video 1/1 (frame 676/0) E:\\JupyterNotebooks\\Road_problem\\runs\\detect\\road_features_yolo_inference\\a.avi: 480x640 (no detections), 242.8ms\n",
      "video 1/1 (frame 677/0) E:\\JupyterNotebooks\\Road_problem\\runs\\detect\\road_features_yolo_inference\\a.avi: 480x640 (no detections), 254.0ms\n",
      "video 1/1 (frame 678/0) E:\\JupyterNotebooks\\Road_problem\\runs\\detect\\road_features_yolo_inference\\a.avi: 480x640 (no detections), 258.7ms\n",
      "video 1/1 (frame 679/0) E:\\JupyterNotebooks\\Road_problem\\runs\\detect\\road_features_yolo_inference\\a.avi: 480x640 (no detections), 204.3ms\n",
      "video 1/1 (frame 680/0) E:\\JupyterNotebooks\\Road_problem\\runs\\detect\\road_features_yolo_inference\\a.avi: 480x640 (no detections), 216.2ms\n",
      "video 1/1 (frame 681/0) E:\\JupyterNotebooks\\Road_problem\\runs\\detect\\road_features_yolo_inference\\a.avi: 480x640 (no detections), 220.3ms\n",
      "video 1/1 (frame 682/0) E:\\JupyterNotebooks\\Road_problem\\runs\\detect\\road_features_yolo_inference\\a.avi: 480x640 (no detections), 142.8ms\n",
      "video 1/1 (frame 683/0) E:\\JupyterNotebooks\\Road_problem\\runs\\detect\\road_features_yolo_inference\\a.avi: 480x640 (no detections), 252.3ms\n",
      "video 1/1 (frame 684/0) E:\\JupyterNotebooks\\Road_problem\\runs\\detect\\road_features_yolo_inference\\a.avi: 480x640 (no detections), 149.7ms\n",
      "video 1/1 (frame 685/0) E:\\JupyterNotebooks\\Road_problem\\runs\\detect\\road_features_yolo_inference\\a.avi: 480x640 (no detections), 121.9ms\n",
      "video 1/1 (frame 686/0) E:\\JupyterNotebooks\\Road_problem\\runs\\detect\\road_features_yolo_inference\\a.avi: 480x640 (no detections), 134.4ms\n",
      "video 1/1 (frame 687/0) E:\\JupyterNotebooks\\Road_problem\\runs\\detect\\road_features_yolo_inference\\a.avi: 480x640 (no detections), 117.5ms\n",
      "video 1/1 (frame 688/0) E:\\JupyterNotebooks\\Road_problem\\runs\\detect\\road_features_yolo_inference\\a.avi: 480x640 (no detections), 123.2ms\n",
      "video 1/1 (frame 689/0) E:\\JupyterNotebooks\\Road_problem\\runs\\detect\\road_features_yolo_inference\\a.avi: 480x640 1 Plain road, 130.9ms\n",
      "video 1/1 (frame 690/0) E:\\JupyterNotebooks\\Road_problem\\runs\\detect\\road_features_yolo_inference\\a.avi: 480x640 1 Plain road, 156.1ms\n",
      "video 1/1 (frame 691/0) E:\\JupyterNotebooks\\Road_problem\\runs\\detect\\road_features_yolo_inference\\a.avi: 480x640 1 Plain road, 165.7ms\n",
      "video 1/1 (frame 692/0) E:\\JupyterNotebooks\\Road_problem\\runs\\detect\\road_features_yolo_inference\\a.avi: 480x640 (no detections), 122.0ms\n",
      "video 1/1 (frame 693/0) E:\\JupyterNotebooks\\Road_problem\\runs\\detect\\road_features_yolo_inference\\a.avi: 480x640 (no detections), 167.8ms\n",
      "video 1/1 (frame 694/0) E:\\JupyterNotebooks\\Road_problem\\runs\\detect\\road_features_yolo_inference\\a.avi: 480x640 (no detections), 137.8ms\n",
      "video 1/1 (frame 695/0) E:\\JupyterNotebooks\\Road_problem\\runs\\detect\\road_features_yolo_inference\\a.avi: 480x640 (no detections), 160.0ms\n",
      "video 1/1 (frame 696/0) E:\\JupyterNotebooks\\Road_problem\\runs\\detect\\road_features_yolo_inference\\a.avi: 480x640 (no detections), 262.4ms\n",
      "video 1/1 (frame 697/0) E:\\JupyterNotebooks\\Road_problem\\runs\\detect\\road_features_yolo_inference\\a.avi: 480x640 (no detections), 238.4ms\n",
      "video 1/1 (frame 698/0) E:\\JupyterNotebooks\\Road_problem\\runs\\detect\\road_features_yolo_inference\\a.avi: 480x640 (no detections), 253.3ms\n",
      "video 1/1 (frame 699/0) E:\\JupyterNotebooks\\Road_problem\\runs\\detect\\road_features_yolo_inference\\a.avi: 480x640 (no detections), 217.2ms\n",
      "video 1/1 (frame 700/0) E:\\JupyterNotebooks\\Road_problem\\runs\\detect\\road_features_yolo_inference\\a.avi: 480x640 1 Plain road, 245.5ms\n",
      "video 1/1 (frame 701/0) E:\\JupyterNotebooks\\Road_problem\\runs\\detect\\road_features_yolo_inference\\a.avi: 480x640 (no detections), 139.1ms\n",
      "video 1/1 (frame 702/0) E:\\JupyterNotebooks\\Road_problem\\runs\\detect\\road_features_yolo_inference\\a.avi: 480x640 1 Plain road, 260.0ms\n",
      "video 1/1 (frame 703/0) E:\\JupyterNotebooks\\Road_problem\\runs\\detect\\road_features_yolo_inference\\a.avi: 480x640 (no detections), 249.0ms\n",
      "video 1/1 (frame 704/0) E:\\JupyterNotebooks\\Road_problem\\runs\\detect\\road_features_yolo_inference\\a.avi: 480x640 1 Plain road, 165.2ms\n",
      "video 1/1 (frame 705/0) E:\\JupyterNotebooks\\Road_problem\\runs\\detect\\road_features_yolo_inference\\a.avi: 480x640 (no detections), 195.5ms\n",
      "video 1/1 (frame 706/0) E:\\JupyterNotebooks\\Road_problem\\runs\\detect\\road_features_yolo_inference\\a.avi: 480x640 (no detections), 259.9ms\n",
      "video 1/1 (frame 707/0) E:\\JupyterNotebooks\\Road_problem\\runs\\detect\\road_features_yolo_inference\\a.avi: 480x640 1 Plain road, 176.3ms\n",
      "video 1/1 (frame 708/0) E:\\JupyterNotebooks\\Road_problem\\runs\\detect\\road_features_yolo_inference\\a.avi: 480x640 (no detections), 251.4ms\n",
      "video 1/1 (frame 709/0) E:\\JupyterNotebooks\\Road_problem\\runs\\detect\\road_features_yolo_inference\\a.avi: 480x640 (no detections), 243.5ms\n",
      "video 1/1 (frame 710/0) E:\\JupyterNotebooks\\Road_problem\\runs\\detect\\road_features_yolo_inference\\a.avi: 480x640 (no detections), 247.2ms\n",
      "video 1/1 (frame 711/0) E:\\JupyterNotebooks\\Road_problem\\runs\\detect\\road_features_yolo_inference\\a.avi: 480x640 1 Plain road, 244.6ms\n",
      "video 1/1 (frame 712/0) E:\\JupyterNotebooks\\Road_problem\\runs\\detect\\road_features_yolo_inference\\a.avi: 480x640 (no detections), 251.6ms\n",
      "video 1/1 (frame 713/0) E:\\JupyterNotebooks\\Road_problem\\runs\\detect\\road_features_yolo_inference\\a.avi: 480x640 1 Plain road, 252.8ms\n",
      "video 1/1 (frame 714/0) E:\\JupyterNotebooks\\Road_problem\\runs\\detect\\road_features_yolo_inference\\a.avi: 480x640 1 Plain road, 257.9ms\n",
      "video 1/1 (frame 715/0) E:\\JupyterNotebooks\\Road_problem\\runs\\detect\\road_features_yolo_inference\\a.avi: 480x640 (no detections), 263.2ms\n",
      "video 1/1 (frame 716/0) E:\\JupyterNotebooks\\Road_problem\\runs\\detect\\road_features_yolo_inference\\a.avi: 480x640 (no detections), 257.0ms\n",
      "video 1/1 (frame 717/0) E:\\JupyterNotebooks\\Road_problem\\runs\\detect\\road_features_yolo_inference\\a.avi: 480x640 (no detections), 176.7ms\n",
      "video 1/1 (frame 718/0) E:\\JupyterNotebooks\\Road_problem\\runs\\detect\\road_features_yolo_inference\\a.avi: 480x640 (no detections), 207.0ms\n",
      "video 1/1 (frame 719/0) E:\\JupyterNotebooks\\Road_problem\\runs\\detect\\road_features_yolo_inference\\a.avi: 480x640 (no detections), 253.8ms\n",
      "video 1/1 (frame 720/0) E:\\JupyterNotebooks\\Road_problem\\runs\\detect\\road_features_yolo_inference\\a.avi: 480x640 (no detections), 245.9ms\n",
      "video 1/1 (frame 721/0) E:\\JupyterNotebooks\\Road_problem\\runs\\detect\\road_features_yolo_inference\\a.avi: 480x640 (no detections), 261.6ms\n",
      "video 1/1 (frame 722/0) E:\\JupyterNotebooks\\Road_problem\\runs\\detect\\road_features_yolo_inference\\a.avi: 480x640 (no detections), 188.3ms\n",
      "video 1/1 (frame 723/0) E:\\JupyterNotebooks\\Road_problem\\runs\\detect\\road_features_yolo_inference\\a.avi: 480x640 (no detections), 262.2ms\n",
      "video 1/1 (frame 724/0) E:\\JupyterNotebooks\\Road_problem\\runs\\detect\\road_features_yolo_inference\\a.avi: 480x640 (no detections), 256.0ms\n",
      "video 1/1 (frame 725/0) E:\\JupyterNotebooks\\Road_problem\\runs\\detect\\road_features_yolo_inference\\a.avi: 480x640 (no detections), 232.9ms\n",
      "video 1/1 (frame 726/0) E:\\JupyterNotebooks\\Road_problem\\runs\\detect\\road_features_yolo_inference\\a.avi: 480x640 (no detections), 253.5ms\n",
      "video 1/1 (frame 727/0) E:\\JupyterNotebooks\\Road_problem\\runs\\detect\\road_features_yolo_inference\\a.avi: 480x640 (no detections), 240.9ms\n",
      "video 1/1 (frame 728/0) E:\\JupyterNotebooks\\Road_problem\\runs\\detect\\road_features_yolo_inference\\a.avi: 480x640 (no detections), 258.9ms\n",
      "video 1/1 (frame 729/0) E:\\JupyterNotebooks\\Road_problem\\runs\\detect\\road_features_yolo_inference\\a.avi: 480x640 (no detections), 243.3ms\n",
      "video 1/1 (frame 730/0) E:\\JupyterNotebooks\\Road_problem\\runs\\detect\\road_features_yolo_inference\\a.avi: 480x640 (no detections), 105.0ms\n",
      "video 1/1 (frame 731/0) E:\\JupyterNotebooks\\Road_problem\\runs\\detect\\road_features_yolo_inference\\a.avi: 480x640 (no detections), 236.0ms\n",
      "video 1/1 (frame 732/0) E:\\JupyterNotebooks\\Road_problem\\runs\\detect\\road_features_yolo_inference\\a.avi: 480x640 (no detections), 262.8ms\n",
      "video 1/1 (frame 733/0) E:\\JupyterNotebooks\\Road_problem\\runs\\detect\\road_features_yolo_inference\\a.avi: 480x640 (no detections), 251.9ms\n",
      "video 1/1 (frame 734/0) E:\\JupyterNotebooks\\Road_problem\\runs\\detect\\road_features_yolo_inference\\a.avi: 480x640 (no detections), 265.2ms\n",
      "video 1/1 (frame 735/0) E:\\JupyterNotebooks\\Road_problem\\runs\\detect\\road_features_yolo_inference\\a.avi: 480x640 (no detections), 249.1ms\n",
      "video 1/1 (frame 736/0) E:\\JupyterNotebooks\\Road_problem\\runs\\detect\\road_features_yolo_inference\\a.avi: 480x640 (no detections), 205.2ms\n",
      "video 1/1 (frame 737/0) E:\\JupyterNotebooks\\Road_problem\\runs\\detect\\road_features_yolo_inference\\a.avi: 480x640 (no detections), 253.7ms\n",
      "video 1/1 (frame 738/0) E:\\JupyterNotebooks\\Road_problem\\runs\\detect\\road_features_yolo_inference\\a.avi: 480x640 (no detections), 190.7ms\n",
      "video 1/1 (frame 739/0) E:\\JupyterNotebooks\\Road_problem\\runs\\detect\\road_features_yolo_inference\\a.avi: 480x640 (no detections), 116.6ms\n",
      "video 1/1 (frame 740/0) E:\\JupyterNotebooks\\Road_problem\\runs\\detect\\road_features_yolo_inference\\a.avi: 480x640 (no detections), 135.1ms\n",
      "video 1/1 (frame 741/0) E:\\JupyterNotebooks\\Road_problem\\runs\\detect\\road_features_yolo_inference\\a.avi: 480x640 (no detections), 116.9ms\n",
      "video 1/1 (frame 742/0) E:\\JupyterNotebooks\\Road_problem\\runs\\detect\\road_features_yolo_inference\\a.avi: 480x640 1 Plain road, 111.4ms\n",
      "video 1/1 (frame 743/0) E:\\JupyterNotebooks\\Road_problem\\runs\\detect\\road_features_yolo_inference\\a.avi: 480x640 1 Plain road, 155.0ms\n",
      "video 1/1 (frame 744/0) E:\\JupyterNotebooks\\Road_problem\\runs\\detect\\road_features_yolo_inference\\a.avi: 480x640 (no detections), 212.6ms\n",
      "video 1/1 (frame 745/0) E:\\JupyterNotebooks\\Road_problem\\runs\\detect\\road_features_yolo_inference\\a.avi: 480x640 (no detections), 250.9ms\n",
      "video 1/1 (frame 746/0) E:\\JupyterNotebooks\\Road_problem\\runs\\detect\\road_features_yolo_inference\\a.avi: 480x640 (no detections), 168.6ms\n",
      "video 1/1 (frame 747/0) E:\\JupyterNotebooks\\Road_problem\\runs\\detect\\road_features_yolo_inference\\a.avi: 480x640 (no detections), 255.8ms\n",
      "video 1/1 (frame 748/0) E:\\JupyterNotebooks\\Road_problem\\runs\\detect\\road_features_yolo_inference\\a.avi: 480x640 (no detections), 251.7ms\n",
      "video 1/1 (frame 749/0) E:\\JupyterNotebooks\\Road_problem\\runs\\detect\\road_features_yolo_inference\\a.avi: 480x640 (no detections), 199.3ms\n",
      "video 1/1 (frame 750/0) E:\\JupyterNotebooks\\Road_problem\\runs\\detect\\road_features_yolo_inference\\a.avi: 480x640 (no detections), 225.4ms\n",
      "video 1/1 (frame 751/0) E:\\JupyterNotebooks\\Road_problem\\runs\\detect\\road_features_yolo_inference\\a.avi: 480x640 (no detections), 239.3ms\n",
      "video 1/1 (frame 752/0) E:\\JupyterNotebooks\\Road_problem\\runs\\detect\\road_features_yolo_inference\\a.avi: 480x640 (no detections), 176.6ms\n",
      "video 1/1 (frame 753/0) E:\\JupyterNotebooks\\Road_problem\\runs\\detect\\road_features_yolo_inference\\a.avi: 480x640 (no detections), 257.9ms\n",
      "video 1/1 (frame 754/0) E:\\JupyterNotebooks\\Road_problem\\runs\\detect\\road_features_yolo_inference\\a.avi: 480x640 (no detections), 141.0ms\n",
      "video 1/1 (frame 755/0) E:\\JupyterNotebooks\\Road_problem\\runs\\detect\\road_features_yolo_inference\\a.avi: 480x640 (no detections), 162.8ms\n",
      "video 1/1 (frame 756/0) E:\\JupyterNotebooks\\Road_problem\\runs\\detect\\road_features_yolo_inference\\a.avi: 480x640 (no detections), 165.0ms\n",
      "video 1/1 (frame 757/0) E:\\JupyterNotebooks\\Road_problem\\runs\\detect\\road_features_yolo_inference\\a.avi: 480x640 (no detections), 165.2ms\n",
      "video 1/1 (frame 758/0) E:\\JupyterNotebooks\\Road_problem\\runs\\detect\\road_features_yolo_inference\\a.avi: 480x640 (no detections), 200.1ms\n",
      "video 1/1 (frame 759/0) E:\\JupyterNotebooks\\Road_problem\\runs\\detect\\road_features_yolo_inference\\a.avi: 480x640 (no detections), 145.5ms\n",
      "video 1/1 (frame 760/0) E:\\JupyterNotebooks\\Road_problem\\runs\\detect\\road_features_yolo_inference\\a.avi: 480x640 (no detections), 248.5ms\n",
      "video 1/1 (frame 761/0) E:\\JupyterNotebooks\\Road_problem\\runs\\detect\\road_features_yolo_inference\\a.avi: 480x640 (no detections), 260.9ms\n",
      "video 1/1 (frame 762/0) E:\\JupyterNotebooks\\Road_problem\\runs\\detect\\road_features_yolo_inference\\a.avi: 480x640 (no detections), 249.3ms\n",
      "video 1/1 (frame 763/0) E:\\JupyterNotebooks\\Road_problem\\runs\\detect\\road_features_yolo_inference\\a.avi: 480x640 (no detections), 254.9ms\n",
      "video 1/1 (frame 764/0) E:\\JupyterNotebooks\\Road_problem\\runs\\detect\\road_features_yolo_inference\\a.avi: 480x640 (no detections), 248.4ms\n",
      "video 1/1 (frame 765/0) E:\\JupyterNotebooks\\Road_problem\\runs\\detect\\road_features_yolo_inference\\a.avi: 480x640 (no detections), 256.4ms\n",
      "video 1/1 (frame 766/0) E:\\JupyterNotebooks\\Road_problem\\runs\\detect\\road_features_yolo_inference\\a.avi: 480x640 (no detections), 236.5ms\n",
      "video 1/1 (frame 767/0) E:\\JupyterNotebooks\\Road_problem\\runs\\detect\\road_features_yolo_inference\\a.avi: 480x640 (no detections), 248.6ms\n",
      "video 1/1 (frame 768/0) E:\\JupyterNotebooks\\Road_problem\\runs\\detect\\road_features_yolo_inference\\a.avi: 480x640 (no detections), 253.7ms\n",
      "video 1/1 (frame 769/0) E:\\JupyterNotebooks\\Road_problem\\runs\\detect\\road_features_yolo_inference\\a.avi: 480x640 (no detections), 266.2ms\n",
      "video 1/1 (frame 770/0) E:\\JupyterNotebooks\\Road_problem\\runs\\detect\\road_features_yolo_inference\\a.avi: 480x640 (no detections), 197.8ms\n",
      "video 1/1 (frame 771/0) E:\\JupyterNotebooks\\Road_problem\\runs\\detect\\road_features_yolo_inference\\a.avi: 480x640 1 Plain road, 262.5ms\n",
      "video 1/1 (frame 772/0) E:\\JupyterNotebooks\\Road_problem\\runs\\detect\\road_features_yolo_inference\\a.avi: 480x640 1 Plain road, 252.3ms\n",
      "video 1/1 (frame 773/0) E:\\JupyterNotebooks\\Road_problem\\runs\\detect\\road_features_yolo_inference\\a.avi: 480x640 (no detections), 240.7ms\n",
      "video 1/1 (frame 774/0) E:\\JupyterNotebooks\\Road_problem\\runs\\detect\\road_features_yolo_inference\\a.avi: 480x640 (no detections), 144.2ms\n",
      "video 1/1 (frame 775/0) E:\\JupyterNotebooks\\Road_problem\\runs\\detect\\road_features_yolo_inference\\a.avi: 480x640 (no detections), 258.3ms\n",
      "video 1/1 (frame 776/0) E:\\JupyterNotebooks\\Road_problem\\runs\\detect\\road_features_yolo_inference\\a.avi: 480x640 (no detections), 256.1ms\n",
      "video 1/1 (frame 777/0) E:\\JupyterNotebooks\\Road_problem\\runs\\detect\\road_features_yolo_inference\\a.avi: 480x640 (no detections), 257.3ms\n",
      "video 1/1 (frame 778/0) E:\\JupyterNotebooks\\Road_problem\\runs\\detect\\road_features_yolo_inference\\a.avi: 480x640 (no detections), 256.1ms\n",
      "video 1/1 (frame 779/0) E:\\JupyterNotebooks\\Road_problem\\runs\\detect\\road_features_yolo_inference\\a.avi: 480x640 (no detections), 259.1ms\n",
      "video 1/1 (frame 780/0) E:\\JupyterNotebooks\\Road_problem\\runs\\detect\\road_features_yolo_inference\\a.avi: 480x640 (no detections), 256.3ms\n",
      "video 1/1 (frame 781/0) E:\\JupyterNotebooks\\Road_problem\\runs\\detect\\road_features_yolo_inference\\a.avi: 480x640 (no detections), 266.0ms\n",
      "video 1/1 (frame 782/0) E:\\JupyterNotebooks\\Road_problem\\runs\\detect\\road_features_yolo_inference\\a.avi: 480x640 (no detections), 266.8ms\n",
      "video 1/1 (frame 783/0) E:\\JupyterNotebooks\\Road_problem\\runs\\detect\\road_features_yolo_inference\\a.avi: 480x640 (no detections), 257.0ms\n",
      "video 1/1 (frame 784/0) E:\\JupyterNotebooks\\Road_problem\\runs\\detect\\road_features_yolo_inference\\a.avi: 480x640 1 Divider, 259.6ms\n",
      "video 1/1 (frame 785/0) E:\\JupyterNotebooks\\Road_problem\\runs\\detect\\road_features_yolo_inference\\a.avi: 480x640 1 Divider, 188.4ms\n",
      "video 1/1 (frame 786/0) E:\\JupyterNotebooks\\Road_problem\\runs\\detect\\road_features_yolo_inference\\a.avi: 480x640 1 Divider, 243.3ms\n",
      "video 1/1 (frame 787/0) E:\\JupyterNotebooks\\Road_problem\\runs\\detect\\road_features_yolo_inference\\a.avi: 480x640 (no detections), 249.8ms\n",
      "video 1/1 (frame 788/0) E:\\JupyterNotebooks\\Road_problem\\runs\\detect\\road_features_yolo_inference\\a.avi: 480x640 (no detections), 259.3ms\n",
      "video 1/1 (frame 789/0) E:\\JupyterNotebooks\\Road_problem\\runs\\detect\\road_features_yolo_inference\\a.avi: 480x640 (no detections), 253.8ms\n",
      "video 1/1 (frame 790/0) E:\\JupyterNotebooks\\Road_problem\\runs\\detect\\road_features_yolo_inference\\a.avi: 480x640 (no detections), 258.3ms\n",
      "video 1/1 (frame 791/0) E:\\JupyterNotebooks\\Road_problem\\runs\\detect\\road_features_yolo_inference\\a.avi: 480x640 (no detections), 250.5ms\n",
      "video 1/1 (frame 792/0) E:\\JupyterNotebooks\\Road_problem\\runs\\detect\\road_features_yolo_inference\\a.avi: 480x640 (no detections), 156.9ms\n",
      "video 1/1 (frame 793/0) E:\\JupyterNotebooks\\Road_problem\\runs\\detect\\road_features_yolo_inference\\a.avi: 480x640 (no detections), 162.6ms\n",
      "video 1/1 (frame 794/0) E:\\JupyterNotebooks\\Road_problem\\runs\\detect\\road_features_yolo_inference\\a.avi: 480x640 (no detections), 153.9ms\n",
      "video 1/1 (frame 795/0) E:\\JupyterNotebooks\\Road_problem\\runs\\detect\\road_features_yolo_inference\\a.avi: 480x640 (no detections), 149.4ms\n",
      "video 1/1 (frame 796/0) E:\\JupyterNotebooks\\Road_problem\\runs\\detect\\road_features_yolo_inference\\a.avi: 480x640 (no detections), 151.9ms\n",
      "video 1/1 (frame 797/0) E:\\JupyterNotebooks\\Road_problem\\runs\\detect\\road_features_yolo_inference\\a.avi: 480x640 (no detections), 211.9ms\n",
      "video 1/1 (frame 798/0) E:\\JupyterNotebooks\\Road_problem\\runs\\detect\\road_features_yolo_inference\\a.avi: 480x640 (no detections), 259.4ms\n",
      "video 1/1 (frame 799/0) E:\\JupyterNotebooks\\Road_problem\\runs\\detect\\road_features_yolo_inference\\a.avi: 480x640 (no detections), 270.7ms\n",
      "video 1/1 (frame 800/0) E:\\JupyterNotebooks\\Road_problem\\runs\\detect\\road_features_yolo_inference\\a.avi: 480x640 (no detections), 260.4ms\n",
      "video 1/1 (frame 801/0) E:\\JupyterNotebooks\\Road_problem\\runs\\detect\\road_features_yolo_inference\\a.avi: 480x640 (no detections), 249.1ms\n",
      "video 1/1 (frame 802/0) E:\\JupyterNotebooks\\Road_problem\\runs\\detect\\road_features_yolo_inference\\a.avi: 480x640 (no detections), 253.1ms\n",
      "video 1/1 (frame 803/0) E:\\JupyterNotebooks\\Road_problem\\runs\\detect\\road_features_yolo_inference\\a.avi: 480x640 (no detections), 224.3ms\n",
      "video 1/1 (frame 804/0) E:\\JupyterNotebooks\\Road_problem\\runs\\detect\\road_features_yolo_inference\\a.avi: 480x640 1 Cracks, 253.8ms\n",
      "video 1/1 (frame 805/0) E:\\JupyterNotebooks\\Road_problem\\runs\\detect\\road_features_yolo_inference\\a.avi: 480x640 1 Cracks, 258.0ms\n",
      "video 1/1 (frame 806/0) E:\\JupyterNotebooks\\Road_problem\\runs\\detect\\road_features_yolo_inference\\a.avi: 480x640 1 Cracks, 280.5ms\n",
      "video 1/1 (frame 807/0) E:\\JupyterNotebooks\\Road_problem\\runs\\detect\\road_features_yolo_inference\\a.avi: 480x640 (no detections), 255.0ms\n",
      "video 1/1 (frame 808/0) E:\\JupyterNotebooks\\Road_problem\\runs\\detect\\road_features_yolo_inference\\a.avi: 480x640 1 Cracks, 258.2ms\n",
      "video 1/1 (frame 809/0) E:\\JupyterNotebooks\\Road_problem\\runs\\detect\\road_features_yolo_inference\\a.avi: 480x640 (no detections), 251.5ms\n",
      "video 1/1 (frame 810/0) E:\\JupyterNotebooks\\Road_problem\\runs\\detect\\road_features_yolo_inference\\a.avi: 480x640 (no detections), 253.7ms\n",
      "video 1/1 (frame 811/0) E:\\JupyterNotebooks\\Road_problem\\runs\\detect\\road_features_yolo_inference\\a.avi: 480x640 1 Cracks, 318.3ms\n",
      "video 1/1 (frame 812/0) E:\\JupyterNotebooks\\Road_problem\\runs\\detect\\road_features_yolo_inference\\a.avi: 480x640 (no detections), 221.9ms\n",
      "video 1/1 (frame 813/0) E:\\JupyterNotebooks\\Road_problem\\runs\\detect\\road_features_yolo_inference\\a.avi: 480x640 1 Cracks, 257.0ms\n",
      "video 1/1 (frame 814/0) E:\\JupyterNotebooks\\Road_problem\\runs\\detect\\road_features_yolo_inference\\a.avi: 480x640 1 Cracks, 260.8ms\n",
      "video 1/1 (frame 815/0) E:\\JupyterNotebooks\\Road_problem\\runs\\detect\\road_features_yolo_inference\\a.avi: 480x640 (no detections), 159.6ms\n",
      "video 1/1 (frame 816/0) E:\\JupyterNotebooks\\Road_problem\\runs\\detect\\road_features_yolo_inference\\a.avi: 480x640 (no detections), 258.1ms\n",
      "video 1/1 (frame 817/0) E:\\JupyterNotebooks\\Road_problem\\runs\\detect\\road_features_yolo_inference\\a.avi: 480x640 (no detections), 254.8ms\n",
      "video 1/1 (frame 818/0) E:\\JupyterNotebooks\\Road_problem\\runs\\detect\\road_features_yolo_inference\\a.avi: 480x640 (no detections), 254.5ms\n",
      "video 1/1 (frame 819/0) E:\\JupyterNotebooks\\Road_problem\\runs\\detect\\road_features_yolo_inference\\a.avi: 480x640 (no detections), 268.3ms\n",
      "video 1/1 (frame 820/0) E:\\JupyterNotebooks\\Road_problem\\runs\\detect\\road_features_yolo_inference\\a.avi: 480x640 1 Cracks, 251.3ms\n",
      "video 1/1 (frame 821/0) E:\\JupyterNotebooks\\Road_problem\\runs\\detect\\road_features_yolo_inference\\a.avi: 480x640 1 Cracks, 181.0ms\n",
      "video 1/1 (frame 822/0) E:\\JupyterNotebooks\\Road_problem\\runs\\detect\\road_features_yolo_inference\\a.avi: 480x640 (no detections), 160.7ms\n",
      "video 1/1 (frame 823/0) E:\\JupyterNotebooks\\Road_problem\\runs\\detect\\road_features_yolo_inference\\a.avi: 480x640 (no detections), 165.0ms\n",
      "video 1/1 (frame 824/0) E:\\JupyterNotebooks\\Road_problem\\runs\\detect\\road_features_yolo_inference\\a.avi: 480x640 (no detections), 160.3ms\n",
      "video 1/1 (frame 825/0) E:\\JupyterNotebooks\\Road_problem\\runs\\detect\\road_features_yolo_inference\\a.avi: 480x640 (no detections), 161.1ms\n",
      "video 1/1 (frame 826/0) E:\\JupyterNotebooks\\Road_problem\\runs\\detect\\road_features_yolo_inference\\a.avi: 480x640 (no detections), 160.7ms\n",
      "video 1/1 (frame 827/0) E:\\JupyterNotebooks\\Road_problem\\runs\\detect\\road_features_yolo_inference\\a.avi: 480x640 (no detections), 184.3ms\n",
      "video 1/1 (frame 828/0) E:\\JupyterNotebooks\\Road_problem\\runs\\detect\\road_features_yolo_inference\\a.avi: 480x640 (no detections), 194.8ms\n",
      "video 1/1 (frame 829/0) E:\\JupyterNotebooks\\Road_problem\\runs\\detect\\road_features_yolo_inference\\a.avi: 480x640 (no detections), 256.1ms\n",
      "video 1/1 (frame 830/0) E:\\JupyterNotebooks\\Road_problem\\runs\\detect\\road_features_yolo_inference\\a.avi: 480x640 (no detections), 249.5ms\n",
      "video 1/1 (frame 831/0) E:\\JupyterNotebooks\\Road_problem\\runs\\detect\\road_features_yolo_inference\\a.avi: 480x640 (no detections), 261.4ms\n",
      "video 1/1 (frame 832/0) E:\\JupyterNotebooks\\Road_problem\\runs\\detect\\road_features_yolo_inference\\a.avi: 480x640 (no detections), 254.2ms\n",
      "video 1/1 (frame 833/0) E:\\JupyterNotebooks\\Road_problem\\runs\\detect\\road_features_yolo_inference\\a.avi: 480x640 (no detections), 266.3ms\n",
      "video 1/1 (frame 834/0) E:\\JupyterNotebooks\\Road_problem\\runs\\detect\\road_features_yolo_inference\\a.avi: 480x640 (no detections), 250.0ms\n",
      "video 1/1 (frame 835/0) E:\\JupyterNotebooks\\Road_problem\\runs\\detect\\road_features_yolo_inference\\a.avi: 480x640 (no detections), 237.2ms\n",
      "video 1/1 (frame 836/0) E:\\JupyterNotebooks\\Road_problem\\runs\\detect\\road_features_yolo_inference\\a.avi: 480x640 (no detections), 252.9ms\n",
      "video 1/1 (frame 837/0) E:\\JupyterNotebooks\\Road_problem\\runs\\detect\\road_features_yolo_inference\\a.avi: 480x640 (no detections), 176.1ms\n",
      "video 1/1 (frame 838/0) E:\\JupyterNotebooks\\Road_problem\\runs\\detect\\road_features_yolo_inference\\a.avi: 480x640 (no detections), 200.7ms\n",
      "video 1/1 (frame 839/0) E:\\JupyterNotebooks\\Road_problem\\runs\\detect\\road_features_yolo_inference\\a.avi: 480x640 (no detections), 246.2ms\n",
      "video 1/1 (frame 840/0) E:\\JupyterNotebooks\\Road_problem\\runs\\detect\\road_features_yolo_inference\\a.avi: 480x640 (no detections), 258.6ms\n",
      "video 1/1 (frame 841/0) E:\\JupyterNotebooks\\Road_problem\\runs\\detect\\road_features_yolo_inference\\a.avi: 480x640 (no detections), 263.5ms\n",
      "video 1/1 (frame 842/0) E:\\JupyterNotebooks\\Road_problem\\runs\\detect\\road_features_yolo_inference\\a.avi: 480x640 (no detections), 260.2ms\n",
      "video 1/1 (frame 843/0) E:\\JupyterNotebooks\\Road_problem\\runs\\detect\\road_features_yolo_inference\\a.avi: 480x640 (no detections), 336.8ms\n",
      "video 1/1 (frame 844/0) E:\\JupyterNotebooks\\Road_problem\\runs\\detect\\road_features_yolo_inference\\a.avi: 480x640 (no detections), 267.1ms\n",
      "video 1/1 (frame 845/0) E:\\JupyterNotebooks\\Road_problem\\runs\\detect\\road_features_yolo_inference\\a.avi: 480x640 (no detections), 247.9ms\n",
      "video 1/1 (frame 846/0) E:\\JupyterNotebooks\\Road_problem\\runs\\detect\\road_features_yolo_inference\\a.avi: 480x640 (no detections), 257.2ms\n",
      "video 1/1 (frame 847/0) E:\\JupyterNotebooks\\Road_problem\\runs\\detect\\road_features_yolo_inference\\a.avi: 480x640 (no detections), 255.8ms\n",
      "video 1/1 (frame 848/0) E:\\JupyterNotebooks\\Road_problem\\runs\\detect\\road_features_yolo_inference\\a.avi: 480x640 (no detections), 259.3ms\n",
      "video 1/1 (frame 849/0) E:\\JupyterNotebooks\\Road_problem\\runs\\detect\\road_features_yolo_inference\\a.avi: 480x640 (no detections), 258.5ms\n",
      "video 1/1 (frame 850/0) E:\\JupyterNotebooks\\Road_problem\\runs\\detect\\road_features_yolo_inference\\a.avi: 480x640 (no detections), 201.6ms\n",
      "video 1/1 (frame 851/0) E:\\JupyterNotebooks\\Road_problem\\runs\\detect\\road_features_yolo_inference\\a.avi: 480x640 (no detections), 256.8ms\n",
      "video 1/1 (frame 852/0) E:\\JupyterNotebooks\\Road_problem\\runs\\detect\\road_features_yolo_inference\\a.avi: 480x640 (no detections), 160.4ms\n",
      "video 1/1 (frame 853/0) E:\\JupyterNotebooks\\Road_problem\\runs\\detect\\road_features_yolo_inference\\a.avi: 480x640 (no detections), 163.2ms\n",
      "video 1/1 (frame 854/0) E:\\JupyterNotebooks\\Road_problem\\runs\\detect\\road_features_yolo_inference\\a.avi: 480x640 (no detections), 162.4ms\n",
      "video 1/1 (frame 855/0) E:\\JupyterNotebooks\\Road_problem\\runs\\detect\\road_features_yolo_inference\\a.avi: 480x640 (no detections), 160.4ms\n",
      "video 1/1 (frame 856/0) E:\\JupyterNotebooks\\Road_problem\\runs\\detect\\road_features_yolo_inference\\a.avi: 480x640 (no detections), 154.9ms\n",
      "video 1/1 (frame 857/0) E:\\JupyterNotebooks\\Road_problem\\runs\\detect\\road_features_yolo_inference\\a.avi: 480x640 (no detections), 152.6ms\n",
      "video 1/1 (frame 858/0) E:\\JupyterNotebooks\\Road_problem\\runs\\detect\\road_features_yolo_inference\\a.avi: 480x640 (no detections), 248.6ms\n",
      "video 1/1 (frame 859/0) E:\\JupyterNotebooks\\Road_problem\\runs\\detect\\road_features_yolo_inference\\a.avi: 480x640 (no detections), 197.6ms\n",
      "video 1/1 (frame 860/0) E:\\JupyterNotebooks\\Road_problem\\runs\\detect\\road_features_yolo_inference\\a.avi: 480x640 (no detections), 260.9ms\n",
      "video 1/1 (frame 861/0) E:\\JupyterNotebooks\\Road_problem\\runs\\detect\\road_features_yolo_inference\\a.avi: 480x640 (no detections), 257.5ms\n",
      "video 1/1 (frame 862/0) E:\\JupyterNotebooks\\Road_problem\\runs\\detect\\road_features_yolo_inference\\a.avi: 480x640 (no detections), 260.3ms\n",
      "video 1/1 (frame 863/0) E:\\JupyterNotebooks\\Road_problem\\runs\\detect\\road_features_yolo_inference\\a.avi: 480x640 (no detections), 184.7ms\n",
      "video 1/1 (frame 864/0) E:\\JupyterNotebooks\\Road_problem\\runs\\detect\\road_features_yolo_inference\\a.avi: 480x640 (no detections), 194.1ms\n",
      "video 1/1 (frame 865/0) E:\\JupyterNotebooks\\Road_problem\\runs\\detect\\road_features_yolo_inference\\a.avi: 480x640 (no detections), 256.5ms\n",
      "video 1/1 (frame 866/0) E:\\JupyterNotebooks\\Road_problem\\runs\\detect\\road_features_yolo_inference\\a.avi: 480x640 (no detections), 254.0ms\n",
      "video 1/1 (frame 867/0) E:\\JupyterNotebooks\\Road_problem\\runs\\detect\\road_features_yolo_inference\\a.avi: 480x640 (no detections), 214.6ms\n",
      "video 1/1 (frame 868/0) E:\\JupyterNotebooks\\Road_problem\\runs\\detect\\road_features_yolo_inference\\a.avi: 480x640 (no detections), 259.7ms\n",
      "video 1/1 (frame 869/0) E:\\JupyterNotebooks\\Road_problem\\runs\\detect\\road_features_yolo_inference\\a.avi: 480x640 (no detections), 260.6ms\n",
      "video 1/1 (frame 870/0) E:\\JupyterNotebooks\\Road_problem\\runs\\detect\\road_features_yolo_inference\\a.avi: 480x640 (no detections), 243.8ms\n",
      "video 1/1 (frame 871/0) E:\\JupyterNotebooks\\Road_problem\\runs\\detect\\road_features_yolo_inference\\a.avi: 480x640 (no detections), 245.3ms\n",
      "video 1/1 (frame 872/0) E:\\JupyterNotebooks\\Road_problem\\runs\\detect\\road_features_yolo_inference\\a.avi: 480x640 (no detections), 257.2ms\n",
      "video 1/1 (frame 873/0) E:\\JupyterNotebooks\\Road_problem\\runs\\detect\\road_features_yolo_inference\\a.avi: 480x640 (no detections), 260.0ms\n",
      "video 1/1 (frame 874/0) E:\\JupyterNotebooks\\Road_problem\\runs\\detect\\road_features_yolo_inference\\a.avi: 480x640 (no detections), 201.5ms\n",
      "video 1/1 (frame 875/0) E:\\JupyterNotebooks\\Road_problem\\runs\\detect\\road_features_yolo_inference\\a.avi: 480x640 (no detections), 255.5ms\n",
      "video 1/1 (frame 876/0) E:\\JupyterNotebooks\\Road_problem\\runs\\detect\\road_features_yolo_inference\\a.avi: 480x640 (no detections), 259.1ms\n",
      "video 1/1 (frame 877/0) E:\\JupyterNotebooks\\Road_problem\\runs\\detect\\road_features_yolo_inference\\a.avi: 480x640 (no detections), 254.0ms\n",
      "video 1/1 (frame 878/0) E:\\JupyterNotebooks\\Road_problem\\runs\\detect\\road_features_yolo_inference\\a.avi: 480x640 (no detections), 257.9ms\n",
      "video 1/1 (frame 879/0) E:\\JupyterNotebooks\\Road_problem\\runs\\detect\\road_features_yolo_inference\\a.avi: 480x640 (no detections), 257.8ms\n",
      "video 1/1 (frame 880/0) E:\\JupyterNotebooks\\Road_problem\\runs\\detect\\road_features_yolo_inference\\a.avi: 480x640 1 Plain road, 253.6ms\n",
      "video 1/1 (frame 881/0) E:\\JupyterNotebooks\\Road_problem\\runs\\detect\\road_features_yolo_inference\\a.avi: 480x640 1 Plain road, 252.4ms\n",
      "video 1/1 (frame 882/0) E:\\JupyterNotebooks\\Road_problem\\runs\\detect\\road_features_yolo_inference\\a.avi: 480x640 1 Plain road, 1 Cracks, 255.0ms\n",
      "video 1/1 (frame 883/0) E:\\JupyterNotebooks\\Road_problem\\runs\\detect\\road_features_yolo_inference\\a.avi: 480x640 1 Plain road, 1 Cracks, 255.8ms\n",
      "video 1/1 (frame 884/0) E:\\JupyterNotebooks\\Road_problem\\runs\\detect\\road_features_yolo_inference\\a.avi: 480x640 (no detections), 258.3ms\n",
      "video 1/1 (frame 885/0) E:\\JupyterNotebooks\\Road_problem\\runs\\detect\\road_features_yolo_inference\\a.avi: 480x640 (no detections), 200.0ms\n",
      "video 1/1 (frame 886/0) E:\\JupyterNotebooks\\Road_problem\\runs\\detect\\road_features_yolo_inference\\a.avi: 480x640 (no detections), 127.0ms\n",
      "video 1/1 (frame 887/0) E:\\JupyterNotebooks\\Road_problem\\runs\\detect\\road_features_yolo_inference\\a.avi: 480x640 (no detections), 132.6ms\n",
      "video 1/1 (frame 888/0) E:\\JupyterNotebooks\\Road_problem\\runs\\detect\\road_features_yolo_inference\\a.avi: 480x640 (no detections), 122.9ms\n",
      "video 1/1 (frame 889/0) E:\\JupyterNotebooks\\Road_problem\\runs\\detect\\road_features_yolo_inference\\a.avi: 480x640 (no detections), 127.3ms\n",
      "video 1/1 (frame 890/0) E:\\JupyterNotebooks\\Road_problem\\runs\\detect\\road_features_yolo_inference\\a.avi: 480x640 (no detections), 124.2ms\n",
      "video 1/1 (frame 891/0) E:\\JupyterNotebooks\\Road_problem\\runs\\detect\\road_features_yolo_inference\\a.avi: 480x640 (no detections), 210.8ms\n",
      "video 1/1 (frame 892/0) E:\\JupyterNotebooks\\Road_problem\\runs\\detect\\road_features_yolo_inference\\a.avi: 480x640 (no detections), 177.0ms\n",
      "video 1/1 (frame 893/0) E:\\JupyterNotebooks\\Road_problem\\runs\\detect\\road_features_yolo_inference\\a.avi: 480x640 (no detections), 205.8ms\n",
      "video 1/1 (frame 894/0) E:\\JupyterNotebooks\\Road_problem\\runs\\detect\\road_features_yolo_inference\\a.avi: 480x640 (no detections), 184.5ms\n",
      "video 1/1 (frame 895/0) E:\\JupyterNotebooks\\Road_problem\\runs\\detect\\road_features_yolo_inference\\a.avi: 480x640 (no detections), 171.5ms\n",
      "video 1/1 (frame 896/0) E:\\JupyterNotebooks\\Road_problem\\runs\\detect\\road_features_yolo_inference\\a.avi: 480x640 (no detections), 260.6ms\n",
      "video 1/1 (frame 897/0) E:\\JupyterNotebooks\\Road_problem\\runs\\detect\\road_features_yolo_inference\\a.avi: 480x640 (no detections), 255.3ms\n",
      "video 1/1 (frame 898/0) E:\\JupyterNotebooks\\Road_problem\\runs\\detect\\road_features_yolo_inference\\a.avi: 480x640 (no detections), 259.6ms\n",
      "video 1/1 (frame 899/0) E:\\JupyterNotebooks\\Road_problem\\runs\\detect\\road_features_yolo_inference\\a.avi: 480x640 (no detections), 253.4ms\n",
      "video 1/1 (frame 900/0) E:\\JupyterNotebooks\\Road_problem\\runs\\detect\\road_features_yolo_inference\\a.avi: 480x640 (no detections), 257.6ms\n",
      "video 1/1 (frame 901/0) E:\\JupyterNotebooks\\Road_problem\\runs\\detect\\road_features_yolo_inference\\a.avi: 480x640 (no detections), 262.9ms\n",
      "video 1/1 (frame 902/0) E:\\JupyterNotebooks\\Road_problem\\runs\\detect\\road_features_yolo_inference\\a.avi: 480x640 (no detections), 247.7ms\n",
      "video 1/1 (frame 903/0) E:\\JupyterNotebooks\\Road_problem\\runs\\detect\\road_features_yolo_inference\\a.avi: 480x640 (no detections), 166.8ms\n",
      "video 1/1 (frame 904/0) E:\\JupyterNotebooks\\Road_problem\\runs\\detect\\road_features_yolo_inference\\a.avi: 480x640 (no detections), 207.8ms\n",
      "video 1/1 (frame 905/0) E:\\JupyterNotebooks\\Road_problem\\runs\\detect\\road_features_yolo_inference\\a.avi: 480x640 (no detections), 260.4ms\n",
      "video 1/1 (frame 906/0) E:\\JupyterNotebooks\\Road_problem\\runs\\detect\\road_features_yolo_inference\\a.avi: 480x640 (no detections), 331.4ms\n",
      "video 1/1 (frame 907/0) E:\\JupyterNotebooks\\Road_problem\\runs\\detect\\road_features_yolo_inference\\a.avi: 480x640 (no detections), 259.8ms\n",
      "video 1/1 (frame 908/0) E:\\JupyterNotebooks\\Road_problem\\runs\\detect\\road_features_yolo_inference\\a.avi: 480x640 (no detections), 210.5ms\n",
      "video 1/1 (frame 909/0) E:\\JupyterNotebooks\\Road_problem\\runs\\detect\\road_features_yolo_inference\\a.avi: 480x640 (no detections), 142.3ms\n",
      "video 1/1 (frame 910/0) E:\\JupyterNotebooks\\Road_problem\\runs\\detect\\road_features_yolo_inference\\a.avi: 480x640 (no detections), 191.7ms\n",
      "video 1/1 (frame 911/0) E:\\JupyterNotebooks\\Road_problem\\runs\\detect\\road_features_yolo_inference\\a.avi: 480x640 (no detections), 259.9ms\n",
      "video 1/1 (frame 912/0) E:\\JupyterNotebooks\\Road_problem\\runs\\detect\\road_features_yolo_inference\\a.avi: 480x640 1 Plain road, 261.7ms\n",
      "video 1/1 (frame 913/0) E:\\JupyterNotebooks\\Road_problem\\runs\\detect\\road_features_yolo_inference\\a.avi: 480x640 (no detections), 191.5ms\n",
      "video 1/1 (frame 914/0) E:\\JupyterNotebooks\\Road_problem\\runs\\detect\\road_features_yolo_inference\\a.avi: 480x640 (no detections), 266.3ms\n",
      "video 1/1 (frame 915/0) E:\\JupyterNotebooks\\Road_problem\\runs\\detect\\road_features_yolo_inference\\a.avi: 480x640 (no detections), 225.8ms\n",
      "video 1/1 (frame 916/0) E:\\JupyterNotebooks\\Road_problem\\runs\\detect\\road_features_yolo_inference\\a.avi: 480x640 (no detections), 219.1ms\n",
      "video 1/1 (frame 917/0) E:\\JupyterNotebooks\\Road_problem\\runs\\detect\\road_features_yolo_inference\\a.avi: 480x640 (no detections), 160.6ms\n",
      "video 1/1 (frame 918/0) E:\\JupyterNotebooks\\Road_problem\\runs\\detect\\road_features_yolo_inference\\a.avi: 480x640 (no detections), 152.9ms\n",
      "video 1/1 (frame 919/0) E:\\JupyterNotebooks\\Road_problem\\runs\\detect\\road_features_yolo_inference\\a.avi: 480x640 (no detections), 143.9ms\n",
      "video 1/1 (frame 920/0) E:\\JupyterNotebooks\\Road_problem\\runs\\detect\\road_features_yolo_inference\\a.avi: 480x640 (no detections), 135.4ms\n",
      "video 1/1 (frame 921/0) E:\\JupyterNotebooks\\Road_problem\\runs\\detect\\road_features_yolo_inference\\a.avi: 480x640 (no detections), 139.6ms\n",
      "video 1/1 (frame 922/0) E:\\JupyterNotebooks\\Road_problem\\runs\\detect\\road_features_yolo_inference\\a.avi: 480x640 (no detections), 140.0ms\n",
      "video 1/1 (frame 923/0) E:\\JupyterNotebooks\\Road_problem\\runs\\detect\\road_features_yolo_inference\\a.avi: 480x640 (no detections), 143.2ms\n",
      "video 1/1 (frame 924/0) E:\\JupyterNotebooks\\Road_problem\\runs\\detect\\road_features_yolo_inference\\a.avi: 480x640 (no detections), 171.4ms\n",
      "video 1/1 (frame 925/0) E:\\JupyterNotebooks\\Road_problem\\runs\\detect\\road_features_yolo_inference\\a.avi: 480x640 (no detections), 250.8ms\n",
      "video 1/1 (frame 926/0) E:\\JupyterNotebooks\\Road_problem\\runs\\detect\\road_features_yolo_inference\\a.avi: 480x640 (no detections), 252.4ms\n",
      "video 1/1 (frame 927/0) E:\\JupyterNotebooks\\Road_problem\\runs\\detect\\road_features_yolo_inference\\a.avi: 480x640 (no detections), 251.8ms\n",
      "video 1/1 (frame 928/0) E:\\JupyterNotebooks\\Road_problem\\runs\\detect\\road_features_yolo_inference\\a.avi: 480x640 (no detections), 258.8ms\n",
      "video 1/1 (frame 929/0) E:\\JupyterNotebooks\\Road_problem\\runs\\detect\\road_features_yolo_inference\\a.avi: 480x640 (no detections), 138.9ms\n",
      "video 1/1 (frame 930/0) E:\\JupyterNotebooks\\Road_problem\\runs\\detect\\road_features_yolo_inference\\a.avi: 480x640 (no detections), 255.5ms\n",
      "video 1/1 (frame 931/0) E:\\JupyterNotebooks\\Road_problem\\runs\\detect\\road_features_yolo_inference\\a.avi: 480x640 1 Plain road, 250.1ms\n",
      "video 1/1 (frame 932/0) E:\\JupyterNotebooks\\Road_problem\\runs\\detect\\road_features_yolo_inference\\a.avi: 480x640 1 Plain road, 241.3ms\n",
      "video 1/1 (frame 933/0) E:\\JupyterNotebooks\\Road_problem\\runs\\detect\\road_features_yolo_inference\\a.avi: 480x640 (no detections), 167.7ms\n",
      "video 1/1 (frame 934/0) E:\\JupyterNotebooks\\Road_problem\\runs\\detect\\road_features_yolo_inference\\a.avi: 480x640 (no detections), 254.4ms\n",
      "video 1/1 (frame 935/0) E:\\JupyterNotebooks\\Road_problem\\runs\\detect\\road_features_yolo_inference\\a.avi: 480x640 (no detections), 197.3ms\n",
      "video 1/1 (frame 936/0) E:\\JupyterNotebooks\\Road_problem\\runs\\detect\\road_features_yolo_inference\\a.avi: 480x640 (no detections), 184.1ms\n",
      "video 1/1 (frame 937/0) E:\\JupyterNotebooks\\Road_problem\\runs\\detect\\road_features_yolo_inference\\a.avi: 480x640 (no detections), 174.0ms\n",
      "video 1/1 (frame 938/0) E:\\JupyterNotebooks\\Road_problem\\runs\\detect\\road_features_yolo_inference\\a.avi: 480x640 (no detections), 269.6ms\n",
      "video 1/1 (frame 939/0) E:\\JupyterNotebooks\\Road_problem\\runs\\detect\\road_features_yolo_inference\\a.avi: 480x640 (no detections), 164.8ms\n",
      "video 1/1 (frame 940/0) E:\\JupyterNotebooks\\Road_problem\\runs\\detect\\road_features_yolo_inference\\a.avi: 480x640 (no detections), 286.4ms\n",
      "video 1/1 (frame 941/0) E:\\JupyterNotebooks\\Road_problem\\runs\\detect\\road_features_yolo_inference\\a.avi: 480x640 (no detections), 249.9ms\n",
      "video 1/1 (frame 942/0) E:\\JupyterNotebooks\\Road_problem\\runs\\detect\\road_features_yolo_inference\\a.avi: 480x640 (no detections), 223.8ms\n",
      "video 1/1 (frame 943/0) E:\\JupyterNotebooks\\Road_problem\\runs\\detect\\road_features_yolo_inference\\a.avi: 480x640 (no detections), 255.0ms\n",
      "video 1/1 (frame 944/0) E:\\JupyterNotebooks\\Road_problem\\runs\\detect\\road_features_yolo_inference\\a.avi: 480x640 (no detections), 254.7ms\n",
      "video 1/1 (frame 945/0) E:\\JupyterNotebooks\\Road_problem\\runs\\detect\\road_features_yolo_inference\\a.avi: 480x640 1 Plain road, 253.6ms\n",
      "video 1/1 (frame 946/0) E:\\JupyterNotebooks\\Road_problem\\runs\\detect\\road_features_yolo_inference\\a.avi: 480x640 1 Plain road, 252.2ms\n",
      "video 1/1 (frame 947/0) E:\\JupyterNotebooks\\Road_problem\\runs\\detect\\road_features_yolo_inference\\a.avi: 480x640 (no detections), 253.9ms\n",
      "video 1/1 (frame 948/0) E:\\JupyterNotebooks\\Road_problem\\runs\\detect\\road_features_yolo_inference\\a.avi: 480x640 (no detections), 262.5ms\n",
      "video 1/1 (frame 949/0) E:\\JupyterNotebooks\\Road_problem\\runs\\detect\\road_features_yolo_inference\\a.avi: 480x640 (no detections), 233.2ms\n",
      "video 1/1 (frame 950/0) E:\\JupyterNotebooks\\Road_problem\\runs\\detect\\road_features_yolo_inference\\a.avi: 480x640 (no detections), 237.4ms\n",
      "video 1/1 (frame 951/0) E:\\JupyterNotebooks\\Road_problem\\runs\\detect\\road_features_yolo_inference\\a.avi: 480x640 (no detections), 253.5ms\n",
      "video 1/1 (frame 952/0) E:\\JupyterNotebooks\\Road_problem\\runs\\detect\\road_features_yolo_inference\\a.avi: 480x640 (no detections), 257.2ms\n",
      "video 1/1 (frame 953/0) E:\\JupyterNotebooks\\Road_problem\\runs\\detect\\road_features_yolo_inference\\a.avi: 480x640 1 Divider, 262.2ms\n",
      "video 1/1 (frame 954/0) E:\\JupyterNotebooks\\Road_problem\\runs\\detect\\road_features_yolo_inference\\a.avi: 480x640 1 Divider, 209.6ms\n",
      "video 1/1 (frame 955/0) E:\\JupyterNotebooks\\Road_problem\\runs\\detect\\road_features_yolo_inference\\a.avi: 480x640 (no detections), 155.6ms\n",
      "video 1/1 (frame 956/0) E:\\JupyterNotebooks\\Road_problem\\runs\\detect\\road_features_yolo_inference\\a.avi: 480x640 (no detections), 152.9ms\n",
      "video 1/1 (frame 957/0) E:\\JupyterNotebooks\\Road_problem\\runs\\detect\\road_features_yolo_inference\\a.avi: 480x640 (no detections), 161.4ms\n",
      "video 1/1 (frame 958/0) E:\\JupyterNotebooks\\Road_problem\\runs\\detect\\road_features_yolo_inference\\a.avi: 480x640 (no detections), 152.9ms\n",
      "video 1/1 (frame 959/0) E:\\JupyterNotebooks\\Road_problem\\runs\\detect\\road_features_yolo_inference\\a.avi: 480x640 (no detections), 264.3ms\n",
      "video 1/1 (frame 960/0) E:\\JupyterNotebooks\\Road_problem\\runs\\detect\\road_features_yolo_inference\\a.avi: 480x640 (no detections), 222.0ms\n",
      "video 1/1 (frame 961/0) E:\\JupyterNotebooks\\Road_problem\\runs\\detect\\road_features_yolo_inference\\a.avi: 480x640 (no detections), 158.8ms\n",
      "video 1/1 (frame 962/0) E:\\JupyterNotebooks\\Road_problem\\runs\\detect\\road_features_yolo_inference\\a.avi: 480x640 (no detections), 160.9ms\n",
      "video 1/1 (frame 963/0) E:\\JupyterNotebooks\\Road_problem\\runs\\detect\\road_features_yolo_inference\\a.avi: 480x640 (no detections), 163.5ms\n",
      "video 1/1 (frame 964/0) E:\\JupyterNotebooks\\Road_problem\\runs\\detect\\road_features_yolo_inference\\a.avi: 480x640 (no detections), 148.8ms\n",
      "video 1/1 (frame 965/0) E:\\JupyterNotebooks\\Road_problem\\runs\\detect\\road_features_yolo_inference\\a.avi: 480x640 (no detections), 250.9ms\n",
      "video 1/1 (frame 966/0) E:\\JupyterNotebooks\\Road_problem\\runs\\detect\\road_features_yolo_inference\\a.avi: 480x640 (no detections), 218.5ms\n",
      "video 1/1 (frame 967/0) E:\\JupyterNotebooks\\Road_problem\\runs\\detect\\road_features_yolo_inference\\a.avi: 480x640 (no detections), 263.8ms\n",
      "video 1/1 (frame 968/0) E:\\JupyterNotebooks\\Road_problem\\runs\\detect\\road_features_yolo_inference\\a.avi: 480x640 (no detections), 252.6ms\n",
      "video 1/1 (frame 969/0) E:\\JupyterNotebooks\\Road_problem\\runs\\detect\\road_features_yolo_inference\\a.avi: 480x640 (no detections), 257.1ms\n",
      "video 1/1 (frame 970/0) E:\\JupyterNotebooks\\Road_problem\\runs\\detect\\road_features_yolo_inference\\a.avi: 480x640 (no detections), 243.6ms\n",
      "video 1/1 (frame 971/0) E:\\JupyterNotebooks\\Road_problem\\runs\\detect\\road_features_yolo_inference\\a.avi: 480x640 (no detections), 251.5ms\n",
      "video 1/1 (frame 972/0) E:\\JupyterNotebooks\\Road_problem\\runs\\detect\\road_features_yolo_inference\\a.avi: 480x640 (no detections), 315.1ms\n",
      "video 1/1 (frame 973/0) E:\\JupyterNotebooks\\Road_problem\\runs\\detect\\road_features_yolo_inference\\a.avi: 480x640 (no detections), 255.3ms\n",
      "video 1/1 (frame 974/0) E:\\JupyterNotebooks\\Road_problem\\runs\\detect\\road_features_yolo_inference\\a.avi: 480x640 (no detections), 253.4ms\n",
      "video 1/1 (frame 975/0) E:\\JupyterNotebooks\\Road_problem\\runs\\detect\\road_features_yolo_inference\\a.avi: 480x640 (no detections), 248.7ms\n",
      "video 1/1 (frame 976/0) E:\\JupyterNotebooks\\Road_problem\\runs\\detect\\road_features_yolo_inference\\a.avi: 480x640 (no detections), 260.0ms\n",
      "video 1/1 (frame 977/0) E:\\JupyterNotebooks\\Road_problem\\runs\\detect\\road_features_yolo_inference\\a.avi: 480x640 (no detections), 260.7ms\n",
      "video 1/1 (frame 978/0) E:\\JupyterNotebooks\\Road_problem\\runs\\detect\\road_features_yolo_inference\\a.avi: 480x640 (no detections), 168.9ms\n",
      "video 1/1 (frame 979/0) E:\\JupyterNotebooks\\Road_problem\\runs\\detect\\road_features_yolo_inference\\a.avi: 480x640 (no detections), 174.6ms\n",
      "video 1/1 (frame 980/0) E:\\JupyterNotebooks\\Road_problem\\runs\\detect\\road_features_yolo_inference\\a.avi: 480x640 (no detections), 257.0ms\n",
      "video 1/1 (frame 981/0) E:\\JupyterNotebooks\\Road_problem\\runs\\detect\\road_features_yolo_inference\\a.avi: 480x640 (no detections), 257.7ms\n",
      "video 1/1 (frame 982/0) E:\\JupyterNotebooks\\Road_problem\\runs\\detect\\road_features_yolo_inference\\a.avi: 480x640 (no detections), 256.9ms\n",
      "video 1/1 (frame 983/0) E:\\JupyterNotebooks\\Road_problem\\runs\\detect\\road_features_yolo_inference\\a.avi: 480x640 (no detections), 263.0ms\n",
      "video 1/1 (frame 984/0) E:\\JupyterNotebooks\\Road_problem\\runs\\detect\\road_features_yolo_inference\\a.avi: 480x640 1 Rumble strips, 258.4ms\n",
      "video 1/1 (frame 985/0) E:\\JupyterNotebooks\\Road_problem\\runs\\detect\\road_features_yolo_inference\\a.avi: 480x640 1 Rumble strips, 272.3ms\n",
      "video 1/1 (frame 986/0) E:\\JupyterNotebooks\\Road_problem\\runs\\detect\\road_features_yolo_inference\\a.avi: 480x640 (no detections), 210.7ms\n",
      "video 1/1 (frame 987/0) E:\\JupyterNotebooks\\Road_problem\\runs\\detect\\road_features_yolo_inference\\a.avi: 480x640 (no detections), 230.9ms\n",
      "video 1/1 (frame 988/0) E:\\JupyterNotebooks\\Road_problem\\runs\\detect\\road_features_yolo_inference\\a.avi: 480x640 (no detections), 258.0ms\n",
      "video 1/1 (frame 989/0) E:\\JupyterNotebooks\\Road_problem\\runs\\detect\\road_features_yolo_inference\\a.avi: 480x640 (no detections), 137.3ms\n",
      "video 1/1 (frame 990/0) E:\\JupyterNotebooks\\Road_problem\\runs\\detect\\road_features_yolo_inference\\a.avi: 480x640 (no detections), 252.3ms\n",
      "video 1/1 (frame 991/0) E:\\JupyterNotebooks\\Road_problem\\runs\\detect\\road_features_yolo_inference\\a.avi: 480x640 (no detections), 249.2ms\n",
      "video 1/1 (frame 992/0) E:\\JupyterNotebooks\\Road_problem\\runs\\detect\\road_features_yolo_inference\\a.avi: 480x640 (no detections), 252.1ms\n",
      "video 1/1 (frame 993/0) E:\\JupyterNotebooks\\Road_problem\\runs\\detect\\road_features_yolo_inference\\a.avi: 480x640 (no detections), 245.4ms\n",
      "video 1/1 (frame 994/0) E:\\JupyterNotebooks\\Road_problem\\runs\\detect\\road_features_yolo_inference\\a.avi: 480x640 (no detections), 256.7ms\n",
      "video 1/1 (frame 995/0) E:\\JupyterNotebooks\\Road_problem\\runs\\detect\\road_features_yolo_inference\\a.avi: 480x640 (no detections), 257.8ms\n",
      "video 1/1 (frame 996/0) E:\\JupyterNotebooks\\Road_problem\\runs\\detect\\road_features_yolo_inference\\a.avi: 480x640 (no detections), 117.9ms\n",
      "video 1/1 (frame 997/0) E:\\JupyterNotebooks\\Road_problem\\runs\\detect\\road_features_yolo_inference\\a.avi: 480x640 (no detections), 263.0ms\n",
      "video 1/1 (frame 998/0) E:\\JupyterNotebooks\\Road_problem\\runs\\detect\\road_features_yolo_inference\\a.avi: 480x640 (no detections), 217.0ms\n",
      "video 1/1 (frame 999/0) E:\\JupyterNotebooks\\Road_problem\\runs\\detect\\road_features_yolo_inference\\a.avi: 480x640 (no detections), 260.9ms\n",
      "video 1/1 (frame 1000/0) E:\\JupyterNotebooks\\Road_problem\\runs\\detect\\road_features_yolo_inference\\a.avi: 480x640 (no detections), 258.1ms\n",
      "video 1/1 (frame 1001/0) E:\\JupyterNotebooks\\Road_problem\\runs\\detect\\road_features_yolo_inference\\a.avi: 480x640 (no detections), 256.5ms\n",
      "video 1/1 (frame 1002/0) E:\\JupyterNotebooks\\Road_problem\\runs\\detect\\road_features_yolo_inference\\a.avi: 480x640 (no detections), 301.6ms\n",
      "video 1/1 (frame 1003/0) E:\\JupyterNotebooks\\Road_problem\\runs\\detect\\road_features_yolo_inference\\a.avi: 480x640 (no detections), 182.7ms\n",
      "video 1/1 (frame 1004/0) E:\\JupyterNotebooks\\Road_problem\\runs\\detect\\road_features_yolo_inference\\a.avi: 480x640 (no detections), 248.7ms\n",
      "video 1/1 (frame 1005/0) E:\\JupyterNotebooks\\Road_problem\\runs\\detect\\road_features_yolo_inference\\a.avi: 480x640 (no detections), 245.1ms\n",
      "video 1/1 (frame 1006/0) E:\\JupyterNotebooks\\Road_problem\\runs\\detect\\road_features_yolo_inference\\a.avi: 480x640 (no detections), 235.0ms\n",
      "video 1/1 (frame 1007/0) E:\\JupyterNotebooks\\Road_problem\\runs\\detect\\road_features_yolo_inference\\a.avi: 480x640 (no detections), 188.0ms\n",
      "video 1/1 (frame 1008/0) E:\\JupyterNotebooks\\Road_problem\\runs\\detect\\road_features_yolo_inference\\a.avi: 480x640 (no detections), 242.6ms\n",
      "video 1/1 (frame 1009/0) E:\\JupyterNotebooks\\Road_problem\\runs\\detect\\road_features_yolo_inference\\a.avi: 480x640 (no detections), 256.9ms\n",
      "video 1/1 (frame 1010/0) E:\\JupyterNotebooks\\Road_problem\\runs\\detect\\road_features_yolo_inference\\a.avi: 480x640 (no detections), 251.6ms\n",
      "video 1/1 (frame 1011/0) E:\\JupyterNotebooks\\Road_problem\\runs\\detect\\road_features_yolo_inference\\a.avi: 480x640 (no detections), 251.9ms\n",
      "video 1/1 (frame 1012/0) E:\\JupyterNotebooks\\Road_problem\\runs\\detect\\road_features_yolo_inference\\a.avi: 480x640 (no detections), 158.4ms\n",
      "video 1/1 (frame 1013/0) E:\\JupyterNotebooks\\Road_problem\\runs\\detect\\road_features_yolo_inference\\a.avi: 480x640 (no detections), 159.0ms\n",
      "video 1/1 (frame 1014/0) E:\\JupyterNotebooks\\Road_problem\\runs\\detect\\road_features_yolo_inference\\a.avi: 480x640 (no detections), 159.0ms\n",
      "video 1/1 (frame 1015/0) E:\\JupyterNotebooks\\Road_problem\\runs\\detect\\road_features_yolo_inference\\a.avi: 480x640 (no detections), 157.4ms\n",
      "video 1/1 (frame 1016/0) E:\\JupyterNotebooks\\Road_problem\\runs\\detect\\road_features_yolo_inference\\a.avi: 480x640 (no detections), 157.1ms\n",
      "video 1/1 (frame 1017/0) E:\\JupyterNotebooks\\Road_problem\\runs\\detect\\road_features_yolo_inference\\a.avi: 480x640 (no detections), 177.8ms\n",
      "video 1/1 (frame 1018/0) E:\\JupyterNotebooks\\Road_problem\\runs\\detect\\road_features_yolo_inference\\a.avi: 480x640 (no detections), 256.2ms\n",
      "video 1/1 (frame 1019/0) E:\\JupyterNotebooks\\Road_problem\\runs\\detect\\road_features_yolo_inference\\a.avi: 480x640 (no detections), 255.0ms\n",
      "video 1/1 (frame 1020/0) E:\\JupyterNotebooks\\Road_problem\\runs\\detect\\road_features_yolo_inference\\a.avi: 480x640 (no detections), 252.8ms\n",
      "video 1/1 (frame 1021/0) E:\\JupyterNotebooks\\Road_problem\\runs\\detect\\road_features_yolo_inference\\a.avi: 480x640 (no detections), 252.9ms\n",
      "video 1/1 (frame 1022/0) E:\\JupyterNotebooks\\Road_problem\\runs\\detect\\road_features_yolo_inference\\a.avi: 480x640 (no detections), 246.6ms\n",
      "video 1/1 (frame 1023/0) E:\\JupyterNotebooks\\Road_problem\\runs\\detect\\road_features_yolo_inference\\a.avi: 480x640 (no detections), 259.0ms\n",
      "video 1/1 (frame 1024/0) E:\\JupyterNotebooks\\Road_problem\\runs\\detect\\road_features_yolo_inference\\a.avi: 480x640 (no detections), 263.4ms\n",
      "video 1/1 (frame 1025/0) E:\\JupyterNotebooks\\Road_problem\\runs\\detect\\road_features_yolo_inference\\a.avi: 480x640 (no detections), 270.1ms\n",
      "video 1/1 (frame 1026/0) E:\\JupyterNotebooks\\Road_problem\\runs\\detect\\road_features_yolo_inference\\a.avi: 480x640 (no detections), 264.0ms\n",
      "video 1/1 (frame 1027/0) E:\\JupyterNotebooks\\Road_problem\\runs\\detect\\road_features_yolo_inference\\a.avi: 480x640 (no detections), 215.8ms\n",
      "video 1/1 (frame 1028/0) E:\\JupyterNotebooks\\Road_problem\\runs\\detect\\road_features_yolo_inference\\a.avi: 480x640 (no detections), 259.7ms\n",
      "video 1/1 (frame 1029/0) E:\\JupyterNotebooks\\Road_problem\\runs\\detect\\road_features_yolo_inference\\a.avi: 480x640 (no detections), 253.5ms\n",
      "video 1/1 (frame 1030/0) E:\\JupyterNotebooks\\Road_problem\\runs\\detect\\road_features_yolo_inference\\a.avi: 480x640 (no detections), 251.1ms\n",
      "video 1/1 (frame 1031/0) E:\\JupyterNotebooks\\Road_problem\\runs\\detect\\road_features_yolo_inference\\a.avi: 480x640 (no detections), 258.7ms\n",
      "video 1/1 (frame 1032/0) E:\\JupyterNotebooks\\Road_problem\\runs\\detect\\road_features_yolo_inference\\a.avi: 480x640 (no detections), 255.4ms\n",
      "video 1/1 (frame 1033/0) E:\\JupyterNotebooks\\Road_problem\\runs\\detect\\road_features_yolo_inference\\a.avi: 480x640 (no detections), 183.2ms\n",
      "video 1/1 (frame 1034/0) E:\\JupyterNotebooks\\Road_problem\\runs\\detect\\road_features_yolo_inference\\a.avi: 480x640 (no detections), 245.8ms\n",
      "video 1/1 (frame 1035/0) E:\\JupyterNotebooks\\Road_problem\\runs\\detect\\road_features_yolo_inference\\a.avi: 480x640 (no detections), 265.3ms\n",
      "video 1/1 (frame 1036/0) E:\\JupyterNotebooks\\Road_problem\\runs\\detect\\road_features_yolo_inference\\a.avi: 480x640 (no detections), 148.2ms\n",
      "video 1/1 (frame 1037/0) E:\\JupyterNotebooks\\Road_problem\\runs\\detect\\road_features_yolo_inference\\a.avi: 480x640 (no detections), 255.4ms\n",
      "video 1/1 (frame 1038/0) E:\\JupyterNotebooks\\Road_problem\\runs\\detect\\road_features_yolo_inference\\a.avi: 480x640 (no detections), 258.1ms\n",
      "video 1/1 (frame 1039/0) E:\\JupyterNotebooks\\Road_problem\\runs\\detect\\road_features_yolo_inference\\a.avi: 480x640 (no detections), 260.9ms\n",
      "video 1/1 (frame 1040/0) E:\\JupyterNotebooks\\Road_problem\\runs\\detect\\road_features_yolo_inference\\a.avi: 480x640 2 Dividers, 257.6ms\n",
      "video 1/1 (frame 1041/0) E:\\JupyterNotebooks\\Road_problem\\runs\\detect\\road_features_yolo_inference\\a.avi: 480x640 2 Dividers, 231.5ms\n",
      "video 1/1 (frame 1042/0) E:\\JupyterNotebooks\\Road_problem\\runs\\detect\\road_features_yolo_inference\\a.avi: 480x640 (no detections), 255.7ms\n",
      "video 1/1 (frame 1043/0) E:\\JupyterNotebooks\\Road_problem\\runs\\detect\\road_features_yolo_inference\\a.avi: 480x640 1 Divider, 259.0ms\n",
      "video 1/1 (frame 1044/0) E:\\JupyterNotebooks\\Road_problem\\runs\\detect\\road_features_yolo_inference\\a.avi: 480x640 (no detections), 255.7ms\n",
      "video 1/1 (frame 1045/0) E:\\JupyterNotebooks\\Road_problem\\runs\\detect\\road_features_yolo_inference\\a.avi: 480x640 (no detections), 254.5ms\n",
      "video 1/1 (frame 1046/0) E:\\JupyterNotebooks\\Road_problem\\runs\\detect\\road_features_yolo_inference\\a.avi: 480x640 (no detections), 216.6ms\n",
      "video 1/1 (frame 1047/0) E:\\JupyterNotebooks\\Road_problem\\runs\\detect\\road_features_yolo_inference\\a.avi: 480x640 (no detections), 258.4ms\n",
      "video 1/1 (frame 1048/0) E:\\JupyterNotebooks\\Road_problem\\runs\\detect\\road_features_yolo_inference\\a.avi: 480x640 (no detections), 230.1ms\n",
      "video 1/1 (frame 1049/0) E:\\JupyterNotebooks\\Road_problem\\runs\\detect\\road_features_yolo_inference\\a.avi: 480x640 (no detections), 248.4ms\n",
      "video 1/1 (frame 1050/0) E:\\JupyterNotebooks\\Road_problem\\runs\\detect\\road_features_yolo_inference\\a.avi: 480x640 (no detections), 254.4ms\n",
      "video 1/1 (frame 1051/0) E:\\JupyterNotebooks\\Road_problem\\runs\\detect\\road_features_yolo_inference\\a.avi: 480x640 (no detections), 191.6ms\n",
      "video 1/1 (frame 1052/0) E:\\JupyterNotebooks\\Road_problem\\runs\\detect\\road_features_yolo_inference\\a.avi: 480x640 (no detections), 250.8ms\n",
      "video 1/1 (frame 1053/0) E:\\JupyterNotebooks\\Road_problem\\runs\\detect\\road_features_yolo_inference\\a.avi: 480x640 1 Plain road, 2 Dividers, 264.4ms\n",
      "video 1/1 (frame 1054/0) E:\\JupyterNotebooks\\Road_problem\\runs\\detect\\road_features_yolo_inference\\a.avi: 480x640 1 Plain road, 2 Dividers, 254.8ms\n",
      "video 1/1 (frame 1055/0) E:\\JupyterNotebooks\\Road_problem\\runs\\detect\\road_features_yolo_inference\\a.avi: 480x640 1 Plain road, 2 Dividers, 187.1ms\n",
      "video 1/1 (frame 1056/0) E:\\JupyterNotebooks\\Road_problem\\runs\\detect\\road_features_yolo_inference\\a.avi: 480x640 1 Plain road, 3 Dividers, 257.8ms\n",
      "video 1/1 (frame 1057/0) E:\\JupyterNotebooks\\Road_problem\\runs\\detect\\road_features_yolo_inference\\a.avi: 480x640 (no detections), 255.1ms\n",
      "video 1/1 (frame 1058/0) E:\\JupyterNotebooks\\Road_problem\\runs\\detect\\road_features_yolo_inference\\a.avi: 480x640 4 Dividers, 257.5ms\n",
      "video 1/1 (frame 1059/0) E:\\JupyterNotebooks\\Road_problem\\runs\\detect\\road_features_yolo_inference\\a.avi: 480x640 2 Dividers, 264.8ms\n",
      "video 1/1 (frame 1060/0) E:\\JupyterNotebooks\\Road_problem\\runs\\detect\\road_features_yolo_inference\\a.avi: 480x640 (no detections), 260.5ms\n",
      "video 1/1 (frame 1061/0) E:\\JupyterNotebooks\\Road_problem\\runs\\detect\\road_features_yolo_inference\\a.avi: 480x640 1 Divider, 253.4ms\n",
      "video 1/1 (frame 1062/0) E:\\JupyterNotebooks\\Road_problem\\runs\\detect\\road_features_yolo_inference\\a.avi: 480x640 (no detections), 258.5ms\n",
      "video 1/1 (frame 1063/0) E:\\JupyterNotebooks\\Road_problem\\runs\\detect\\road_features_yolo_inference\\a.avi: 480x640 (no detections), 157.7ms\n",
      "video 1/1 (frame 1064/0) E:\\JupyterNotebooks\\Road_problem\\runs\\detect\\road_features_yolo_inference\\a.avi: 480x640 (no detections), 154.3ms\n",
      "video 1/1 (frame 1065/0) E:\\JupyterNotebooks\\Road_problem\\runs\\detect\\road_features_yolo_inference\\a.avi: 480x640 (no detections), 164.2ms\n",
      "video 1/1 (frame 1066/0) E:\\JupyterNotebooks\\Road_problem\\runs\\detect\\road_features_yolo_inference\\a.avi: 480x640 (no detections), 170.7ms\n",
      "video 1/1 (frame 1067/0) E:\\JupyterNotebooks\\Road_problem\\runs\\detect\\road_features_yolo_inference\\a.avi: 480x640 (no detections), 180.4ms\n",
      "video 1/1 (frame 1068/0) E:\\JupyterNotebooks\\Road_problem\\runs\\detect\\road_features_yolo_inference\\a.avi: 480x640 (no detections), 262.1ms\n",
      "video 1/1 (frame 1069/0) E:\\JupyterNotebooks\\Road_problem\\runs\\detect\\road_features_yolo_inference\\a.avi: 480x640 (no detections), 254.0ms\n",
      "video 1/1 (frame 1070/0) E:\\JupyterNotebooks\\Road_problem\\runs\\detect\\road_features_yolo_inference\\a.avi: 480x640 (no detections), 255.3ms\n",
      "video 1/1 (frame 1071/0) E:\\JupyterNotebooks\\Road_problem\\runs\\detect\\road_features_yolo_inference\\a.avi: 480x640 3 Dividers, 253.8ms\n",
      "video 1/1 (frame 1072/0) E:\\JupyterNotebooks\\Road_problem\\runs\\detect\\road_features_yolo_inference\\a.avi: 480x640 2 Dividers, 252.4ms\n",
      "video 1/1 (frame 1073/0) E:\\JupyterNotebooks\\Road_problem\\runs\\detect\\road_features_yolo_inference\\a.avi: 480x640 (no detections), 257.5ms\n",
      "video 1/1 (frame 1074/0) E:\\JupyterNotebooks\\Road_problem\\runs\\detect\\road_features_yolo_inference\\a.avi: 480x640 (no detections), 211.6ms\n",
      "video 1/1 (frame 1075/0) E:\\JupyterNotebooks\\Road_problem\\runs\\detect\\road_features_yolo_inference\\a.avi: 480x640 (no detections), 254.1ms\n",
      "video 1/1 (frame 1076/0) E:\\JupyterNotebooks\\Road_problem\\runs\\detect\\road_features_yolo_inference\\a.avi: 480x640 (no detections), 263.4ms\n",
      "video 1/1 (frame 1077/0) E:\\JupyterNotebooks\\Road_problem\\runs\\detect\\road_features_yolo_inference\\a.avi: 480x640 (no detections), 234.0ms\n",
      "video 1/1 (frame 1078/0) E:\\JupyterNotebooks\\Road_problem\\runs\\detect\\road_features_yolo_inference\\a.avi: 480x640 (no detections), 255.0ms\n",
      "video 1/1 (frame 1079/0) E:\\JupyterNotebooks\\Road_problem\\runs\\detect\\road_features_yolo_inference\\a.avi: 480x640 (no detections), 244.3ms\n",
      "video 1/1 (frame 1080/0) E:\\JupyterNotebooks\\Road_problem\\runs\\detect\\road_features_yolo_inference\\a.avi: 480x640 1 Divider, 262.3ms\n",
      "video 1/1 (frame 1081/0) E:\\JupyterNotebooks\\Road_problem\\runs\\detect\\road_features_yolo_inference\\a.avi: 480x640 (no detections), 200.4ms\n",
      "video 1/1 (frame 1082/0) E:\\JupyterNotebooks\\Road_problem\\runs\\detect\\road_features_yolo_inference\\a.avi: 480x640 1 Divider, 210.0ms\n",
      "video 1/1 (frame 1083/0) E:\\JupyterNotebooks\\Road_problem\\runs\\detect\\road_features_yolo_inference\\a.avi: 480x640 (no detections), 259.1ms\n",
      "video 1/1 (frame 1084/0) E:\\JupyterNotebooks\\Road_problem\\runs\\detect\\road_features_yolo_inference\\a.avi: 480x640 (no detections), 259.2ms\n",
      "video 1/1 (frame 1085/0) E:\\JupyterNotebooks\\Road_problem\\runs\\detect\\road_features_yolo_inference\\a.avi: 480x640 (no detections), 242.2ms\n",
      "video 1/1 (frame 1086/0) E:\\JupyterNotebooks\\Road_problem\\runs\\detect\\road_features_yolo_inference\\a.avi: 480x640 (no detections), 249.2ms\n",
      "video 1/1 (frame 1087/0) E:\\JupyterNotebooks\\Road_problem\\runs\\detect\\road_features_yolo_inference\\a.avi: 480x640 1 Divider, 260.0ms\n",
      "video 1/1 (frame 1088/0) E:\\JupyterNotebooks\\Road_problem\\runs\\detect\\road_features_yolo_inference\\a.avi: 480x640 (no detections), 175.8ms\n",
      "video 1/1 (frame 1089/0) E:\\JupyterNotebooks\\Road_problem\\runs\\detect\\road_features_yolo_inference\\a.avi: 480x640 (no detections), 254.7ms\n",
      "video 1/1 (frame 1090/0) E:\\JupyterNotebooks\\Road_problem\\runs\\detect\\road_features_yolo_inference\\a.avi: 480x640 1 Divider, 225.0ms\n",
      "video 1/1 (frame 1091/0) E:\\JupyterNotebooks\\Road_problem\\runs\\detect\\road_features_yolo_inference\\a.avi: 480x640 2 Dividers, 175.3ms\n",
      "video 1/1 (frame 1092/0) E:\\JupyterNotebooks\\Road_problem\\runs\\detect\\road_features_yolo_inference\\a.avi: 480x640 1 Divider, 187.1ms\n",
      "video 1/1 (frame 1093/0) E:\\JupyterNotebooks\\Road_problem\\runs\\detect\\road_features_yolo_inference\\a.avi: 480x640 (no detections), 250.6ms\n",
      "video 1/1 (frame 1094/0) E:\\JupyterNotebooks\\Road_problem\\runs\\detect\\road_features_yolo_inference\\a.avi: 480x640 (no detections), 127.8ms\n",
      "video 1/1 (frame 1095/0) E:\\JupyterNotebooks\\Road_problem\\runs\\detect\\road_features_yolo_inference\\a.avi: 480x640 (no detections), 185.5ms\n",
      "video 1/1 (frame 1096/0) E:\\JupyterNotebooks\\Road_problem\\runs\\detect\\road_features_yolo_inference\\a.avi: 480x640 (no detections), 188.5ms\n",
      "video 1/1 (frame 1097/0) E:\\JupyterNotebooks\\Road_problem\\runs\\detect\\road_features_yolo_inference\\a.avi: 480x640 (no detections), 255.3ms\n",
      "video 1/1 (frame 1098/0) E:\\JupyterNotebooks\\Road_problem\\runs\\detect\\road_features_yolo_inference\\a.avi: 480x640 1 Divider, 252.9ms\n",
      "video 1/1 (frame 1099/0) E:\\JupyterNotebooks\\Road_problem\\runs\\detect\\road_features_yolo_inference\\a.avi: 480x640 1 Divider, 104.5ms\n",
      "video 1/1 (frame 1100/0) E:\\JupyterNotebooks\\Road_problem\\runs\\detect\\road_features_yolo_inference\\a.avi: 480x640 (no detections), 252.5ms\n",
      "video 1/1 (frame 1101/0) E:\\JupyterNotebooks\\Road_problem\\runs\\detect\\road_features_yolo_inference\\a.avi: 480x640 (no detections), 259.5ms\n",
      "video 1/1 (frame 1102/0) E:\\JupyterNotebooks\\Road_problem\\runs\\detect\\road_features_yolo_inference\\a.avi: 480x640 (no detections), 236.6ms\n",
      "video 1/1 (frame 1103/0) E:\\JupyterNotebooks\\Road_problem\\runs\\detect\\road_features_yolo_inference\\a.avi: 480x640 (no detections), 258.3ms\n",
      "video 1/1 (frame 1104/0) E:\\JupyterNotebooks\\Road_problem\\runs\\detect\\road_features_yolo_inference\\a.avi: 480x640 (no detections), 259.1ms\n",
      "video 1/1 (frame 1105/0) E:\\JupyterNotebooks\\Road_problem\\runs\\detect\\road_features_yolo_inference\\a.avi: 480x640 (no detections), 244.6ms\n",
      "video 1/1 (frame 1106/0) E:\\JupyterNotebooks\\Road_problem\\runs\\detect\\road_features_yolo_inference\\a.avi: 480x640 (no detections), 195.5ms\n",
      "video 1/1 (frame 1107/0) E:\\JupyterNotebooks\\Road_problem\\runs\\detect\\road_features_yolo_inference\\a.avi: 480x640 (no detections), 273.5ms\n",
      "video 1/1 (frame 1108/0) E:\\JupyterNotebooks\\Road_problem\\runs\\detect\\road_features_yolo_inference\\a.avi: 480x640 (no detections), 268.6ms\n",
      "video 1/1 (frame 1109/0) E:\\JupyterNotebooks\\Road_problem\\runs\\detect\\road_features_yolo_inference\\a.avi: 480x640 (no detections), 270.0ms\n",
      "video 1/1 (frame 1110/0) E:\\JupyterNotebooks\\Road_problem\\runs\\detect\\road_features_yolo_inference\\a.avi: 480x640 (no detections), 165.6ms\n",
      "video 1/1 (frame 1111/0) E:\\JupyterNotebooks\\Road_problem\\runs\\detect\\road_features_yolo_inference\\a.avi: 480x640 (no detections), 159.4ms\n",
      "video 1/1 (frame 1112/0) E:\\JupyterNotebooks\\Road_problem\\runs\\detect\\road_features_yolo_inference\\a.avi: 480x640 (no detections), 161.0ms\n",
      "video 1/1 (frame 1113/0) E:\\JupyterNotebooks\\Road_problem\\runs\\detect\\road_features_yolo_inference\\a.avi: 480x640 (no detections), 162.7ms\n",
      "video 1/1 (frame 1114/0) E:\\JupyterNotebooks\\Road_problem\\runs\\detect\\road_features_yolo_inference\\a.avi: 480x640 (no detections), 158.6ms\n",
      "video 1/1 (frame 1115/0) E:\\JupyterNotebooks\\Road_problem\\runs\\detect\\road_features_yolo_inference\\a.avi: 480x640 (no detections), 166.0ms\n",
      "video 1/1 (frame 1116/0) E:\\JupyterNotebooks\\Road_problem\\runs\\detect\\road_features_yolo_inference\\a.avi: 480x640 (no detections), 157.1ms\n",
      "video 1/1 (frame 1117/0) E:\\JupyterNotebooks\\Road_problem\\runs\\detect\\road_features_yolo_inference\\a.avi: 480x640 (no detections), 240.7ms\n",
      "video 1/1 (frame 1118/0) E:\\JupyterNotebooks\\Road_problem\\runs\\detect\\road_features_yolo_inference\\a.avi: 480x640 (no detections), 243.1ms\n",
      "video 1/1 (frame 1119/0) E:\\JupyterNotebooks\\Road_problem\\runs\\detect\\road_features_yolo_inference\\a.avi: 480x640 (no detections), 537.3ms\n",
      "video 1/1 (frame 1120/0) E:\\JupyterNotebooks\\Road_problem\\runs\\detect\\road_features_yolo_inference\\a.avi: 480x640 (no detections), 203.2ms\n",
      "video 1/1 (frame 1121/0) E:\\JupyterNotebooks\\Road_problem\\runs\\detect\\road_features_yolo_inference\\a.avi: 480x640 (no detections), 195.3ms\n",
      "video 1/1 (frame 1122/0) E:\\JupyterNotebooks\\Road_problem\\runs\\detect\\road_features_yolo_inference\\a.avi: 480x640 (no detections), 214.6ms\n",
      "video 1/1 (frame 1123/0) E:\\JupyterNotebooks\\Road_problem\\runs\\detect\\road_features_yolo_inference\\a.avi: 480x640 (no detections), 173.0ms\n",
      "video 1/1 (frame 1124/0) E:\\JupyterNotebooks\\Road_problem\\runs\\detect\\road_features_yolo_inference\\a.avi: 480x640 (no detections), 217.0ms\n",
      "video 1/1 (frame 1125/0) E:\\JupyterNotebooks\\Road_problem\\runs\\detect\\road_features_yolo_inference\\a.avi: 480x640 (no detections), 145.5ms\n",
      "video 1/1 (frame 1126/0) E:\\JupyterNotebooks\\Road_problem\\runs\\detect\\road_features_yolo_inference\\a.avi: 480x640 (no detections), 261.6ms\n",
      "video 1/1 (frame 1127/0) E:\\JupyterNotebooks\\Road_problem\\runs\\detect\\road_features_yolo_inference\\a.avi: 480x640 (no detections), 198.3ms\n",
      "video 1/1 (frame 1128/0) E:\\JupyterNotebooks\\Road_problem\\runs\\detect\\road_features_yolo_inference\\a.avi: 480x640 (no detections), 252.8ms\n",
      "video 1/1 (frame 1129/0) E:\\JupyterNotebooks\\Road_problem\\runs\\detect\\road_features_yolo_inference\\a.avi: 480x640 (no detections), 222.0ms\n",
      "video 1/1 (frame 1130/0) E:\\JupyterNotebooks\\Road_problem\\runs\\detect\\road_features_yolo_inference\\a.avi: 480x640 (no detections), 133.5ms\n",
      "video 1/1 (frame 1131/0) E:\\JupyterNotebooks\\Road_problem\\runs\\detect\\road_features_yolo_inference\\a.avi: 480x640 (no detections), 239.9ms\n",
      "video 1/1 (frame 1132/0) E:\\JupyterNotebooks\\Road_problem\\runs\\detect\\road_features_yolo_inference\\a.avi: 480x640 (no detections), 246.4ms\n",
      "Speed: 3.9ms preprocess, 220.1ms inference, 1.0ms postprocess per image at shape (1, 3, 480, 640)\n",
      "Event counts in video:\n",
      "Divider: 300\n",
      "Speed bumps: 12\n",
      "Cracks: 15\n",
      "Plain road: 90\n",
      "Rumble strips: 2\n"
     ]
    }
   ],
   "source": [
    "from ultralytics import YOLO\n",
    "from collections import Counter\n",
    "\n",
    "# Load your trained model (replace with your model path or a pretrained one)\n",
    "model = YOLO(r'E:\\JupyterNotebooks\\Road_problem\\runs\\detect\\road_features_yolo2\\weights\\best.pt')\n",
    "\n",
    "# Path to your input video\n",
    "video_path = r'E:\\JupyterNotebooks\\Road_problem\\runs\\detect\\road_features_yolo_inference\\a.avi'\n",
    "\n",
    "# Run prediction on video\n",
    "results = model.predict(source=video_path, stream=True)  # stream=True gives frame-by-frame results\n",
    "\n",
    "# Create a counter for detected classes\n",
    "event_counts = Counter()\n",
    "\n",
    "# Your class names (make sure this matches your dataset!)\n",
    "class_names = [\n",
    "    'Lane mark', 'Plain road', 'Manhole', 'Divider', 'Speed bumps', 'Cracks',\n",
    "    'Pothole', 'Zebra crossing', 'Footpath', 'Rumble strips', 'Sign board', 'Leading lines'\n",
    "]\n",
    "\n",
    "# Process results frame by frame\n",
    "for result in results:\n",
    "    # result.boxes.cls gives the class ids detected in the current frame\n",
    "    detected_classes = result.boxes.cls.cpu().numpy().astype(int)\n",
    "    # Count the occurrences of each detected class in the frame\n",
    "    event_counts.update(detected_classes)\n",
    "\n",
    "# Print counts with class names\n",
    "print(\"Event counts in video:\")\n",
    "for class_id, count in event_counts.items():\n",
    "    print(f\"{class_names[class_id]}: {count}\")\n"
   ]
  }
 ],
 "metadata": {
  "kernelspec": {
   "display_name": "Python 3 (ipykernel)",
   "language": "python",
   "name": "python3"
  },
  "language_info": {
   "codemirror_mode": {
    "name": "ipython",
    "version": 3
   },
   "file_extension": ".py",
   "mimetype": "text/x-python",
   "name": "python",
   "nbconvert_exporter": "python",
   "pygments_lexer": "ipython3",
   "version": "3.10.0"
  }
 },
 "nbformat": 4,
 "nbformat_minor": 5
}
